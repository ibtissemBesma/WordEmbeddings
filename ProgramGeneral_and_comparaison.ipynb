{
  "nbformat": 4,
  "nbformat_minor": 0,
  "metadata": {
    "colab": {
      "provenance": []
    },
    "kernelspec": {
      "name": "python3",
      "display_name": "Python 3"
    },
    "language_info": {
      "name": "python"
    },
    "gpuClass": "standard"
  },
  "cells": [
    {
      "cell_type": "markdown",
      "source": [
        "**Assignment 2: Word Embeddings using keras**\n",
        "\n",
        "---\n",
        "\n"
      ],
      "metadata": {
        "id": "hTnjK24-ugaY"
      }
    },
    {
      "cell_type": "markdown",
      "source": [
        "Import Packages\n"
      ],
      "metadata": {
        "id": "ExbMlNdkvNy9"
      }
    },
    {
      "cell_type": "code",
      "execution_count": null,
      "metadata": {
        "colab": {
          "base_uri": "https://localhost:8080/"
        },
        "id": "kemNws-uKdGE",
        "outputId": "60b7b5d1-4a18-4060-b4ae-fc4c33c0bb70"
      },
      "outputs": [
        {
          "output_type": "stream",
          "name": "stdout",
          "text": [
            "Looking in indexes: https://pypi.org/simple, https://us-python.pkg.dev/colab-wheels/public/simple/\n",
            "Collecting labml\n",
            "  Downloading labml-0.4.160-py3-none-any.whl (129 kB)\n",
            "\u001b[K     |████████████████████████████████| 129 kB 8.6 MB/s \n",
            "\u001b[?25hCollecting gitpython\n",
            "  Downloading GitPython-3.1.29-py3-none-any.whl (182 kB)\n",
            "\u001b[K     |████████████████████████████████| 182 kB 44.6 MB/s \n",
            "\u001b[?25hRequirement already satisfied: pyyaml in /usr/local/lib/python3.7/dist-packages (from labml) (6.0)\n",
            "Requirement already satisfied: numpy in /usr/local/lib/python3.7/dist-packages (from labml) (1.21.6)\n",
            "Requirement already satisfied: typing-extensions>=3.7.4.3 in /usr/local/lib/python3.7/dist-packages (from gitpython->labml) (4.1.1)\n",
            "Collecting gitdb<5,>=4.0.1\n",
            "  Downloading gitdb-4.0.9-py3-none-any.whl (63 kB)\n",
            "\u001b[K     |████████████████████████████████| 63 kB 1.3 MB/s \n",
            "\u001b[?25hCollecting smmap<6,>=3.0.1\n",
            "  Downloading smmap-5.0.0-py3-none-any.whl (24 kB)\n",
            "Installing collected packages: smmap, gitdb, gitpython, labml\n",
            "Successfully installed gitdb-4.0.9 gitpython-3.1.29 labml-0.4.160 smmap-5.0.0\n"
          ]
        }
      ],
      "source": [
        "!pip install labml"
      ]
    },
    {
      "cell_type": "code",
      "source": [
        "import numpy as np  \n",
        "import tensorflow as tf\n",
        "from tensorflow.keras.preprocessing.text import one_hot\n",
        "from tensorflow.keras.models import Sequential\n",
        "from tensorflow.keras.layers import Dense\n",
        "from tensorflow.keras.layers import Flatten\n",
        "from tensorflow.keras.layers import Embedding\n",
        "from keras.utils import np_utils, pad_sequences\n",
        "from keras.preprocessing.text import Tokenizer\n",
        "from labml import logger\n",
        "from labml.logger import Text, Color\n",
        "import nltk\n",
        "from nltk.tokenize import word_tokenize\n",
        "import re\n",
        "from collections import Counter, defaultdict\n",
        "import string\n",
        "from pickle import dump, load\n",
        "from unicodedata import normalize\n",
        "import pandas as pd \n",
        "import random\n",
        "from scipy import linalg\n",
        "from matplotlib import pyplot\n",
        "%config InlineBackend.figure_format = 'svg'\n",
        "from scipy import linalg"
      ],
      "metadata": {
        "id": "hoZpF_wcKiTq"
      },
      "execution_count": null,
      "outputs": []
    },
    {
      "cell_type": "markdown",
      "source": [
        "Mount drive"
      ],
      "metadata": {
        "id": "eOf2kP_TvX3I"
      }
    },
    {
      "cell_type": "code",
      "source": [
        "#Load Data\n",
        "from google.colab import drive\n",
        "drive.mount('/content/gdrive')"
      ],
      "metadata": {
        "colab": {
          "base_uri": "https://localhost:8080/"
        },
        "id": "4thZqvpEKj6a",
        "outputId": "fb08ada4-9ce6-4398-faff-dc47b83956df"
      },
      "execution_count": null,
      "outputs": [
        {
          "output_type": "stream",
          "name": "stdout",
          "text": [
            "Mounted at /content/gdrive\n"
          ]
        }
      ]
    },
    {
      "cell_type": "markdown",
      "source": [
        "Prepare dataset functions"
      ],
      "metadata": {
        "id": "-IXQV-T8vc2R"
      }
    },
    {
      "cell_type": "code",
      "source": [
        "def load_clean_sentences(filename):\n",
        "\treturn load(open(filename, 'rb'))\n",
        " \n",
        "def tokenize(sentance):\n",
        "  return sentance.strip().split(' ')\n",
        "def link_words_and_indexes(data):\n",
        "    words = sorted(list(set(data)))\n",
        "    n = len(words)\n",
        "    idx = 0\n",
        "    word2Ind = {}\n",
        "    Ind2word = {}\n",
        "    for k in words:\n",
        "        word2Ind[k] = idx\n",
        "        Ind2word[idx] = k\n",
        "        idx += 1\n",
        "    return word2Ind, Ind2word\n",
        "def get_idx(words, word2Ind):\n",
        "    idx = []\n",
        "    for word in words:\n",
        "        idx = idx + [word2Ind[word]]\n",
        "    return idx\n",
        "def pack_idx_with_word_frequency(context_words, word2Ind):\n",
        "    freq_dict = defaultdict(int)\n",
        "    for word in context_words:\n",
        "        freq_dict[word] += 1\n",
        "    idxs = get_idx(context_words, word2Ind)\n",
        "    packed = []\n",
        "    for i in range(len(idxs)):\n",
        "        idx = idxs[i]\n",
        "        freq = freq_dict[context_words[i]]\n",
        "        packed.append((idx, freq))\n",
        "    return packed\n",
        "def get_vectors(data, word2Ind, V, C):\n",
        "    i = C\n",
        "    while True:\n",
        "        y = np.zeros(V)\n",
        "        x = np.zeros(V)\n",
        "        center_word = data[i]\n",
        "        y[word2Ind[center_word]] = 1\n",
        "\n",
        "        context_words = data[(i - C):i] + data[(i+1):(i+C+1)]\n",
        "        num_ctx_words = len(context_words)\n",
        "        for idx, freq in pack_idx_with_word_frequency(context_words, word2Ind):\n",
        "            x[idx] = freq/num_ctx_words\n",
        "        yield x, y\n",
        "        i += 1\n",
        "        if i >= len(data):\n",
        "            logger.log('i is being set to 0', Text.warning)\n",
        "            i = 0\n",
        "def generate_tokens_data(french_vocab, english_vocab):\n",
        "  english_data, french_data = [],[]\n",
        "  for french_sentence, english_sentence in zip(french_vocab, english_vocab):\n",
        "    french_tokens = tokenize(french_sentence)\n",
        "    english_tokens = tokenize(english_sentence)\n",
        "    french_data.extend(french_tokens)\n",
        "    french_data.append('.')\n",
        "    english_data.extend(english_tokens)\n",
        "    english_data.append('.')\n",
        "  return english_data, french_data\n",
        "def generate_tokens(sentence):\n",
        "  tokens=[]\n",
        "  tokens = tokenize(sentence)\n",
        "  return tokens"
      ],
      "metadata": {
        "id": "92ORN_vkKrIH"
      },
      "execution_count": null,
      "outputs": []
    },
    {
      "cell_type": "markdown",
      "source": [
        "Prepare CBOW dataset : context and target indexes"
      ],
      "metadata": {
        "id": "gEyAVz_FxI0i"
      }
    },
    {
      "cell_type": "code",
      "source": [
        "def generate_context_word_pairs(corpus, window_size, vocab_size,word2Ind_en):\n",
        "    X = []\n",
        "    Y = []\n",
        "    h=0\n",
        "    context_length = window_size*2\n",
        "    for index_sentence,words in enumerate(corpus):\n",
        "      tokens_of_sentense=generate_tokens(words)\n",
        "      sentence_length=len(tokens_of_sentense)\n",
        "      for index, word in enumerate(tokens_of_sentense):\n",
        "        context=[]\n",
        "        start = index - window_size\n",
        "        end = index + window_size + 1\n",
        "        if (end >= sentence_length):\n",
        "            end=sentence_length-1\n",
        "        if start <0:\n",
        "          start=0\n",
        "        i=start\n",
        "        context = [tokens_of_sentense[i] for i in range(start, end)if 0 <= i < sentence_length and i != index]\n",
        "        context_vector=[word2Ind_en[word_context] for i,word_context in enumerate(context)]\n",
        "        target_vector=word2Ind_en[word]\n",
        "        x = pad_sequences([context_vector], maxlen=context_length,padding='post')\n",
        "        new_x=np.append(x,target_vector)\n",
        "        yield new_x\n",
        "def get_context_target(english_vocab, word2Ind_en, N, V_en, num_epochs,mode=\"EN\"):\n",
        "  df = pd.DataFrame(columns=['x1', 'x2', 'x3', 'x4','target'])\n",
        "  window_size =2\n",
        "  for x in generate_context_word_pairs(corpus=english_vocab, window_size=window_size, vocab_size=V_en,word2Ind_en=word2Ind_en):\n",
        "    df.loc[len(df)]=x\n",
        "  if mode==\"EN\":\n",
        "    df.to_csv('/content/gdrive/MyDrive/Projet/context_targetEN.csv', index=False)\n",
        "  else:\n",
        "    df.to_csv('/content/gdrive/MyDrive/Projet/context_targetFR.csv', index=False)\n",
        "  return df"
      ],
      "metadata": {
        "id": "dcnv5LQCxEej"
      },
      "execution_count": null,
      "outputs": []
    },
    {
      "cell_type": "markdown",
      "source": [],
      "metadata": {
        "id": "G52dQwpWybCv"
      }
    },
    {
      "cell_type": "code",
      "source": [
        "def train_model(df,english_vocab, word2Ind_en, N, V_en, num_epochs,mode=\"EN\"):\n",
        "  x_train= df.iloc[:,[0,1,2,3]]\n",
        "  x_train=np.asarray(x_train).astype(\"float32\")\n",
        "  y_train=df.iloc[:,[4]]\n",
        "  y_train = list(y_train.to_numpy().reshape(1,-1))\n",
        "  embeded_vector_size=N\n",
        "  max_length=4\n",
        "  y_train = tf.keras.utils.to_categorical(y_train[0], num_classes=V_en)\n",
        "  model=Sequential()\n",
        "  model.add(Embedding(V_en,  # Vocabulary size\n",
        "                      embeded_vector_size, #Word embeddings size\n",
        "                      input_length=max_length, \n",
        "                      name=\"embedding\"))\n",
        "  model.add(Flatten())\n",
        "  model.add(Dense(V_en,activation='softmax'))\n",
        "  model.compile(optimizer='adam',loss='categorical_crossentropy',metrics=['accuracy'])\n",
        "  model.summary()\n",
        "  model.fit(x_train,y_train,epochs=num_epochs)\n",
        "  loss,accuracy= model.evaluate(x_train,y_train)\n",
        "  weights=model.get_layer('embedding').get_weights()[0]\n",
        "  embeddings= {(w,idx):weights[idx] for w,idx in word2Ind_en.items() }\n",
        "  #words_embeddings = {w:weights[idx] for w, idx in word2Ind_en.items()}\n",
        "  return embeddings"
      ],
      "metadata": {
        "id": "sHuh19eJx26Q"
      },
      "execution_count": null,
      "outputs": []
    },
    {
      "cell_type": "code",
      "source": [
        "def prepare_words_for_inference(filename):\n",
        "  english_words, french_words = [], []\n",
        "  with open(words_filetxt_pth, 'r') as f:\n",
        "    lines = f.readlines()\n",
        "  for line in lines:\n",
        "    en_word, fr_word = line[:-1].split(' ')\n",
        "    english_words.append(en_word)\n",
        "    french_words.append(fr_word)\n",
        "  return english_words, french_words\n",
        "def prepare_indexes(english_data, french_data, english_words, french_words, word2Ind_en, word2Ind_fr, mode='EN'):\n",
        "  existed_words = []\n",
        "  translated_words = []\n",
        "  max_words = 1500\n",
        "  if mode == 'EN':\n",
        "    words = english_words[:max_words]\n",
        "  else:\n",
        "    words = french_words[:max_words]\n",
        "  for idx,word in enumerate(words):\n",
        "    if mode == 'EN':\n",
        "      if word in english_data and french_words[idx] in french_data:\n",
        "        existed_words.append(word) \n",
        "        translated_words.append(french_words[idx])\n",
        "    else:\n",
        "      if word in french_data and english_words[idx] in english_data:\n",
        "        existed_words.append(word) \n",
        "        translated_words.append(english_words[idx])\n",
        "  if mode == \"EN\":\n",
        "    existed_idx = [word2Ind_en[word] for word in existed_words]\n",
        "    translated_idx = [word2Ind_fr[word] for word in translated_words]\n",
        "  else:\n",
        "    existed_idx = [word2Ind_fr[word] for word in existed_words]\n",
        "    translated_idx = [word2Ind_en[word] for word in translated_words]\n",
        "  return existed_words, translated_words, existed_idx, translated_idx\n",
        "def extract_embeddings(weights_en, weights_fr, indexes_en, indexes_fr):\n",
        "  return weights_en[indexes_en, :], weights_fr[indexes_fr, :]   \n",
        "def save_embeddings_to_df(weights_en, weights_fr, indexes_en, indexes_fr, words_en, words_fr, embeddings_vf_pth = '/content/gdrive/MyDrive/Projet/embeddings_vf.csv'):\n",
        "  en_embeddings, fr_embeddings = extract_embeddings(weights_en, weights_fr, indexes_en, indexes_fr)\n",
        "  df = pd.DataFrame(columns=['EN-Word', 'EN-Embedding', 'FR-Word', 'FR-Embedding'])\n",
        "  df['EN-Word'] = words_en\n",
        "  df['EN-Embedding'] = [en_embeddings[idx].tolist() for idx in range(len(en_embeddings))]\n",
        "  df['FR-Embedding'] = [fr_embeddings[idx].tolist() for idx in range(len(fr_embeddings))]\n",
        "  df['FR-Word'] = words_fr\n",
        "  df.to_csv(embeddings_vf_pth, index = False, header=True)\n",
        "  return words_en,en_embeddings,words_fr, fr_embeddings\n",
        "def get_weights(df):\n",
        "  array = []\n",
        "  for idx, row in df.iterrows():\n",
        "    array.append(df.loc[idx, :].values.tolist())\n",
        "  return np.array(array)"
      ],
      "metadata": {
        "id": "-V5XLwbOwgUt"
      },
      "execution_count": null,
      "outputs": []
    },
    {
      "cell_type": "markdown",
      "source": [
        "Visualisation function"
      ],
      "metadata": {
        "id": "nFJZjppyw0dj"
      }
    },
    {
      "cell_type": "code",
      "source": [
        "#Réduction de dementions\n",
        "def compute_pca(data, n_components=2):\n",
        "    m, n = data.shape\n",
        "    data -= data.mean(axis=0)\n",
        "    R = np.cov(data, rowvar=False)\n",
        "    evals, evecs = linalg.eigh(R)\n",
        "    idx = np.argsort(evals)[::-1]\n",
        "    evecs = evecs[:, idx]\n",
        "    evals = evals[idx]\n",
        "    evecs = evecs[:, :n_components]\n",
        "    return np.dot(evecs.T, data.T).T"
      ],
      "metadata": {
        "id": "4gdysTwpwuyT"
      },
      "execution_count": null,
      "outputs": []
    },
    {
      "cell_type": "code",
      "source": [
        "english_vocab_pth = '/content/gdrive/MyDrive/Projet/english_vocab.pkl'\n",
        "english_vocab = load_clean_sentences(english_vocab_pth)\n",
        "french_vocab_pth = '/content/gdrive/MyDrive/Projet/french_vocab.pkl'\n",
        "french_vocab = load_clean_sentences(french_vocab_pth)"
      ],
      "metadata": {
        "id": "RTytvVpnKu8V"
      },
      "execution_count": null,
      "outputs": []
    },
    {
      "cell_type": "code",
      "source": [
        "english_vocab=english_vocab[:200]\n",
        "french_vocab=french_vocab[:200]"
      ],
      "metadata": {
        "id": "7UdkIdX_Kxcc"
      },
      "execution_count": null,
      "outputs": []
    },
    {
      "cell_type": "code",
      "source": [
        "len(english_vocab)"
      ],
      "metadata": {
        "colab": {
          "base_uri": "https://localhost:8080/"
        },
        "id": "8OMzW86k9K5-",
        "outputId": "8ddc6d22-d925-4817-d946-4fa91013a512"
      },
      "execution_count": null,
      "outputs": [
        {
          "output_type": "execute_result",
          "data": {
            "text/plain": [
              "200"
            ]
          },
          "metadata": {},
          "execution_count": 7
        }
      ]
    },
    {
      "cell_type": "code",
      "source": [
        "#Tokenazation de vocabulaires\n",
        "english_data, french_data = generate_tokens_data(french_vocab, english_vocab)"
      ],
      "metadata": {
        "id": "sMWsPQWmKzF9"
      },
      "execution_count": null,
      "outputs": []
    },
    {
      "cell_type": "code",
      "source": [
        "word2Ind_en, Ind2word_en = link_words_and_indexes(english_data)\n",
        "word2Ind_fr, Ind2word_fr = link_words_and_indexes(french_data)\n",
        "V_en=len(word2Ind_en)\n",
        "V_fr=len(word2Ind_fr)\n",
        "num_epochs=50\n",
        "N=100"
      ],
      "metadata": {
        "id": "AQ2e1uvvKzaP"
      },
      "execution_count": null,
      "outputs": []
    },
    {
      "cell_type": "code",
      "source": [
        "V_en,V_fr"
      ],
      "metadata": {
        "colab": {
          "base_uri": "https://localhost:8080/"
        },
        "id": "Xd4bQby6ocEP",
        "outputId": "d26c35d0-0a93-4e40-a61a-3ced39580523"
      },
      "execution_count": null,
      "outputs": [
        {
          "output_type": "execute_result",
          "data": {
            "text/plain": [
              "(1209, 1431)"
            ]
          },
          "metadata": {},
          "execution_count": 10
        }
      ]
    },
    {
      "cell_type": "code",
      "source": [
        "#Génération de contexte et target\n",
        "df_context_target_fr = pd.DataFrame(columns=['x1', 'x2', 'x3', 'x4','target'])\n",
        "window_size =2\n",
        "for x in generate_context_word_pairs(corpus=french_vocab, window_size=window_size, vocab_size=V_fr,word2Ind_en=word2Ind_fr):\n",
        "   df_context_target_fr.loc[len(df_context_target_fr)]=x"
      ],
      "metadata": {
        "id": "LJkvFABMTSe8"
      },
      "execution_count": null,
      "outputs": []
    },
    {
      "cell_type": "code",
      "source": [
        "df_context_target_fr.shape"
      ],
      "metadata": {
        "colab": {
          "base_uri": "https://localhost:8080/"
        },
        "id": "LnrH8_4_Aqxr",
        "outputId": "a63b5061-b1e7-434a-e731-def9352d8d06"
      },
      "execution_count": null,
      "outputs": [
        {
          "output_type": "execute_result",
          "data": {
            "text/plain": [
              "(5219, 5)"
            ]
          },
          "metadata": {},
          "execution_count": 12
        }
      ]
    },
    {
      "cell_type": "code",
      "source": [
        "df_context_target_en = pd.DataFrame(columns=['x1', 'x2', 'x3', 'x4','target'])\n",
        "window_size =2\n",
        "for x in generate_context_word_pairs(corpus=english_vocab, window_size=window_size, vocab_size=V_en,word2Ind_en=word2Ind_en):\n",
        "   df_context_target_en.loc[len(df_context_target_en)]=x"
      ],
      "metadata": {
        "id": "s-gUNpkaTpge"
      },
      "execution_count": null,
      "outputs": []
    },
    {
      "cell_type": "code",
      "source": [
        "num_epochs=40\n",
        "words_emb_fr=train_model(df_context_target_fr,french_vocab, word2Ind_fr, N, V_fr, num_epochs,mode=\"EN\")"
      ],
      "metadata": {
        "id": "bxBxsWn4AA6e",
        "colab": {
          "base_uri": "https://localhost:8080/"
        },
        "outputId": "87ea18bf-08e5-4d24-a6dc-7ddedf6b4b1a"
      },
      "execution_count": null,
      "outputs": [
        {
          "output_type": "stream",
          "name": "stdout",
          "text": [
            "Model: \"sequential\"\n",
            "_________________________________________________________________\n",
            " Layer (type)                Output Shape              Param #   \n",
            "=================================================================\n",
            " embedding (Embedding)       (None, 4, 100)            143100    \n",
            "                                                                 \n",
            " flatten (Flatten)           (None, 400)               0         \n",
            "                                                                 \n",
            " dense (Dense)               (None, 1431)              573831    \n",
            "                                                                 \n",
            "=================================================================\n",
            "Total params: 716,931\n",
            "Trainable params: 716,931\n",
            "Non-trainable params: 0\n",
            "_________________________________________________________________\n",
            "Epoch 1/40\n",
            "164/164 [==============================] - 3s 13ms/step - loss: 7.0748 - accuracy: 0.0728\n",
            "Epoch 2/40\n",
            "164/164 [==============================] - 2s 14ms/step - loss: 5.9812 - accuracy: 0.0902\n",
            "Epoch 3/40\n",
            "164/164 [==============================] - 2s 14ms/step - loss: 5.1827 - accuracy: 0.1416\n",
            "Epoch 4/40\n",
            "164/164 [==============================] - 2s 14ms/step - loss: 4.3462 - accuracy: 0.2253\n",
            "Epoch 5/40\n",
            "164/164 [==============================] - 2s 14ms/step - loss: 3.4742 - accuracy: 0.3209\n",
            "Epoch 6/40\n",
            "164/164 [==============================] - 2s 14ms/step - loss: 2.6797 - accuracy: 0.4608\n",
            "Epoch 7/40\n",
            "164/164 [==============================] - 2s 13ms/step - loss: 2.0230 - accuracy: 0.6099\n",
            "Epoch 8/40\n",
            "164/164 [==============================] - 2s 14ms/step - loss: 1.5214 - accuracy: 0.7204\n",
            "Epoch 9/40\n",
            "164/164 [==============================] - 2s 14ms/step - loss: 1.1582 - accuracy: 0.7933\n",
            "Epoch 10/40\n",
            "164/164 [==============================] - 2s 14ms/step - loss: 0.8927 - accuracy: 0.8536\n",
            "Epoch 11/40\n",
            "164/164 [==============================] - 3s 17ms/step - loss: 0.6976 - accuracy: 0.8940\n",
            "Epoch 12/40\n",
            "164/164 [==============================] - 3s 20ms/step - loss: 0.5521 - accuracy: 0.9237\n",
            "Epoch 13/40\n",
            "164/164 [==============================] - 2s 14ms/step - loss: 0.4428 - accuracy: 0.9435\n",
            "Epoch 14/40\n",
            "164/164 [==============================] - 2s 14ms/step - loss: 0.3598 - accuracy: 0.9571\n",
            "Epoch 15/40\n",
            "164/164 [==============================] - 2s 14ms/step - loss: 0.2957 - accuracy: 0.9670\n",
            "Epoch 16/40\n",
            "164/164 [==============================] - 2s 13ms/step - loss: 0.2464 - accuracy: 0.9730\n",
            "Epoch 17/40\n",
            "164/164 [==============================] - 2s 14ms/step - loss: 0.2077 - accuracy: 0.9783\n",
            "Epoch 18/40\n",
            "164/164 [==============================] - 2s 14ms/step - loss: 0.1767 - accuracy: 0.9816\n",
            "Epoch 19/40\n",
            "164/164 [==============================] - 2s 14ms/step - loss: 0.1517 - accuracy: 0.9835\n",
            "Epoch 20/40\n",
            "164/164 [==============================] - 2s 13ms/step - loss: 0.1316 - accuracy: 0.9862\n",
            "Epoch 21/40\n",
            "164/164 [==============================] - 2s 14ms/step - loss: 0.1152 - accuracy: 0.9875\n",
            "Epoch 22/40\n",
            "164/164 [==============================] - 2s 13ms/step - loss: 0.1025 - accuracy: 0.9875\n",
            "Epoch 23/40\n",
            "164/164 [==============================] - 2s 14ms/step - loss: 0.0905 - accuracy: 0.9893\n",
            "Epoch 24/40\n",
            "164/164 [==============================] - 2s 14ms/step - loss: 0.0817 - accuracy: 0.9887\n",
            "Epoch 25/40\n",
            "164/164 [==============================] - 2s 14ms/step - loss: 0.0731 - accuracy: 0.9889\n",
            "Epoch 26/40\n",
            "164/164 [==============================] - 2s 13ms/step - loss: 0.0666 - accuracy: 0.9904\n",
            "Epoch 27/40\n",
            "164/164 [==============================] - 2s 13ms/step - loss: 0.0618 - accuracy: 0.9895\n",
            "Epoch 28/40\n",
            "164/164 [==============================] - 2s 14ms/step - loss: 0.0569 - accuracy: 0.9898\n",
            "Epoch 29/40\n",
            "164/164 [==============================] - 2s 14ms/step - loss: 0.0528 - accuracy: 0.9898\n",
            "Epoch 30/40\n",
            "164/164 [==============================] - 2s 13ms/step - loss: 0.0526 - accuracy: 0.9898\n",
            "Epoch 31/40\n",
            "164/164 [==============================] - 2s 13ms/step - loss: 0.0479 - accuracy: 0.9893\n",
            "Epoch 32/40\n",
            "164/164 [==============================] - 2s 14ms/step - loss: 0.0430 - accuracy: 0.9900\n",
            "Epoch 33/40\n",
            "164/164 [==============================] - 2s 14ms/step - loss: 0.0420 - accuracy: 0.9897\n",
            "Epoch 34/40\n",
            "164/164 [==============================] - 2s 13ms/step - loss: 0.0397 - accuracy: 0.9891\n",
            "Epoch 35/40\n",
            "164/164 [==============================] - 2s 13ms/step - loss: 0.0392 - accuracy: 0.9883\n",
            "Epoch 36/40\n",
            "164/164 [==============================] - 2s 14ms/step - loss: 0.0361 - accuracy: 0.9898\n",
            "Epoch 37/40\n",
            "164/164 [==============================] - 2s 14ms/step - loss: 0.0350 - accuracy: 0.9898\n",
            "Epoch 38/40\n",
            "164/164 [==============================] - 2s 13ms/step - loss: 0.0338 - accuracy: 0.9898\n",
            "Epoch 39/40\n",
            "164/164 [==============================] - 2s 13ms/step - loss: 0.0330 - accuracy: 0.9900\n",
            "Epoch 40/40\n",
            "164/164 [==============================] - 2s 14ms/step - loss: 0.0313 - accuracy: 0.9900\n",
            "164/164 [==============================] - 1s 5ms/step - loss: 0.0234 - accuracy: 0.9925\n"
          ]
        }
      ]
    },
    {
      "cell_type": "code",
      "source": [
        "df_words_emb_fr=pd.DataFrame(words_emb_fr).T\n",
        "df_words_emb_fr.to_csv(\"/content/gdrive/MyDrive/Projet/embeddings_Words_fr\")"
      ],
      "metadata": {
        "id": "R3Bv7TI7B3zm"
      },
      "execution_count": null,
      "outputs": []
    },
    {
      "cell_type": "code",
      "source": [
        "words_emb_en=train_model(df_context_target_en,english_vocab, word2Ind_en, N, V_en, num_epochs,mode=\"EN\")"
      ],
      "metadata": {
        "id": "qDINA4Qt5hTZ",
        "colab": {
          "base_uri": "https://localhost:8080/"
        },
        "outputId": "32eb5ed6-80c7-4161-ddbf-455158490dad"
      },
      "execution_count": null,
      "outputs": [
        {
          "output_type": "stream",
          "name": "stdout",
          "text": [
            "Model: \"sequential_1\"\n",
            "_________________________________________________________________\n",
            " Layer (type)                Output Shape              Param #   \n",
            "=================================================================\n",
            " embedding (Embedding)       (None, 4, 100)            120900    \n",
            "                                                                 \n",
            " flatten_1 (Flatten)         (None, 400)               0         \n",
            "                                                                 \n",
            " dense_1 (Dense)             (None, 1209)              484809    \n",
            "                                                                 \n",
            "=================================================================\n",
            "Total params: 605,709\n",
            "Trainable params: 605,709\n",
            "Non-trainable params: 0\n",
            "_________________________________________________________________\n",
            "Epoch 1/40\n",
            "158/158 [==============================] - 2s 12ms/step - loss: 6.8880 - accuracy: 0.0852\n",
            "Epoch 2/40\n",
            "158/158 [==============================] - 2s 12ms/step - loss: 5.7804 - accuracy: 0.1077\n",
            "Epoch 3/40\n",
            "158/158 [==============================] - 2s 12ms/step - loss: 5.0274 - accuracy: 0.1546\n",
            "Epoch 4/40\n",
            "158/158 [==============================] - 2s 12ms/step - loss: 4.3283 - accuracy: 0.2144\n",
            "Epoch 5/40\n",
            "158/158 [==============================] - 2s 12ms/step - loss: 3.6109 - accuracy: 0.2881\n",
            "Epoch 6/40\n",
            "158/158 [==============================] - 2s 12ms/step - loss: 2.9130 - accuracy: 0.3964\n",
            "Epoch 7/40\n",
            "158/158 [==============================] - 2s 12ms/step - loss: 2.2988 - accuracy: 0.5335\n",
            "Epoch 8/40\n",
            "158/158 [==============================] - 2s 12ms/step - loss: 1.8015 - accuracy: 0.6402\n",
            "Epoch 9/40\n",
            "158/158 [==============================] - 2s 12ms/step - loss: 1.4193 - accuracy: 0.7191\n",
            "Epoch 10/40\n",
            "158/158 [==============================] - 2s 12ms/step - loss: 1.1296 - accuracy: 0.7870\n",
            "Epoch 11/40\n",
            "158/158 [==============================] - 2s 12ms/step - loss: 0.9072 - accuracy: 0.8391\n",
            "Epoch 12/40\n",
            "158/158 [==============================] - 2s 12ms/step - loss: 0.7368 - accuracy: 0.8788\n",
            "Epoch 13/40\n",
            "158/158 [==============================] - 2s 12ms/step - loss: 0.6035 - accuracy: 0.9058\n",
            "Epoch 14/40\n",
            "158/158 [==============================] - 2s 12ms/step - loss: 0.4988 - accuracy: 0.9293\n",
            "Epoch 15/40\n",
            "158/158 [==============================] - 2s 12ms/step - loss: 0.4168 - accuracy: 0.9426\n",
            "Epoch 16/40\n",
            "158/158 [==============================] - 2s 12ms/step - loss: 0.3524 - accuracy: 0.9505\n",
            "Epoch 17/40\n",
            "158/158 [==============================] - 2s 12ms/step - loss: 0.3015 - accuracy: 0.9583\n",
            "Epoch 18/40\n",
            "158/158 [==============================] - 2s 12ms/step - loss: 0.2599 - accuracy: 0.9642\n",
            "Epoch 19/40\n",
            "158/158 [==============================] - 2s 12ms/step - loss: 0.2259 - accuracy: 0.9672\n",
            "Epoch 20/40\n",
            "158/158 [==============================] - 2s 12ms/step - loss: 0.1996 - accuracy: 0.9716\n",
            "Epoch 21/40\n",
            "158/158 [==============================] - 2s 12ms/step - loss: 0.1776 - accuracy: 0.9738\n",
            "Epoch 22/40\n",
            "158/158 [==============================] - 2s 12ms/step - loss: 0.1578 - accuracy: 0.9740\n",
            "Epoch 23/40\n",
            "158/158 [==============================] - 2s 12ms/step - loss: 0.1421 - accuracy: 0.9773\n",
            "Epoch 24/40\n",
            "158/158 [==============================] - 2s 12ms/step - loss: 0.1294 - accuracy: 0.9781\n",
            "Epoch 25/40\n",
            "158/158 [==============================] - 2s 12ms/step - loss: 0.1195 - accuracy: 0.9779\n",
            "Epoch 26/40\n",
            "158/158 [==============================] - 2s 12ms/step - loss: 0.1096 - accuracy: 0.9793\n",
            "Epoch 27/40\n",
            "158/158 [==============================] - 2s 12ms/step - loss: 0.1024 - accuracy: 0.9775\n",
            "Epoch 28/40\n",
            "158/158 [==============================] - 2s 12ms/step - loss: 0.0955 - accuracy: 0.9785\n",
            "Epoch 29/40\n",
            "158/158 [==============================] - 2s 12ms/step - loss: 0.0893 - accuracy: 0.9787\n",
            "Epoch 30/40\n",
            "158/158 [==============================] - 2s 13ms/step - loss: 0.0859 - accuracy: 0.9775\n",
            "Epoch 31/40\n",
            "158/158 [==============================] - 2s 11ms/step - loss: 0.0825 - accuracy: 0.9768\n",
            "Epoch 32/40\n",
            "158/158 [==============================] - 2s 12ms/step - loss: 0.0780 - accuracy: 0.9779\n",
            "Epoch 33/40\n",
            "158/158 [==============================] - 2s 12ms/step - loss: 0.0735 - accuracy: 0.9781\n",
            "Epoch 34/40\n",
            "158/158 [==============================] - 2s 12ms/step - loss: 0.0710 - accuracy: 0.9770\n",
            "Epoch 35/40\n",
            "158/158 [==============================] - 2s 13ms/step - loss: 0.0697 - accuracy: 0.9764\n",
            "Epoch 36/40\n",
            "158/158 [==============================] - 2s 12ms/step - loss: 0.0674 - accuracy: 0.9768\n",
            "Epoch 37/40\n",
            "158/158 [==============================] - 2s 12ms/step - loss: 0.0638 - accuracy: 0.9783\n",
            "Epoch 38/40\n",
            "158/158 [==============================] - 2s 12ms/step - loss: 0.0629 - accuracy: 0.9775\n",
            "Epoch 39/40\n",
            "158/158 [==============================] - 2s 12ms/step - loss: 0.0607 - accuracy: 0.9777\n",
            "Epoch 40/40\n",
            "158/158 [==============================] - 2s 11ms/step - loss: 0.0596 - accuracy: 0.9783\n",
            "158/158 [==============================] - 1s 5ms/step - loss: 0.0442 - accuracy: 0.9825\n"
          ]
        }
      ]
    },
    {
      "cell_type": "code",
      "source": [
        "df_words_emb_en=pd.DataFrame(words_emb_en).T\n",
        "df_words_emb_en.to_csv(\"/content/gdrive/MyDrive/Projet/embeddings_Words_en\")"
      ],
      "metadata": {
        "id": "2ImuYg2FSqDg"
      },
      "execution_count": null,
      "outputs": []
    },
    {
      "cell_type": "markdown",
      "source": [
        "Extract Embeddings"
      ],
      "metadata": {
        "id": "aczMnTXlMBBj"
      }
    },
    {
      "cell_type": "code",
      "source": [
        "emb_en=get_weights(df_words_emb_en)\n",
        "emb_fr=get_weights(df_words_emb_fr)"
      ],
      "metadata": {
        "id": "E6ihUBNiNOgu"
      },
      "execution_count": null,
      "outputs": []
    },
    {
      "cell_type": "code",
      "source": [
        "def compute_transformation_matrix(fr_emb, en_emb):\n",
        "  U, S, Vh = np.linalg.svd(np.dot(fr_emb.T, en_emb))  \n",
        "  return np.dot(U, Vh)"
      ],
      "metadata": {
        "id": "Fr8qsICePhmn"
      },
      "execution_count": null,
      "outputs": []
    },
    {
      "cell_type": "code",
      "source": [
        "words_filetxt_pth='/content/gdrive/MyDrive/Projet/en-fr.txt'\n",
        "english_words, french_words = prepare_words_for_inference(words_filetxt_pth)\n",
        "words_en, words_fr, indexes_en, indexes_fr = prepare_indexes(english_data, french_data, english_words, french_words, word2Ind_en, word2Ind_fr)\n",
        "words_en,en_embeddings,words_fr, fr_embeddings = save_embeddings_to_df(emb_en,emb_fr, indexes_en, indexes_fr, words_en, words_fr)\n"
      ],
      "metadata": {
        "id": "VZuDjeEPQGUn"
      },
      "execution_count": null,
      "outputs": []
    },
    {
      "cell_type": "code",
      "source": [
        "transformation_matrix = compute_transformation_matrix(fr_embeddings, en_embeddings)"
      ],
      "metadata": {
        "id": "37CE78dZPmCm"
      },
      "execution_count": null,
      "outputs": []
    },
    {
      "cell_type": "code",
      "source": [
        "transformation_matrix.shape"
      ],
      "metadata": {
        "colab": {
          "base_uri": "https://localhost:8080/"
        },
        "id": "qRmo9jjEt6bj",
        "outputId": "d0771d7b-aef9-48cc-8e0f-9fbe6a5bb941"
      },
      "execution_count": null,
      "outputs": [
        {
          "output_type": "execute_result",
          "data": {
            "text/plain": [
              "(100, 100)"
            ]
          },
          "metadata": {},
          "execution_count": 22
        }
      ]
    },
    {
      "cell_type": "code",
      "source": [
        "def compute_transformation_matrix(fr_emb, en_emb):\n",
        "  U, S, Vh = np.linalg.svd(np.dot(fr_emb.T, en_emb))  \n",
        "  return np.dot(U, Vh)"
      ],
      "metadata": {
        "id": "-n_b-Fbrm8Y1"
      },
      "execution_count": null,
      "outputs": []
    },
    {
      "cell_type": "code",
      "source": [
        "fr_embeddings.shape, en_embeddings.shape"
      ],
      "metadata": {
        "colab": {
          "base_uri": "https://localhost:8080/"
        },
        "id": "lKh_guMvuM2N",
        "outputId": "9da43b04-4f63-42d9-d63a-e843741997dd"
      },
      "execution_count": null,
      "outputs": [
        {
          "output_type": "execute_result",
          "data": {
            "text/plain": [
              "((279, 100), (279, 100))"
            ]
          },
          "metadata": {},
          "execution_count": 24
        }
      ]
    },
    {
      "cell_type": "code",
      "source": [
        "transformation_matrix = compute_transformation_matrix(fr_embeddings, en_embeddings)"
      ],
      "metadata": {
        "id": "xFKLHMuEm9KL"
      },
      "execution_count": null,
      "outputs": []
    },
    {
      "cell_type": "code",
      "source": [
        "#fr_emb_translate=np.dot(en_embeddings,transformation_matrix)\n",
        "en_emb_translate=np.dot(fr_embeddings,transformation_matrix)"
      ],
      "metadata": {
        "id": "QEIQaLpQriu9"
      },
      "execution_count": null,
      "outputs": []
    },
    {
      "cell_type": "code",
      "source": [
        "fr_emb_translate"
      ],
      "metadata": {
        "colab": {
          "base_uri": "https://localhost:8080/"
        },
        "id": "FMKmWGzEKzel",
        "outputId": "72e622be-447b-4638-af4a-72b2ee019135"
      },
      "execution_count": null,
      "outputs": [
        {
          "output_type": "execute_result",
          "data": {
            "text/plain": [
              "array([[ 0.62042003, -0.11649614, -0.40345558, ..., -0.74036375,\n",
              "        -0.4720959 , -0.01785317],\n",
              "       [ 0.62042003, -0.11649614, -0.40345558, ..., -0.74036375,\n",
              "        -0.4720959 , -0.01785317],\n",
              "       [ 0.62042003, -0.11649614, -0.40345558, ..., -0.74036375,\n",
              "        -0.4720959 , -0.01785317],\n",
              "       ...,\n",
              "       [-0.24027634, -0.30906564,  0.02937302, ...,  0.39709767,\n",
              "         0.22742051,  0.44491087],\n",
              "       [-0.50113873,  0.03162606,  0.14916162, ...,  0.44656765,\n",
              "         0.03850552,  0.22400558],\n",
              "       [ 0.27270963,  0.05811806,  0.06916616, ..., -0.44069275,\n",
              "        -0.50932328,  0.05155256]])"
            ]
          },
          "metadata": {},
          "execution_count": 27
        }
      ]
    },
    {
      "cell_type": "code",
      "source": [
        "import numpy as np\n",
        "from numpy.linalg import norm\n",
        "def cosine_similarity(u, v):\n",
        "  return abs(np.dot(u, v) /  (norm (u)* norm(v)))"
      ],
      "metadata": {
        "id": "vk-2QTl4pT6u"
      },
      "execution_count": null,
      "outputs": []
    },
    {
      "cell_type": "code",
      "source": [
        "sample_idx=1\n",
        "from scipy import spatial\n",
        "logger.log(f'Cosine similarity betweens original embeddings and mapped embeddings = {cosine_similarity(en_embeddings[sample_idx], np.dot(transformation_matrix, fr_embeddings[sample_idx+30]))}', Text.value)"
      ],
      "metadata": {
        "colab": {
          "base_uri": "https://localhost:8080/",
          "height": 51
        },
        "id": "TDWUxa9gl8u5",
        "outputId": "1c2902cb-aeae-4d96-8aa5-1ef6781ff5b1"
      },
      "execution_count": null,
      "outputs": [
        {
          "output_type": "display_data",
          "data": {
            "text/plain": [
              "<IPython.core.display.HTML object>"
            ],
            "text/html": [
              "<pre style=\"overflow-x: scroll;\"><strong>Cosine similarity betweens original embeddings and mapped embeddings = 0.13482225962491645</strong></pre>"
            ]
          },
          "metadata": {}
        }
      ]
    },
    {
      "cell_type": "code",
      "source": [
        "result_pca_en = compute_pca(en_embeddings, 3)\n",
        "result_pca_fr = compute_pca(fr_embeddings, 3)\n",
        "pyplot.grid()\n",
        "pyplot.scatter(result_pca_en[:50, 0], result_pca_en[:50, 1], color=\"red\")\n",
        "for i, word in enumerate(words_en[:50]):\n",
        "    pyplot.annotate(word, xy=(result_pca_en[i, 0], result_pca_en[i, 1]), color=\"red\")\n",
        "pyplot.show()"
      ],
      "metadata": {
        "id": "gFSJj5kPom1N",
        "colab": {
          "base_uri": "https://localhost:8080/",
          "height": 352
        },
        "outputId": "1200f872-632f-4222-8410-25df2779c58d"
      },
      "execution_count": null,
      "outputs": [
        {
          "output_type": "display_data",
          "data": {
            "text/plain": [
              "<Figure size 432x288 with 1 Axes>"
            ],
            "image/svg+xml": "<?xml version=\"1.0\" encoding=\"utf-8\" standalone=\"no\"?>\n<!DOCTYPE svg PUBLIC \"-//W3C//DTD SVG 1.1//EN\"\n  \"http://www.w3.org/Graphics/SVG/1.1/DTD/svg11.dtd\">\n<!-- Created with matplotlib (https://matplotlib.org/) -->\n<svg height=\"248.518125pt\" version=\"1.1\" viewBox=\"0 0 380.261506 248.518125\" width=\"380.261506pt\" xmlns=\"http://www.w3.org/2000/svg\" xmlns:xlink=\"http://www.w3.org/1999/xlink\">\n <defs>\n  <style type=\"text/css\">\n*{stroke-linecap:butt;stroke-linejoin:round;}\n  </style>\n </defs>\n <g id=\"figure_1\">\n  <g id=\"patch_1\">\n   <path d=\"M 0 248.518125 \nL 380.261506 248.518125 \nL 380.261506 0 \nL 0 0 \nz\n\" style=\"fill:none;\"/>\n  </g>\n  <g id=\"axes_1\">\n   <g id=\"patch_2\">\n    <path d=\"M 28.942188 224.64 \nL 363.742188 224.64 \nL 363.742188 7.2 \nL 28.942188 7.2 \nz\n\" style=\"fill:#ffffff;\"/>\n   </g>\n   <g id=\"PathCollection_1\">\n    <defs>\n     <path d=\"M 0 3 \nC 0.795609 3 1.55874 2.683901 2.12132 2.12132 \nC 2.683901 1.55874 3 0.795609 3 0 \nC 3 -0.795609 2.683901 -1.55874 2.12132 -2.12132 \nC 1.55874 -2.683901 0.795609 -3 0 -3 \nC -0.795609 -3 -1.55874 -2.683901 -2.12132 -2.12132 \nC -2.683901 -1.55874 -3 -0.795609 -3 0 \nC -3 0.795609 -2.683901 1.55874 -2.12132 2.12132 \nC -1.55874 2.683901 -0.795609 3 0 3 \nz\n\" id=\"mf93ad1960f\" style=\"stroke:#ff0000;\"/>\n    </defs>\n    <g clip-path=\"url(#pa4ce083e91)\">\n     <use style=\"fill:#ff0000;stroke:#ff0000;\" x=\"44.160369\" xlink:href=\"#mf93ad1960f\" y=\"40.097573\"/>\n     <use style=\"fill:#ff0000;stroke:#ff0000;\" x=\"348.524006\" xlink:href=\"#mf93ad1960f\" y=\"84.193444\"/>\n     <use style=\"fill:#ff0000;stroke:#ff0000;\" x=\"144.457391\" xlink:href=\"#mf93ad1960f\" y=\"138.441558\"/>\n     <use style=\"fill:#ff0000;stroke:#ff0000;\" x=\"70.741943\" xlink:href=\"#mf93ad1960f\" y=\"57.342918\"/>\n     <use style=\"fill:#ff0000;stroke:#ff0000;\" x=\"135.201903\" xlink:href=\"#mf93ad1960f\" y=\"164.673793\"/>\n     <use style=\"fill:#ff0000;stroke:#ff0000;\" x=\"120.469013\" xlink:href=\"#mf93ad1960f\" y=\"17.083636\"/>\n     <use style=\"fill:#ff0000;stroke:#ff0000;\" x=\"86.879279\" xlink:href=\"#mf93ad1960f\" y=\"214.756364\"/>\n     <use style=\"fill:#ff0000;stroke:#ff0000;\" x=\"112.955655\" xlink:href=\"#mf93ad1960f\" y=\"145.134779\"/>\n    </g>\n   </g>\n   <g id=\"matplotlib.axis_1\">\n    <g id=\"xtick_1\">\n     <g id=\"line2d_1\">\n      <path clip-path=\"url(#pa4ce083e91)\" d=\"M 50.870264 224.64 \nL 50.870264 7.2 \n\" style=\"fill:none;stroke:#b0b0b0;stroke-linecap:square;stroke-width:0.8;\"/>\n     </g>\n     <g id=\"line2d_2\">\n      <defs>\n       <path d=\"M 0 0 \nL 0 3.5 \n\" id=\"m2e1127c7d4\" style=\"stroke:#000000;stroke-width:0.8;\"/>\n      </defs>\n      <g>\n       <use style=\"stroke:#000000;stroke-width:0.8;\" x=\"50.870264\" xlink:href=\"#m2e1127c7d4\" y=\"224.64\"/>\n      </g>\n     </g>\n     <g id=\"text_1\">\n      <!-- −2 -->\n      <defs>\n       <path d=\"M 10.59375 35.5 \nL 73.1875 35.5 \nL 73.1875 27.203125 \nL 10.59375 27.203125 \nz\n\" id=\"DejaVuSans-8722\"/>\n       <path d=\"M 19.1875 8.296875 \nL 53.609375 8.296875 \nL 53.609375 0 \nL 7.328125 0 \nL 7.328125 8.296875 \nQ 12.9375 14.109375 22.625 23.890625 \nQ 32.328125 33.6875 34.8125 36.53125 \nQ 39.546875 41.84375 41.421875 45.53125 \nQ 43.3125 49.21875 43.3125 52.78125 \nQ 43.3125 58.59375 39.234375 62.25 \nQ 35.15625 65.921875 28.609375 65.921875 \nQ 23.96875 65.921875 18.8125 64.3125 \nQ 13.671875 62.703125 7.8125 59.421875 \nL 7.8125 69.390625 \nQ 13.765625 71.78125 18.9375 73 \nQ 24.125 74.21875 28.421875 74.21875 \nQ 39.75 74.21875 46.484375 68.546875 \nQ 53.21875 62.890625 53.21875 53.421875 \nQ 53.21875 48.921875 51.53125 44.890625 \nQ 49.859375 40.875 45.40625 35.40625 \nQ 44.1875 33.984375 37.640625 27.21875 \nQ 31.109375 20.453125 19.1875 8.296875 \nz\n\" id=\"DejaVuSans-50\"/>\n      </defs>\n      <g transform=\"translate(43.49917 239.238437)scale(0.1 -0.1)\">\n       <use xlink:href=\"#DejaVuSans-8722\"/>\n       <use x=\"83.789062\" xlink:href=\"#DejaVuSans-50\"/>\n      </g>\n     </g>\n    </g>\n    <g id=\"xtick_2\">\n     <g id=\"line2d_3\">\n      <path clip-path=\"url(#pa4ce083e91)\" d=\"M 91.89698 224.64 \nL 91.89698 7.2 \n\" style=\"fill:none;stroke:#b0b0b0;stroke-linecap:square;stroke-width:0.8;\"/>\n     </g>\n     <g id=\"line2d_4\">\n      <g>\n       <use style=\"stroke:#000000;stroke-width:0.8;\" x=\"91.89698\" xlink:href=\"#m2e1127c7d4\" y=\"224.64\"/>\n      </g>\n     </g>\n     <g id=\"text_2\">\n      <!-- −1 -->\n      <defs>\n       <path d=\"M 12.40625 8.296875 \nL 28.515625 8.296875 \nL 28.515625 63.921875 \nL 10.984375 60.40625 \nL 10.984375 69.390625 \nL 28.421875 72.90625 \nL 38.28125 72.90625 \nL 38.28125 8.296875 \nL 54.390625 8.296875 \nL 54.390625 0 \nL 12.40625 0 \nz\n\" id=\"DejaVuSans-49\"/>\n      </defs>\n      <g transform=\"translate(84.525886 239.238437)scale(0.1 -0.1)\">\n       <use xlink:href=\"#DejaVuSans-8722\"/>\n       <use x=\"83.789062\" xlink:href=\"#DejaVuSans-49\"/>\n      </g>\n     </g>\n    </g>\n    <g id=\"xtick_3\">\n     <g id=\"line2d_5\">\n      <path clip-path=\"url(#pa4ce083e91)\" d=\"M 132.923695 224.64 \nL 132.923695 7.2 \n\" style=\"fill:none;stroke:#b0b0b0;stroke-linecap:square;stroke-width:0.8;\"/>\n     </g>\n     <g id=\"line2d_6\">\n      <g>\n       <use style=\"stroke:#000000;stroke-width:0.8;\" x=\"132.923695\" xlink:href=\"#m2e1127c7d4\" y=\"224.64\"/>\n      </g>\n     </g>\n     <g id=\"text_3\">\n      <!-- 0 -->\n      <defs>\n       <path d=\"M 31.78125 66.40625 \nQ 24.171875 66.40625 20.328125 58.90625 \nQ 16.5 51.421875 16.5 36.375 \nQ 16.5 21.390625 20.328125 13.890625 \nQ 24.171875 6.390625 31.78125 6.390625 \nQ 39.453125 6.390625 43.28125 13.890625 \nQ 47.125 21.390625 47.125 36.375 \nQ 47.125 51.421875 43.28125 58.90625 \nQ 39.453125 66.40625 31.78125 66.40625 \nz\nM 31.78125 74.21875 \nQ 44.046875 74.21875 50.515625 64.515625 \nQ 56.984375 54.828125 56.984375 36.375 \nQ 56.984375 17.96875 50.515625 8.265625 \nQ 44.046875 -1.421875 31.78125 -1.421875 \nQ 19.53125 -1.421875 13.0625 8.265625 \nQ 6.59375 17.96875 6.59375 36.375 \nQ 6.59375 54.828125 13.0625 64.515625 \nQ 19.53125 74.21875 31.78125 74.21875 \nz\n\" id=\"DejaVuSans-48\"/>\n      </defs>\n      <g transform=\"translate(129.742445 239.238437)scale(0.1 -0.1)\">\n       <use xlink:href=\"#DejaVuSans-48\"/>\n      </g>\n     </g>\n    </g>\n    <g id=\"xtick_4\">\n     <g id=\"line2d_7\">\n      <path clip-path=\"url(#pa4ce083e91)\" d=\"M 173.95041 224.64 \nL 173.95041 7.2 \n\" style=\"fill:none;stroke:#b0b0b0;stroke-linecap:square;stroke-width:0.8;\"/>\n     </g>\n     <g id=\"line2d_8\">\n      <g>\n       <use style=\"stroke:#000000;stroke-width:0.8;\" x=\"173.95041\" xlink:href=\"#m2e1127c7d4\" y=\"224.64\"/>\n      </g>\n     </g>\n     <g id=\"text_4\">\n      <!-- 1 -->\n      <g transform=\"translate(170.76916 239.238437)scale(0.1 -0.1)\">\n       <use xlink:href=\"#DejaVuSans-49\"/>\n      </g>\n     </g>\n    </g>\n    <g id=\"xtick_5\">\n     <g id=\"line2d_9\">\n      <path clip-path=\"url(#pa4ce083e91)\" d=\"M 214.977126 224.64 \nL 214.977126 7.2 \n\" style=\"fill:none;stroke:#b0b0b0;stroke-linecap:square;stroke-width:0.8;\"/>\n     </g>\n     <g id=\"line2d_10\">\n      <g>\n       <use style=\"stroke:#000000;stroke-width:0.8;\" x=\"214.977126\" xlink:href=\"#m2e1127c7d4\" y=\"224.64\"/>\n      </g>\n     </g>\n     <g id=\"text_5\">\n      <!-- 2 -->\n      <g transform=\"translate(211.795876 239.238437)scale(0.1 -0.1)\">\n       <use xlink:href=\"#DejaVuSans-50\"/>\n      </g>\n     </g>\n    </g>\n    <g id=\"xtick_6\">\n     <g id=\"line2d_11\">\n      <path clip-path=\"url(#pa4ce083e91)\" d=\"M 256.003841 224.64 \nL 256.003841 7.2 \n\" style=\"fill:none;stroke:#b0b0b0;stroke-linecap:square;stroke-width:0.8;\"/>\n     </g>\n     <g id=\"line2d_12\">\n      <g>\n       <use style=\"stroke:#000000;stroke-width:0.8;\" x=\"256.003841\" xlink:href=\"#m2e1127c7d4\" y=\"224.64\"/>\n      </g>\n     </g>\n     <g id=\"text_6\">\n      <!-- 3 -->\n      <defs>\n       <path d=\"M 40.578125 39.3125 \nQ 47.65625 37.796875 51.625 33 \nQ 55.609375 28.21875 55.609375 21.1875 \nQ 55.609375 10.40625 48.1875 4.484375 \nQ 40.765625 -1.421875 27.09375 -1.421875 \nQ 22.515625 -1.421875 17.65625 -0.515625 \nQ 12.796875 0.390625 7.625 2.203125 \nL 7.625 11.71875 \nQ 11.71875 9.328125 16.59375 8.109375 \nQ 21.484375 6.890625 26.8125 6.890625 \nQ 36.078125 6.890625 40.9375 10.546875 \nQ 45.796875 14.203125 45.796875 21.1875 \nQ 45.796875 27.640625 41.28125 31.265625 \nQ 36.765625 34.90625 28.71875 34.90625 \nL 20.21875 34.90625 \nL 20.21875 43.015625 \nL 29.109375 43.015625 \nQ 36.375 43.015625 40.234375 45.921875 \nQ 44.09375 48.828125 44.09375 54.296875 \nQ 44.09375 59.90625 40.109375 62.90625 \nQ 36.140625 65.921875 28.71875 65.921875 \nQ 24.65625 65.921875 20.015625 65.03125 \nQ 15.375 64.15625 9.8125 62.3125 \nL 9.8125 71.09375 \nQ 15.4375 72.65625 20.34375 73.4375 \nQ 25.25 74.21875 29.59375 74.21875 \nQ 40.828125 74.21875 47.359375 69.109375 \nQ 53.90625 64.015625 53.90625 55.328125 \nQ 53.90625 49.265625 50.4375 45.09375 \nQ 46.96875 40.921875 40.578125 39.3125 \nz\n\" id=\"DejaVuSans-51\"/>\n      </defs>\n      <g transform=\"translate(252.822591 239.238437)scale(0.1 -0.1)\">\n       <use xlink:href=\"#DejaVuSans-51\"/>\n      </g>\n     </g>\n    </g>\n    <g id=\"xtick_7\">\n     <g id=\"line2d_13\">\n      <path clip-path=\"url(#pa4ce083e91)\" d=\"M 297.030556 224.64 \nL 297.030556 7.2 \n\" style=\"fill:none;stroke:#b0b0b0;stroke-linecap:square;stroke-width:0.8;\"/>\n     </g>\n     <g id=\"line2d_14\">\n      <g>\n       <use style=\"stroke:#000000;stroke-width:0.8;\" x=\"297.030556\" xlink:href=\"#m2e1127c7d4\" y=\"224.64\"/>\n      </g>\n     </g>\n     <g id=\"text_7\">\n      <!-- 4 -->\n      <defs>\n       <path d=\"M 37.796875 64.3125 \nL 12.890625 25.390625 \nL 37.796875 25.390625 \nz\nM 35.203125 72.90625 \nL 47.609375 72.90625 \nL 47.609375 25.390625 \nL 58.015625 25.390625 \nL 58.015625 17.1875 \nL 47.609375 17.1875 \nL 47.609375 0 \nL 37.796875 0 \nL 37.796875 17.1875 \nL 4.890625 17.1875 \nL 4.890625 26.703125 \nz\n\" id=\"DejaVuSans-52\"/>\n      </defs>\n      <g transform=\"translate(293.849306 239.238437)scale(0.1 -0.1)\">\n       <use xlink:href=\"#DejaVuSans-52\"/>\n      </g>\n     </g>\n    </g>\n    <g id=\"xtick_8\">\n     <g id=\"line2d_15\">\n      <path clip-path=\"url(#pa4ce083e91)\" d=\"M 338.057272 224.64 \nL 338.057272 7.2 \n\" style=\"fill:none;stroke:#b0b0b0;stroke-linecap:square;stroke-width:0.8;\"/>\n     </g>\n     <g id=\"line2d_16\">\n      <g>\n       <use style=\"stroke:#000000;stroke-width:0.8;\" x=\"338.057272\" xlink:href=\"#m2e1127c7d4\" y=\"224.64\"/>\n      </g>\n     </g>\n     <g id=\"text_8\">\n      <!-- 5 -->\n      <defs>\n       <path d=\"M 10.796875 72.90625 \nL 49.515625 72.90625 \nL 49.515625 64.59375 \nL 19.828125 64.59375 \nL 19.828125 46.734375 \nQ 21.96875 47.46875 24.109375 47.828125 \nQ 26.265625 48.1875 28.421875 48.1875 \nQ 40.625 48.1875 47.75 41.5 \nQ 54.890625 34.8125 54.890625 23.390625 \nQ 54.890625 11.625 47.5625 5.09375 \nQ 40.234375 -1.421875 26.90625 -1.421875 \nQ 22.3125 -1.421875 17.546875 -0.640625 \nQ 12.796875 0.140625 7.71875 1.703125 \nL 7.71875 11.625 \nQ 12.109375 9.234375 16.796875 8.0625 \nQ 21.484375 6.890625 26.703125 6.890625 \nQ 35.15625 6.890625 40.078125 11.328125 \nQ 45.015625 15.765625 45.015625 23.390625 \nQ 45.015625 31 40.078125 35.4375 \nQ 35.15625 39.890625 26.703125 39.890625 \nQ 22.75 39.890625 18.8125 39.015625 \nQ 14.890625 38.140625 10.796875 36.28125 \nz\n\" id=\"DejaVuSans-53\"/>\n      </defs>\n      <g transform=\"translate(334.876022 239.238437)scale(0.1 -0.1)\">\n       <use xlink:href=\"#DejaVuSans-53\"/>\n      </g>\n     </g>\n    </g>\n   </g>\n   <g id=\"matplotlib.axis_2\">\n    <g id=\"ytick_1\">\n     <g id=\"line2d_17\">\n      <path clip-path=\"url(#pa4ce083e91)\" d=\"M 28.942188 217.3396 \nL 363.742188 217.3396 \n\" style=\"fill:none;stroke:#b0b0b0;stroke-linecap:square;stroke-width:0.8;\"/>\n     </g>\n     <g id=\"line2d_18\">\n      <defs>\n       <path d=\"M 0 0 \nL -3.5 0 \n\" id=\"m93d73e5c78\" style=\"stroke:#000000;stroke-width:0.8;\"/>\n      </defs>\n      <g>\n       <use style=\"stroke:#000000;stroke-width:0.8;\" x=\"28.942188\" xlink:href=\"#m93d73e5c78\" y=\"217.3396\"/>\n      </g>\n     </g>\n     <g id=\"text_9\">\n      <!-- −3 -->\n      <g transform=\"translate(7.2 221.138819)scale(0.1 -0.1)\">\n       <use xlink:href=\"#DejaVuSans-8722\"/>\n       <use x=\"83.789062\" xlink:href=\"#DejaVuSans-51\"/>\n      </g>\n     </g>\n    </g>\n    <g id=\"ytick_2\">\n     <g id=\"line2d_19\">\n      <path clip-path=\"url(#pa4ce083e91)\" d=\"M 28.942188 180.798236 \nL 363.742188 180.798236 \n\" style=\"fill:none;stroke:#b0b0b0;stroke-linecap:square;stroke-width:0.8;\"/>\n     </g>\n     <g id=\"line2d_20\">\n      <g>\n       <use style=\"stroke:#000000;stroke-width:0.8;\" x=\"28.942188\" xlink:href=\"#m93d73e5c78\" y=\"180.798236\"/>\n      </g>\n     </g>\n     <g id=\"text_10\">\n      <!-- −2 -->\n      <g transform=\"translate(7.2 184.597455)scale(0.1 -0.1)\">\n       <use xlink:href=\"#DejaVuSans-8722\"/>\n       <use x=\"83.789062\" xlink:href=\"#DejaVuSans-50\"/>\n      </g>\n     </g>\n    </g>\n    <g id=\"ytick_3\">\n     <g id=\"line2d_21\">\n      <path clip-path=\"url(#pa4ce083e91)\" d=\"M 28.942188 144.256872 \nL 363.742188 144.256872 \n\" style=\"fill:none;stroke:#b0b0b0;stroke-linecap:square;stroke-width:0.8;\"/>\n     </g>\n     <g id=\"line2d_22\">\n      <g>\n       <use style=\"stroke:#000000;stroke-width:0.8;\" x=\"28.942188\" xlink:href=\"#m93d73e5c78\" y=\"144.256872\"/>\n      </g>\n     </g>\n     <g id=\"text_11\">\n      <!-- −1 -->\n      <g transform=\"translate(7.2 148.056091)scale(0.1 -0.1)\">\n       <use xlink:href=\"#DejaVuSans-8722\"/>\n       <use x=\"83.789062\" xlink:href=\"#DejaVuSans-49\"/>\n      </g>\n     </g>\n    </g>\n    <g id=\"ytick_4\">\n     <g id=\"line2d_23\">\n      <path clip-path=\"url(#pa4ce083e91)\" d=\"M 28.942188 107.715508 \nL 363.742188 107.715508 \n\" style=\"fill:none;stroke:#b0b0b0;stroke-linecap:square;stroke-width:0.8;\"/>\n     </g>\n     <g id=\"line2d_24\">\n      <g>\n       <use style=\"stroke:#000000;stroke-width:0.8;\" x=\"28.942188\" xlink:href=\"#m93d73e5c78\" y=\"107.715508\"/>\n      </g>\n     </g>\n     <g id=\"text_12\">\n      <!-- 0 -->\n      <g transform=\"translate(15.579688 111.514727)scale(0.1 -0.1)\">\n       <use xlink:href=\"#DejaVuSans-48\"/>\n      </g>\n     </g>\n    </g>\n    <g id=\"ytick_5\">\n     <g id=\"line2d_25\">\n      <path clip-path=\"url(#pa4ce083e91)\" d=\"M 28.942188 71.174144 \nL 363.742188 71.174144 \n\" style=\"fill:none;stroke:#b0b0b0;stroke-linecap:square;stroke-width:0.8;\"/>\n     </g>\n     <g id=\"line2d_26\">\n      <g>\n       <use style=\"stroke:#000000;stroke-width:0.8;\" x=\"28.942188\" xlink:href=\"#m93d73e5c78\" y=\"71.174144\"/>\n      </g>\n     </g>\n     <g id=\"text_13\">\n      <!-- 1 -->\n      <g transform=\"translate(15.579688 74.973363)scale(0.1 -0.1)\">\n       <use xlink:href=\"#DejaVuSans-49\"/>\n      </g>\n     </g>\n    </g>\n    <g id=\"ytick_6\">\n     <g id=\"line2d_27\">\n      <path clip-path=\"url(#pa4ce083e91)\" d=\"M 28.942188 34.63278 \nL 363.742188 34.63278 \n\" style=\"fill:none;stroke:#b0b0b0;stroke-linecap:square;stroke-width:0.8;\"/>\n     </g>\n     <g id=\"line2d_28\">\n      <g>\n       <use style=\"stroke:#000000;stroke-width:0.8;\" x=\"28.942188\" xlink:href=\"#m93d73e5c78\" y=\"34.63278\"/>\n      </g>\n     </g>\n     <g id=\"text_14\">\n      <!-- 2 -->\n      <g transform=\"translate(15.579688 38.431999)scale(0.1 -0.1)\">\n       <use xlink:href=\"#DejaVuSans-50\"/>\n      </g>\n     </g>\n    </g>\n   </g>\n   <g id=\"patch_3\">\n    <path d=\"M 28.942188 224.64 \nL 28.942188 7.2 \n\" style=\"fill:none;stroke:#000000;stroke-linecap:square;stroke-linejoin:miter;stroke-width:0.8;\"/>\n   </g>\n   <g id=\"patch_4\">\n    <path d=\"M 363.742188 224.64 \nL 363.742188 7.2 \n\" style=\"fill:none;stroke:#000000;stroke-linecap:square;stroke-linejoin:miter;stroke-width:0.8;\"/>\n   </g>\n   <g id=\"patch_5\">\n    <path d=\"M 28.942188 224.64 \nL 363.742188 224.64 \n\" style=\"fill:none;stroke:#000000;stroke-linecap:square;stroke-linejoin:miter;stroke-width:0.8;\"/>\n   </g>\n   <g id=\"patch_6\">\n    <path d=\"M 28.942188 7.2 \nL 363.742188 7.2 \n\" style=\"fill:none;stroke:#000000;stroke-linecap:square;stroke-linejoin:miter;stroke-width:0.8;\"/>\n   </g>\n   <g id=\"text_15\">\n    <!-- stringent -->\n    <defs>\n     <path d=\"M 44.28125 53.078125 \nL 44.28125 44.578125 \nQ 40.484375 46.53125 36.375 47.5 \nQ 32.28125 48.484375 27.875 48.484375 \nQ 21.1875 48.484375 17.84375 46.4375 \nQ 14.5 44.390625 14.5 40.28125 \nQ 14.5 37.15625 16.890625 35.375 \nQ 19.28125 33.59375 26.515625 31.984375 \nL 29.59375 31.296875 \nQ 39.15625 29.25 43.1875 25.515625 \nQ 47.21875 21.78125 47.21875 15.09375 \nQ 47.21875 7.46875 41.1875 3.015625 \nQ 35.15625 -1.421875 24.609375 -1.421875 \nQ 20.21875 -1.421875 15.453125 -0.5625 \nQ 10.6875 0.296875 5.421875 2 \nL 5.421875 11.28125 \nQ 10.40625 8.6875 15.234375 7.390625 \nQ 20.0625 6.109375 24.8125 6.109375 \nQ 31.15625 6.109375 34.5625 8.28125 \nQ 37.984375 10.453125 37.984375 14.40625 \nQ 37.984375 18.0625 35.515625 20.015625 \nQ 33.0625 21.96875 24.703125 23.78125 \nL 21.578125 24.515625 \nQ 13.234375 26.265625 9.515625 29.90625 \nQ 5.8125 33.546875 5.8125 39.890625 \nQ 5.8125 47.609375 11.28125 51.796875 \nQ 16.75 56 26.8125 56 \nQ 31.78125 56 36.171875 55.265625 \nQ 40.578125 54.546875 44.28125 53.078125 \nz\n\" id=\"DejaVuSans-115\"/>\n     <path d=\"M 18.3125 70.21875 \nL 18.3125 54.6875 \nL 36.8125 54.6875 \nL 36.8125 47.703125 \nL 18.3125 47.703125 \nL 18.3125 18.015625 \nQ 18.3125 11.328125 20.140625 9.421875 \nQ 21.96875 7.515625 27.59375 7.515625 \nL 36.8125 7.515625 \nL 36.8125 0 \nL 27.59375 0 \nQ 17.1875 0 13.234375 3.875 \nQ 9.28125 7.765625 9.28125 18.015625 \nL 9.28125 47.703125 \nL 2.6875 47.703125 \nL 2.6875 54.6875 \nL 9.28125 54.6875 \nL 9.28125 70.21875 \nz\n\" id=\"DejaVuSans-116\"/>\n     <path d=\"M 41.109375 46.296875 \nQ 39.59375 47.171875 37.8125 47.578125 \nQ 36.03125 48 33.890625 48 \nQ 26.265625 48 22.1875 43.046875 \nQ 18.109375 38.09375 18.109375 28.8125 \nL 18.109375 0 \nL 9.078125 0 \nL 9.078125 54.6875 \nL 18.109375 54.6875 \nL 18.109375 46.1875 \nQ 20.953125 51.171875 25.484375 53.578125 \nQ 30.03125 56 36.53125 56 \nQ 37.453125 56 38.578125 55.875 \nQ 39.703125 55.765625 41.0625 55.515625 \nz\n\" id=\"DejaVuSans-114\"/>\n     <path d=\"M 9.421875 54.6875 \nL 18.40625 54.6875 \nL 18.40625 0 \nL 9.421875 0 \nz\nM 9.421875 75.984375 \nL 18.40625 75.984375 \nL 18.40625 64.59375 \nL 9.421875 64.59375 \nz\n\" id=\"DejaVuSans-105\"/>\n     <path d=\"M 54.890625 33.015625 \nL 54.890625 0 \nL 45.90625 0 \nL 45.90625 32.71875 \nQ 45.90625 40.484375 42.875 44.328125 \nQ 39.84375 48.1875 33.796875 48.1875 \nQ 26.515625 48.1875 22.3125 43.546875 \nQ 18.109375 38.921875 18.109375 30.90625 \nL 18.109375 0 \nL 9.078125 0 \nL 9.078125 54.6875 \nL 18.109375 54.6875 \nL 18.109375 46.1875 \nQ 21.34375 51.125 25.703125 53.5625 \nQ 30.078125 56 35.796875 56 \nQ 45.21875 56 50.046875 50.171875 \nQ 54.890625 44.34375 54.890625 33.015625 \nz\n\" id=\"DejaVuSans-110\"/>\n     <path d=\"M 45.40625 27.984375 \nQ 45.40625 37.75 41.375 43.109375 \nQ 37.359375 48.484375 30.078125 48.484375 \nQ 22.859375 48.484375 18.828125 43.109375 \nQ 14.796875 37.75 14.796875 27.984375 \nQ 14.796875 18.265625 18.828125 12.890625 \nQ 22.859375 7.515625 30.078125 7.515625 \nQ 37.359375 7.515625 41.375 12.890625 \nQ 45.40625 18.265625 45.40625 27.984375 \nz\nM 54.390625 6.78125 \nQ 54.390625 -7.171875 48.1875 -13.984375 \nQ 42 -20.796875 29.203125 -20.796875 \nQ 24.46875 -20.796875 20.265625 -20.09375 \nQ 16.0625 -19.390625 12.109375 -17.921875 \nL 12.109375 -9.1875 \nQ 16.0625 -11.328125 19.921875 -12.34375 \nQ 23.78125 -13.375 27.78125 -13.375 \nQ 36.625 -13.375 41.015625 -8.765625 \nQ 45.40625 -4.15625 45.40625 5.171875 \nL 45.40625 9.625 \nQ 42.625 4.78125 38.28125 2.390625 \nQ 33.9375 0 27.875 0 \nQ 17.828125 0 11.671875 7.65625 \nQ 5.515625 15.328125 5.515625 27.984375 \nQ 5.515625 40.671875 11.671875 48.328125 \nQ 17.828125 56 27.875 56 \nQ 33.9375 56 38.28125 53.609375 \nQ 42.625 51.21875 45.40625 46.390625 \nL 45.40625 54.6875 \nL 54.390625 54.6875 \nz\n\" id=\"DejaVuSans-103\"/>\n     <path d=\"M 56.203125 29.59375 \nL 56.203125 25.203125 \nL 14.890625 25.203125 \nQ 15.484375 15.921875 20.484375 11.0625 \nQ 25.484375 6.203125 34.421875 6.203125 \nQ 39.59375 6.203125 44.453125 7.46875 \nQ 49.3125 8.734375 54.109375 11.28125 \nL 54.109375 2.78125 \nQ 49.265625 0.734375 44.1875 -0.34375 \nQ 39.109375 -1.421875 33.890625 -1.421875 \nQ 20.796875 -1.421875 13.15625 6.1875 \nQ 5.515625 13.8125 5.515625 26.8125 \nQ 5.515625 40.234375 12.765625 48.109375 \nQ 20.015625 56 32.328125 56 \nQ 43.359375 56 49.78125 48.890625 \nQ 56.203125 41.796875 56.203125 29.59375 \nz\nM 47.21875 32.234375 \nQ 47.125 39.59375 43.09375 43.984375 \nQ 39.0625 48.390625 32.421875 48.390625 \nQ 24.90625 48.390625 20.390625 44.140625 \nQ 15.875 39.890625 15.1875 32.171875 \nz\n\" id=\"DejaVuSans-101\"/>\n    </defs>\n    <g style=\"fill:#ff0000;\" transform=\"translate(44.160369 40.097573)scale(0.1 -0.1)\">\n     <use xlink:href=\"#DejaVuSans-115\"/>\n     <use x=\"52.099609\" xlink:href=\"#DejaVuSans-116\"/>\n     <use x=\"91.308594\" xlink:href=\"#DejaVuSans-114\"/>\n     <use x=\"132.421875\" xlink:href=\"#DejaVuSans-105\"/>\n     <use x=\"160.205078\" xlink:href=\"#DejaVuSans-110\"/>\n     <use x=\"223.583984\" xlink:href=\"#DejaVuSans-103\"/>\n     <use x=\"287.060547\" xlink:href=\"#DejaVuSans-101\"/>\n     <use x=\"348.583984\" xlink:href=\"#DejaVuSans-110\"/>\n     <use x=\"411.962891\" xlink:href=\"#DejaVuSans-116\"/>\n    </g>\n   </g>\n   <g id=\"text_16\">\n    <!-- have -->\n    <defs>\n     <path d=\"M 54.890625 33.015625 \nL 54.890625 0 \nL 45.90625 0 \nL 45.90625 32.71875 \nQ 45.90625 40.484375 42.875 44.328125 \nQ 39.84375 48.1875 33.796875 48.1875 \nQ 26.515625 48.1875 22.3125 43.546875 \nQ 18.109375 38.921875 18.109375 30.90625 \nL 18.109375 0 \nL 9.078125 0 \nL 9.078125 75.984375 \nL 18.109375 75.984375 \nL 18.109375 46.1875 \nQ 21.34375 51.125 25.703125 53.5625 \nQ 30.078125 56 35.796875 56 \nQ 45.21875 56 50.046875 50.171875 \nQ 54.890625 44.34375 54.890625 33.015625 \nz\n\" id=\"DejaVuSans-104\"/>\n     <path d=\"M 34.28125 27.484375 \nQ 23.390625 27.484375 19.1875 25 \nQ 14.984375 22.515625 14.984375 16.5 \nQ 14.984375 11.71875 18.140625 8.90625 \nQ 21.296875 6.109375 26.703125 6.109375 \nQ 34.1875 6.109375 38.703125 11.40625 \nQ 43.21875 16.703125 43.21875 25.484375 \nL 43.21875 27.484375 \nz\nM 52.203125 31.203125 \nL 52.203125 0 \nL 43.21875 0 \nL 43.21875 8.296875 \nQ 40.140625 3.328125 35.546875 0.953125 \nQ 30.953125 -1.421875 24.3125 -1.421875 \nQ 15.921875 -1.421875 10.953125 3.296875 \nQ 6 8.015625 6 15.921875 \nQ 6 25.140625 12.171875 29.828125 \nQ 18.359375 34.515625 30.609375 34.515625 \nL 43.21875 34.515625 \nL 43.21875 35.40625 \nQ 43.21875 41.609375 39.140625 45 \nQ 35.0625 48.390625 27.6875 48.390625 \nQ 23 48.390625 18.546875 47.265625 \nQ 14.109375 46.140625 10.015625 43.890625 \nL 10.015625 52.203125 \nQ 14.9375 54.109375 19.578125 55.046875 \nQ 24.21875 56 28.609375 56 \nQ 40.484375 56 46.34375 49.84375 \nQ 52.203125 43.703125 52.203125 31.203125 \nz\n\" id=\"DejaVuSans-97\"/>\n     <path d=\"M 2.984375 54.6875 \nL 12.5 54.6875 \nL 29.59375 8.796875 \nL 46.6875 54.6875 \nL 56.203125 54.6875 \nL 35.6875 0 \nL 23.484375 0 \nz\n\" id=\"DejaVuSans-118\"/>\n    </defs>\n    <g style=\"fill:#ff0000;\" transform=\"translate(348.524006 84.193444)scale(0.1 -0.1)\">\n     <use xlink:href=\"#DejaVuSans-104\"/>\n     <use x=\"63.378906\" xlink:href=\"#DejaVuSans-97\"/>\n     <use x=\"124.658203\" xlink:href=\"#DejaVuSans-118\"/>\n     <use x=\"183.837891\" xlink:href=\"#DejaVuSans-101\"/>\n    </g>\n   </g>\n   <g id=\"text_17\">\n    <!-- information -->\n    <defs>\n     <path d=\"M 37.109375 75.984375 \nL 37.109375 68.5 \nL 28.515625 68.5 \nQ 23.6875 68.5 21.796875 66.546875 \nQ 19.921875 64.59375 19.921875 59.515625 \nL 19.921875 54.6875 \nL 34.71875 54.6875 \nL 34.71875 47.703125 \nL 19.921875 47.703125 \nL 19.921875 0 \nL 10.890625 0 \nL 10.890625 47.703125 \nL 2.296875 47.703125 \nL 2.296875 54.6875 \nL 10.890625 54.6875 \nL 10.890625 58.5 \nQ 10.890625 67.625 15.140625 71.796875 \nQ 19.390625 75.984375 28.609375 75.984375 \nz\n\" id=\"DejaVuSans-102\"/>\n     <path d=\"M 30.609375 48.390625 \nQ 23.390625 48.390625 19.1875 42.75 \nQ 14.984375 37.109375 14.984375 27.296875 \nQ 14.984375 17.484375 19.15625 11.84375 \nQ 23.34375 6.203125 30.609375 6.203125 \nQ 37.796875 6.203125 41.984375 11.859375 \nQ 46.1875 17.53125 46.1875 27.296875 \nQ 46.1875 37.015625 41.984375 42.703125 \nQ 37.796875 48.390625 30.609375 48.390625 \nz\nM 30.609375 56 \nQ 42.328125 56 49.015625 48.375 \nQ 55.71875 40.765625 55.71875 27.296875 \nQ 55.71875 13.875 49.015625 6.21875 \nQ 42.328125 -1.421875 30.609375 -1.421875 \nQ 18.84375 -1.421875 12.171875 6.21875 \nQ 5.515625 13.875 5.515625 27.296875 \nQ 5.515625 40.765625 12.171875 48.375 \nQ 18.84375 56 30.609375 56 \nz\n\" id=\"DejaVuSans-111\"/>\n     <path d=\"M 52 44.1875 \nQ 55.375 50.25 60.0625 53.125 \nQ 64.75 56 71.09375 56 \nQ 79.640625 56 84.28125 50.015625 \nQ 88.921875 44.046875 88.921875 33.015625 \nL 88.921875 0 \nL 79.890625 0 \nL 79.890625 32.71875 \nQ 79.890625 40.578125 77.09375 44.375 \nQ 74.3125 48.1875 68.609375 48.1875 \nQ 61.625 48.1875 57.5625 43.546875 \nQ 53.515625 38.921875 53.515625 30.90625 \nL 53.515625 0 \nL 44.484375 0 \nL 44.484375 32.71875 \nQ 44.484375 40.625 41.703125 44.40625 \nQ 38.921875 48.1875 33.109375 48.1875 \nQ 26.21875 48.1875 22.15625 43.53125 \nQ 18.109375 38.875 18.109375 30.90625 \nL 18.109375 0 \nL 9.078125 0 \nL 9.078125 54.6875 \nL 18.109375 54.6875 \nL 18.109375 46.1875 \nQ 21.1875 51.21875 25.484375 53.609375 \nQ 29.78125 56 35.6875 56 \nQ 41.65625 56 45.828125 52.96875 \nQ 50 49.953125 52 44.1875 \nz\n\" id=\"DejaVuSans-109\"/>\n    </defs>\n    <g style=\"fill:#ff0000;\" transform=\"translate(144.457391 138.441558)scale(0.1 -0.1)\">\n     <use xlink:href=\"#DejaVuSans-105\"/>\n     <use x=\"27.783203\" xlink:href=\"#DejaVuSans-110\"/>\n     <use x=\"91.162109\" xlink:href=\"#DejaVuSans-102\"/>\n     <use x=\"126.367188\" xlink:href=\"#DejaVuSans-111\"/>\n     <use x=\"187.548828\" xlink:href=\"#DejaVuSans-114\"/>\n     <use x=\"226.912109\" xlink:href=\"#DejaVuSans-109\"/>\n     <use x=\"324.324219\" xlink:href=\"#DejaVuSans-97\"/>\n     <use x=\"385.603516\" xlink:href=\"#DejaVuSans-116\"/>\n     <use x=\"424.8125\" xlink:href=\"#DejaVuSans-105\"/>\n     <use x=\"452.595703\" xlink:href=\"#DejaVuSans-111\"/>\n     <use x=\"513.777344\" xlink:href=\"#DejaVuSans-110\"/>\n    </g>\n   </g>\n   <g id=\"text_18\">\n    <!-- concerning -->\n    <defs>\n     <path d=\"M 48.78125 52.59375 \nL 48.78125 44.1875 \nQ 44.96875 46.296875 41.140625 47.34375 \nQ 37.3125 48.390625 33.40625 48.390625 \nQ 24.65625 48.390625 19.8125 42.84375 \nQ 14.984375 37.3125 14.984375 27.296875 \nQ 14.984375 17.28125 19.8125 11.734375 \nQ 24.65625 6.203125 33.40625 6.203125 \nQ 37.3125 6.203125 41.140625 7.25 \nQ 44.96875 8.296875 48.78125 10.40625 \nL 48.78125 2.09375 \nQ 45.015625 0.34375 40.984375 -0.53125 \nQ 36.96875 -1.421875 32.421875 -1.421875 \nQ 20.0625 -1.421875 12.78125 6.34375 \nQ 5.515625 14.109375 5.515625 27.296875 \nQ 5.515625 40.671875 12.859375 48.328125 \nQ 20.21875 56 33.015625 56 \nQ 37.15625 56 41.109375 55.140625 \nQ 45.0625 54.296875 48.78125 52.59375 \nz\n\" id=\"DejaVuSans-99\"/>\n    </defs>\n    <g style=\"fill:#ff0000;\" transform=\"translate(70.741943 57.342918)scale(0.1 -0.1)\">\n     <use xlink:href=\"#DejaVuSans-99\"/>\n     <use x=\"54.980469\" xlink:href=\"#DejaVuSans-111\"/>\n     <use x=\"116.162109\" xlink:href=\"#DejaVuSans-110\"/>\n     <use x=\"179.541016\" xlink:href=\"#DejaVuSans-99\"/>\n     <use x=\"234.521484\" xlink:href=\"#DejaVuSans-101\"/>\n     <use x=\"296.044922\" xlink:href=\"#DejaVuSans-114\"/>\n     <use x=\"335.408203\" xlink:href=\"#DejaVuSans-110\"/>\n     <use x=\"398.787109\" xlink:href=\"#DejaVuSans-105\"/>\n     <use x=\"426.570312\" xlink:href=\"#DejaVuSans-110\"/>\n     <use x=\"489.949219\" xlink:href=\"#DejaVuSans-103\"/>\n    </g>\n   </g>\n   <g id=\"text_19\">\n    <!-- however -->\n    <defs>\n     <path d=\"M 4.203125 54.6875 \nL 13.1875 54.6875 \nL 24.421875 12.015625 \nL 35.59375 54.6875 \nL 46.1875 54.6875 \nL 57.421875 12.015625 \nL 68.609375 54.6875 \nL 77.59375 54.6875 \nL 63.28125 0 \nL 52.6875 0 \nL 40.921875 44.828125 \nL 29.109375 0 \nL 18.5 0 \nz\n\" id=\"DejaVuSans-119\"/>\n    </defs>\n    <g style=\"fill:#ff0000;\" transform=\"translate(135.201903 164.673793)scale(0.1 -0.1)\">\n     <use xlink:href=\"#DejaVuSans-104\"/>\n     <use x=\"63.378906\" xlink:href=\"#DejaVuSans-111\"/>\n     <use x=\"124.560547\" xlink:href=\"#DejaVuSans-119\"/>\n     <use x=\"206.347656\" xlink:href=\"#DejaVuSans-101\"/>\n     <use x=\"267.871094\" xlink:href=\"#DejaVuSans-118\"/>\n     <use x=\"327.050781\" xlink:href=\"#DejaVuSans-101\"/>\n     <use x=\"388.574219\" xlink:href=\"#DejaVuSans-114\"/>\n    </g>\n   </g>\n   <g id=\"text_20\">\n    <!-- innocent -->\n    <g style=\"fill:#ff0000;\" transform=\"translate(120.469013 17.083636)scale(0.1 -0.1)\">\n     <use xlink:href=\"#DejaVuSans-105\"/>\n     <use x=\"27.783203\" xlink:href=\"#DejaVuSans-110\"/>\n     <use x=\"91.162109\" xlink:href=\"#DejaVuSans-110\"/>\n     <use x=\"154.541016\" xlink:href=\"#DejaVuSans-111\"/>\n     <use x=\"215.722656\" xlink:href=\"#DejaVuSans-99\"/>\n     <use x=\"270.703125\" xlink:href=\"#DejaVuSans-101\"/>\n     <use x=\"332.226562\" xlink:href=\"#DejaVuSans-110\"/>\n     <use x=\"395.605469\" xlink:href=\"#DejaVuSans-116\"/>\n    </g>\n   </g>\n   <g id=\"text_21\">\n    <!-- paragraph -->\n    <defs>\n     <path d=\"M 18.109375 8.203125 \nL 18.109375 -20.796875 \nL 9.078125 -20.796875 \nL 9.078125 54.6875 \nL 18.109375 54.6875 \nL 18.109375 46.390625 \nQ 20.953125 51.265625 25.265625 53.625 \nQ 29.59375 56 35.59375 56 \nQ 45.5625 56 51.78125 48.09375 \nQ 58.015625 40.1875 58.015625 27.296875 \nQ 58.015625 14.40625 51.78125 6.484375 \nQ 45.5625 -1.421875 35.59375 -1.421875 \nQ 29.59375 -1.421875 25.265625 0.953125 \nQ 20.953125 3.328125 18.109375 8.203125 \nz\nM 48.6875 27.296875 \nQ 48.6875 37.203125 44.609375 42.84375 \nQ 40.53125 48.484375 33.40625 48.484375 \nQ 26.265625 48.484375 22.1875 42.84375 \nQ 18.109375 37.203125 18.109375 27.296875 \nQ 18.109375 17.390625 22.1875 11.75 \nQ 26.265625 6.109375 33.40625 6.109375 \nQ 40.53125 6.109375 44.609375 11.75 \nQ 48.6875 17.390625 48.6875 27.296875 \nz\n\" id=\"DejaVuSans-112\"/>\n    </defs>\n    <g style=\"fill:#ff0000;\" transform=\"translate(86.879279 214.756364)scale(0.1 -0.1)\">\n     <use xlink:href=\"#DejaVuSans-112\"/>\n     <use x=\"63.476562\" xlink:href=\"#DejaVuSans-97\"/>\n     <use x=\"124.755859\" xlink:href=\"#DejaVuSans-114\"/>\n     <use x=\"165.869141\" xlink:href=\"#DejaVuSans-97\"/>\n     <use x=\"227.148438\" xlink:href=\"#DejaVuSans-103\"/>\n     <use x=\"290.625\" xlink:href=\"#DejaVuSans-114\"/>\n     <use x=\"331.738281\" xlink:href=\"#DejaVuSans-97\"/>\n     <use x=\"393.017578\" xlink:href=\"#DejaVuSans-112\"/>\n     <use x=\"456.494141\" xlink:href=\"#DejaVuSans-104\"/>\n    </g>\n   </g>\n   <g id=\"text_22\">\n    <!-- risk -->\n    <defs>\n     <path d=\"M 9.078125 75.984375 \nL 18.109375 75.984375 \nL 18.109375 31.109375 \nL 44.921875 54.6875 \nL 56.390625 54.6875 \nL 27.390625 29.109375 \nL 57.625 0 \nL 45.90625 0 \nL 18.109375 26.703125 \nL 18.109375 0 \nL 9.078125 0 \nz\n\" id=\"DejaVuSans-107\"/>\n    </defs>\n    <g style=\"fill:#ff0000;\" transform=\"translate(112.955655 145.134779)scale(0.1 -0.1)\">\n     <use xlink:href=\"#DejaVuSans-114\"/>\n     <use x=\"41.113281\" xlink:href=\"#DejaVuSans-105\"/>\n     <use x=\"68.896484\" xlink:href=\"#DejaVuSans-115\"/>\n     <use x=\"120.996094\" xlink:href=\"#DejaVuSans-107\"/>\n    </g>\n   </g>\n  </g>\n </g>\n <defs>\n  <clipPath id=\"pa4ce083e91\">\n   <rect height=\"217.44\" width=\"334.8\" x=\"28.942188\" y=\"7.2\"/>\n  </clipPath>\n </defs>\n</svg>\n"
          },
          "metadata": {
            "needs_background": "light"
          }
        }
      ]
    },
    {
      "cell_type": "code",
      "source": [
        "result_pca_en = compute_pca(en_embeddings, 3)\n",
        "result_pca_fr = compute_pca(fr_embeddings, 3)\n",
        "pyplot.grid()\n",
        "pyplot.scatter(result_pca_fr[:50, 0], result_pca_fr[:50, 1], color=\"blue\")\n",
        "for i, word in enumerate(words_fr[:50]):\n",
        "    pyplot.annotate(word, xy=(result_pca_fr[i, 0], result_pca_fr[i, 1]), color=\"blue\")\n",
        "pyplot.show()"
      ],
      "metadata": {
        "colab": {
          "base_uri": "https://localhost:8080/",
          "height": 352
        },
        "id": "7vSTzhWbYu3j",
        "outputId": "ae7a79d6-2e39-4093-c7c7-8a466f03a793"
      },
      "execution_count": null,
      "outputs": [
        {
          "output_type": "display_data",
          "data": {
            "text/plain": [
              "<Figure size 432x288 with 1 Axes>"
            ],
            "image/svg+xml": "<?xml version=\"1.0\" encoding=\"utf-8\" standalone=\"no\"?>\n<!DOCTYPE svg PUBLIC \"-//W3C//DTD SVG 1.1//EN\"\n  \"http://www.w3.org/Graphics/SVG/1.1/DTD/svg11.dtd\">\n<!-- Created with matplotlib (https://matplotlib.org/) -->\n<svg height=\"248.518125pt\" version=\"1.1\" viewBox=\"0 0 413.866193 248.518125\" width=\"413.866193pt\" xmlns=\"http://www.w3.org/2000/svg\" xmlns:xlink=\"http://www.w3.org/1999/xlink\">\n <defs>\n  <style type=\"text/css\">\n*{stroke-linecap:butt;stroke-linejoin:round;}\n  </style>\n </defs>\n <g id=\"figure_1\">\n  <g id=\"patch_1\">\n   <path d=\"M 0 248.518125 \nL 413.866193 248.518125 \nL 413.866193 0 \nL 0 0 \nz\n\" style=\"fill:none;\"/>\n  </g>\n  <g id=\"axes_1\">\n   <g id=\"patch_2\">\n    <path d=\"M 28.942188 224.64 \nL 363.742188 224.64 \nL 363.742188 7.2 \nL 28.942188 7.2 \nz\n\" style=\"fill:#ffffff;\"/>\n   </g>\n   <g id=\"PathCollection_1\">\n    <defs>\n     <path d=\"M 0 3 \nC 0.795609 3 1.55874 2.683901 2.12132 2.12132 \nC 2.683901 1.55874 3 0.795609 3 0 \nC 3 -0.795609 2.683901 -1.55874 2.12132 -2.12132 \nC 1.55874 -2.683901 0.795609 -3 0 -3 \nC -0.795609 -3 -1.55874 -2.683901 -2.12132 -2.12132 \nC -2.683901 -1.55874 -3 -0.795609 -3 0 \nC -3 0.795609 -2.683901 1.55874 -2.12132 2.12132 \nC -1.55874 2.683901 -0.795609 3 0 3 \nz\n\" id=\"m4e58079553\" style=\"stroke:#0000ff;\"/>\n    </defs>\n    <g clip-path=\"url(#pb01d4364de)\">\n     <use style=\"fill:#0000ff;stroke:#0000ff;\" x=\"154.529846\" xlink:href=\"#m4e58079553\" y=\"66.607878\"/>\n     <use style=\"fill:#0000ff;stroke:#0000ff;\" x=\"161.152822\" xlink:href=\"#m4e58079553\" y=\"42.481849\"/>\n     <use style=\"fill:#0000ff;stroke:#0000ff;\" x=\"140.559056\" xlink:href=\"#m4e58079553\" y=\"17.083636\"/>\n     <use style=\"fill:#0000ff;stroke:#0000ff;\" x=\"44.160369\" xlink:href=\"#m4e58079553\" y=\"214.756364\"/>\n     <use style=\"fill:#0000ff;stroke:#0000ff;\" x=\"90.284943\" xlink:href=\"#m4e58079553\" y=\"20.795697\"/>\n     <use style=\"fill:#0000ff;stroke:#0000ff;\" x=\"154.094085\" xlink:href=\"#m4e58079553\" y=\"63.600821\"/>\n     <use style=\"fill:#0000ff;stroke:#0000ff;\" x=\"348.524006\" xlink:href=\"#m4e58079553\" y=\"85.115625\"/>\n     <use style=\"fill:#0000ff;stroke:#0000ff;\" x=\"289.201987\" xlink:href=\"#m4e58079553\" y=\"153.316971\"/>\n    </g>\n   </g>\n   <g id=\"matplotlib.axis_1\">\n    <g id=\"xtick_1\">\n     <g id=\"line2d_1\">\n      <path clip-path=\"url(#pb01d4364de)\" d=\"M 56.285413 224.64 \nL 56.285413 7.2 \n\" style=\"fill:none;stroke:#b0b0b0;stroke-linecap:square;stroke-width:0.8;\"/>\n     </g>\n     <g id=\"line2d_2\">\n      <defs>\n       <path d=\"M 0 0 \nL 0 3.5 \n\" id=\"m0dc19117fb\" style=\"stroke:#000000;stroke-width:0.8;\"/>\n      </defs>\n      <g>\n       <use style=\"stroke:#000000;stroke-width:0.8;\" x=\"56.285413\" xlink:href=\"#m0dc19117fb\" y=\"224.64\"/>\n      </g>\n     </g>\n     <g id=\"text_1\">\n      <!-- −2 -->\n      <defs>\n       <path d=\"M 10.59375 35.5 \nL 73.1875 35.5 \nL 73.1875 27.203125 \nL 10.59375 27.203125 \nz\n\" id=\"DejaVuSans-8722\"/>\n       <path d=\"M 19.1875 8.296875 \nL 53.609375 8.296875 \nL 53.609375 0 \nL 7.328125 0 \nL 7.328125 8.296875 \nQ 12.9375 14.109375 22.625 23.890625 \nQ 32.328125 33.6875 34.8125 36.53125 \nQ 39.546875 41.84375 41.421875 45.53125 \nQ 43.3125 49.21875 43.3125 52.78125 \nQ 43.3125 58.59375 39.234375 62.25 \nQ 35.15625 65.921875 28.609375 65.921875 \nQ 23.96875 65.921875 18.8125 64.3125 \nQ 13.671875 62.703125 7.8125 59.421875 \nL 7.8125 69.390625 \nQ 13.765625 71.78125 18.9375 73 \nQ 24.125 74.21875 28.421875 74.21875 \nQ 39.75 74.21875 46.484375 68.546875 \nQ 53.21875 62.890625 53.21875 53.421875 \nQ 53.21875 48.921875 51.53125 44.890625 \nQ 49.859375 40.875 45.40625 35.40625 \nQ 44.1875 33.984375 37.640625 27.21875 \nQ 31.109375 20.453125 19.1875 8.296875 \nz\n\" id=\"DejaVuSans-50\"/>\n      </defs>\n      <g transform=\"translate(48.914319 239.238437)scale(0.1 -0.1)\">\n       <use xlink:href=\"#DejaVuSans-8722\"/>\n       <use x=\"83.789062\" xlink:href=\"#DejaVuSans-50\"/>\n      </g>\n     </g>\n    </g>\n    <g id=\"xtick_2\">\n     <g id=\"line2d_3\">\n      <path clip-path=\"url(#pb01d4364de)\" d=\"M 114.549401 224.64 \nL 114.549401 7.2 \n\" style=\"fill:none;stroke:#b0b0b0;stroke-linecap:square;stroke-width:0.8;\"/>\n     </g>\n     <g id=\"line2d_4\">\n      <g>\n       <use style=\"stroke:#000000;stroke-width:0.8;\" x=\"114.549401\" xlink:href=\"#m0dc19117fb\" y=\"224.64\"/>\n      </g>\n     </g>\n     <g id=\"text_2\">\n      <!-- −1 -->\n      <defs>\n       <path d=\"M 12.40625 8.296875 \nL 28.515625 8.296875 \nL 28.515625 63.921875 \nL 10.984375 60.40625 \nL 10.984375 69.390625 \nL 28.421875 72.90625 \nL 38.28125 72.90625 \nL 38.28125 8.296875 \nL 54.390625 8.296875 \nL 54.390625 0 \nL 12.40625 0 \nz\n\" id=\"DejaVuSans-49\"/>\n      </defs>\n      <g transform=\"translate(107.178307 239.238437)scale(0.1 -0.1)\">\n       <use xlink:href=\"#DejaVuSans-8722\"/>\n       <use x=\"83.789062\" xlink:href=\"#DejaVuSans-49\"/>\n      </g>\n     </g>\n    </g>\n    <g id=\"xtick_3\">\n     <g id=\"line2d_5\">\n      <path clip-path=\"url(#pb01d4364de)\" d=\"M 172.813389 224.64 \nL 172.813389 7.2 \n\" style=\"fill:none;stroke:#b0b0b0;stroke-linecap:square;stroke-width:0.8;\"/>\n     </g>\n     <g id=\"line2d_6\">\n      <g>\n       <use style=\"stroke:#000000;stroke-width:0.8;\" x=\"172.813389\" xlink:href=\"#m0dc19117fb\" y=\"224.64\"/>\n      </g>\n     </g>\n     <g id=\"text_3\">\n      <!-- 0 -->\n      <defs>\n       <path d=\"M 31.78125 66.40625 \nQ 24.171875 66.40625 20.328125 58.90625 \nQ 16.5 51.421875 16.5 36.375 \nQ 16.5 21.390625 20.328125 13.890625 \nQ 24.171875 6.390625 31.78125 6.390625 \nQ 39.453125 6.390625 43.28125 13.890625 \nQ 47.125 21.390625 47.125 36.375 \nQ 47.125 51.421875 43.28125 58.90625 \nQ 39.453125 66.40625 31.78125 66.40625 \nz\nM 31.78125 74.21875 \nQ 44.046875 74.21875 50.515625 64.515625 \nQ 56.984375 54.828125 56.984375 36.375 \nQ 56.984375 17.96875 50.515625 8.265625 \nQ 44.046875 -1.421875 31.78125 -1.421875 \nQ 19.53125 -1.421875 13.0625 8.265625 \nQ 6.59375 17.96875 6.59375 36.375 \nQ 6.59375 54.828125 13.0625 64.515625 \nQ 19.53125 74.21875 31.78125 74.21875 \nz\n\" id=\"DejaVuSans-48\"/>\n      </defs>\n      <g transform=\"translate(169.632139 239.238437)scale(0.1 -0.1)\">\n       <use xlink:href=\"#DejaVuSans-48\"/>\n      </g>\n     </g>\n    </g>\n    <g id=\"xtick_4\">\n     <g id=\"line2d_7\">\n      <path clip-path=\"url(#pb01d4364de)\" d=\"M 231.077378 224.64 \nL 231.077378 7.2 \n\" style=\"fill:none;stroke:#b0b0b0;stroke-linecap:square;stroke-width:0.8;\"/>\n     </g>\n     <g id=\"line2d_8\">\n      <g>\n       <use style=\"stroke:#000000;stroke-width:0.8;\" x=\"231.077378\" xlink:href=\"#m0dc19117fb\" y=\"224.64\"/>\n      </g>\n     </g>\n     <g id=\"text_4\">\n      <!-- 1 -->\n      <g transform=\"translate(227.896128 239.238437)scale(0.1 -0.1)\">\n       <use xlink:href=\"#DejaVuSans-49\"/>\n      </g>\n     </g>\n    </g>\n    <g id=\"xtick_5\">\n     <g id=\"line2d_9\">\n      <path clip-path=\"url(#pb01d4364de)\" d=\"M 289.341366 224.64 \nL 289.341366 7.2 \n\" style=\"fill:none;stroke:#b0b0b0;stroke-linecap:square;stroke-width:0.8;\"/>\n     </g>\n     <g id=\"line2d_10\">\n      <g>\n       <use style=\"stroke:#000000;stroke-width:0.8;\" x=\"289.341366\" xlink:href=\"#m0dc19117fb\" y=\"224.64\"/>\n      </g>\n     </g>\n     <g id=\"text_5\">\n      <!-- 2 -->\n      <g transform=\"translate(286.160116 239.238437)scale(0.1 -0.1)\">\n       <use xlink:href=\"#DejaVuSans-50\"/>\n      </g>\n     </g>\n    </g>\n    <g id=\"xtick_6\">\n     <g id=\"line2d_11\">\n      <path clip-path=\"url(#pb01d4364de)\" d=\"M 347.605354 224.64 \nL 347.605354 7.2 \n\" style=\"fill:none;stroke:#b0b0b0;stroke-linecap:square;stroke-width:0.8;\"/>\n     </g>\n     <g id=\"line2d_12\">\n      <g>\n       <use style=\"stroke:#000000;stroke-width:0.8;\" x=\"347.605354\" xlink:href=\"#m0dc19117fb\" y=\"224.64\"/>\n      </g>\n     </g>\n     <g id=\"text_6\">\n      <!-- 3 -->\n      <defs>\n       <path d=\"M 40.578125 39.3125 \nQ 47.65625 37.796875 51.625 33 \nQ 55.609375 28.21875 55.609375 21.1875 \nQ 55.609375 10.40625 48.1875 4.484375 \nQ 40.765625 -1.421875 27.09375 -1.421875 \nQ 22.515625 -1.421875 17.65625 -0.515625 \nQ 12.796875 0.390625 7.625 2.203125 \nL 7.625 11.71875 \nQ 11.71875 9.328125 16.59375 8.109375 \nQ 21.484375 6.890625 26.8125 6.890625 \nQ 36.078125 6.890625 40.9375 10.546875 \nQ 45.796875 14.203125 45.796875 21.1875 \nQ 45.796875 27.640625 41.28125 31.265625 \nQ 36.765625 34.90625 28.71875 34.90625 \nL 20.21875 34.90625 \nL 20.21875 43.015625 \nL 29.109375 43.015625 \nQ 36.375 43.015625 40.234375 45.921875 \nQ 44.09375 48.828125 44.09375 54.296875 \nQ 44.09375 59.90625 40.109375 62.90625 \nQ 36.140625 65.921875 28.71875 65.921875 \nQ 24.65625 65.921875 20.015625 65.03125 \nQ 15.375 64.15625 9.8125 62.3125 \nL 9.8125 71.09375 \nQ 15.4375 72.65625 20.34375 73.4375 \nQ 25.25 74.21875 29.59375 74.21875 \nQ 40.828125 74.21875 47.359375 69.109375 \nQ 53.90625 64.015625 53.90625 55.328125 \nQ 53.90625 49.265625 50.4375 45.09375 \nQ 46.96875 40.921875 40.578125 39.3125 \nz\n\" id=\"DejaVuSans-51\"/>\n      </defs>\n      <g transform=\"translate(344.424104 239.238437)scale(0.1 -0.1)\">\n       <use xlink:href=\"#DejaVuSans-51\"/>\n      </g>\n     </g>\n    </g>\n   </g>\n   <g id=\"matplotlib.axis_2\">\n    <g id=\"ytick_1\">\n     <g id=\"line2d_13\">\n      <path clip-path=\"url(#pb01d4364de)\" d=\"M 28.942188 210.078561 \nL 363.742188 210.078561 \n\" style=\"fill:none;stroke:#b0b0b0;stroke-linecap:square;stroke-width:0.8;\"/>\n     </g>\n     <g id=\"line2d_14\">\n      <defs>\n       <path d=\"M 0 0 \nL -3.5 0 \n\" id=\"md64804c76c\" style=\"stroke:#000000;stroke-width:0.8;\"/>\n      </defs>\n      <g>\n       <use style=\"stroke:#000000;stroke-width:0.8;\" x=\"28.942188\" xlink:href=\"#md64804c76c\" y=\"210.078561\"/>\n      </g>\n     </g>\n     <g id=\"text_7\">\n      <!-- −3 -->\n      <g transform=\"translate(7.2 213.877779)scale(0.1 -0.1)\">\n       <use xlink:href=\"#DejaVuSans-8722\"/>\n       <use x=\"83.789062\" xlink:href=\"#DejaVuSans-51\"/>\n      </g>\n     </g>\n    </g>\n    <g id=\"ytick_2\">\n     <g id=\"line2d_15\">\n      <path clip-path=\"url(#pb01d4364de)\" d=\"M 28.942188 167.708992 \nL 363.742188 167.708992 \n\" style=\"fill:none;stroke:#b0b0b0;stroke-linecap:square;stroke-width:0.8;\"/>\n     </g>\n     <g id=\"line2d_16\">\n      <g>\n       <use style=\"stroke:#000000;stroke-width:0.8;\" x=\"28.942188\" xlink:href=\"#md64804c76c\" y=\"167.708992\"/>\n      </g>\n     </g>\n     <g id=\"text_8\">\n      <!-- −2 -->\n      <g transform=\"translate(7.2 171.508211)scale(0.1 -0.1)\">\n       <use xlink:href=\"#DejaVuSans-8722\"/>\n       <use x=\"83.789062\" xlink:href=\"#DejaVuSans-50\"/>\n      </g>\n     </g>\n    </g>\n    <g id=\"ytick_3\">\n     <g id=\"line2d_17\">\n      <path clip-path=\"url(#pb01d4364de)\" d=\"M 28.942188 125.339424 \nL 363.742188 125.339424 \n\" style=\"fill:none;stroke:#b0b0b0;stroke-linecap:square;stroke-width:0.8;\"/>\n     </g>\n     <g id=\"line2d_18\">\n      <g>\n       <use style=\"stroke:#000000;stroke-width:0.8;\" x=\"28.942188\" xlink:href=\"#md64804c76c\" y=\"125.339424\"/>\n      </g>\n     </g>\n     <g id=\"text_9\">\n      <!-- −1 -->\n      <g transform=\"translate(7.2 129.138642)scale(0.1 -0.1)\">\n       <use xlink:href=\"#DejaVuSans-8722\"/>\n       <use x=\"83.789062\" xlink:href=\"#DejaVuSans-49\"/>\n      </g>\n     </g>\n    </g>\n    <g id=\"ytick_4\">\n     <g id=\"line2d_19\">\n      <path clip-path=\"url(#pb01d4364de)\" d=\"M 28.942188 82.969855 \nL 363.742188 82.969855 \n\" style=\"fill:none;stroke:#b0b0b0;stroke-linecap:square;stroke-width:0.8;\"/>\n     </g>\n     <g id=\"line2d_20\">\n      <g>\n       <use style=\"stroke:#000000;stroke-width:0.8;\" x=\"28.942188\" xlink:href=\"#md64804c76c\" y=\"82.969855\"/>\n      </g>\n     </g>\n     <g id=\"text_10\">\n      <!-- 0 -->\n      <g transform=\"translate(15.579688 86.769074)scale(0.1 -0.1)\">\n       <use xlink:href=\"#DejaVuSans-48\"/>\n      </g>\n     </g>\n    </g>\n    <g id=\"ytick_5\">\n     <g id=\"line2d_21\">\n      <path clip-path=\"url(#pb01d4364de)\" d=\"M 28.942188 40.600287 \nL 363.742188 40.600287 \n\" style=\"fill:none;stroke:#b0b0b0;stroke-linecap:square;stroke-width:0.8;\"/>\n     </g>\n     <g id=\"line2d_22\">\n      <g>\n       <use style=\"stroke:#000000;stroke-width:0.8;\" x=\"28.942188\" xlink:href=\"#md64804c76c\" y=\"40.600287\"/>\n      </g>\n     </g>\n     <g id=\"text_11\">\n      <!-- 1 -->\n      <g transform=\"translate(15.579688 44.399505)scale(0.1 -0.1)\">\n       <use xlink:href=\"#DejaVuSans-49\"/>\n      </g>\n     </g>\n    </g>\n   </g>\n   <g id=\"patch_3\">\n    <path d=\"M 28.942188 224.64 \nL 28.942188 7.2 \n\" style=\"fill:none;stroke:#000000;stroke-linecap:square;stroke-linejoin:miter;stroke-width:0.8;\"/>\n   </g>\n   <g id=\"patch_4\">\n    <path d=\"M 363.742188 224.64 \nL 363.742188 7.2 \n\" style=\"fill:none;stroke:#000000;stroke-linecap:square;stroke-linejoin:miter;stroke-width:0.8;\"/>\n   </g>\n   <g id=\"patch_5\">\n    <path d=\"M 28.942187 224.64 \nL 363.742188 224.64 \n\" style=\"fill:none;stroke:#000000;stroke-linecap:square;stroke-linejoin:miter;stroke-width:0.8;\"/>\n   </g>\n   <g id=\"patch_6\">\n    <path d=\"M 28.942187 7.2 \nL 363.742188 7.2 \n\" style=\"fill:none;stroke:#000000;stroke-linecap:square;stroke-linejoin:miter;stroke-width:0.8;\"/>\n   </g>\n   <g id=\"text_12\">\n    <!-- strictes -->\n    <defs>\n     <path d=\"M 44.28125 53.078125 \nL 44.28125 44.578125 \nQ 40.484375 46.53125 36.375 47.5 \nQ 32.28125 48.484375 27.875 48.484375 \nQ 21.1875 48.484375 17.84375 46.4375 \nQ 14.5 44.390625 14.5 40.28125 \nQ 14.5 37.15625 16.890625 35.375 \nQ 19.28125 33.59375 26.515625 31.984375 \nL 29.59375 31.296875 \nQ 39.15625 29.25 43.1875 25.515625 \nQ 47.21875 21.78125 47.21875 15.09375 \nQ 47.21875 7.46875 41.1875 3.015625 \nQ 35.15625 -1.421875 24.609375 -1.421875 \nQ 20.21875 -1.421875 15.453125 -0.5625 \nQ 10.6875 0.296875 5.421875 2 \nL 5.421875 11.28125 \nQ 10.40625 8.6875 15.234375 7.390625 \nQ 20.0625 6.109375 24.8125 6.109375 \nQ 31.15625 6.109375 34.5625 8.28125 \nQ 37.984375 10.453125 37.984375 14.40625 \nQ 37.984375 18.0625 35.515625 20.015625 \nQ 33.0625 21.96875 24.703125 23.78125 \nL 21.578125 24.515625 \nQ 13.234375 26.265625 9.515625 29.90625 \nQ 5.8125 33.546875 5.8125 39.890625 \nQ 5.8125 47.609375 11.28125 51.796875 \nQ 16.75 56 26.8125 56 \nQ 31.78125 56 36.171875 55.265625 \nQ 40.578125 54.546875 44.28125 53.078125 \nz\n\" id=\"DejaVuSans-115\"/>\n     <path d=\"M 18.3125 70.21875 \nL 18.3125 54.6875 \nL 36.8125 54.6875 \nL 36.8125 47.703125 \nL 18.3125 47.703125 \nL 18.3125 18.015625 \nQ 18.3125 11.328125 20.140625 9.421875 \nQ 21.96875 7.515625 27.59375 7.515625 \nL 36.8125 7.515625 \nL 36.8125 0 \nL 27.59375 0 \nQ 17.1875 0 13.234375 3.875 \nQ 9.28125 7.765625 9.28125 18.015625 \nL 9.28125 47.703125 \nL 2.6875 47.703125 \nL 2.6875 54.6875 \nL 9.28125 54.6875 \nL 9.28125 70.21875 \nz\n\" id=\"DejaVuSans-116\"/>\n     <path d=\"M 41.109375 46.296875 \nQ 39.59375 47.171875 37.8125 47.578125 \nQ 36.03125 48 33.890625 48 \nQ 26.265625 48 22.1875 43.046875 \nQ 18.109375 38.09375 18.109375 28.8125 \nL 18.109375 0 \nL 9.078125 0 \nL 9.078125 54.6875 \nL 18.109375 54.6875 \nL 18.109375 46.1875 \nQ 20.953125 51.171875 25.484375 53.578125 \nQ 30.03125 56 36.53125 56 \nQ 37.453125 56 38.578125 55.875 \nQ 39.703125 55.765625 41.0625 55.515625 \nz\n\" id=\"DejaVuSans-114\"/>\n     <path d=\"M 9.421875 54.6875 \nL 18.40625 54.6875 \nL 18.40625 0 \nL 9.421875 0 \nz\nM 9.421875 75.984375 \nL 18.40625 75.984375 \nL 18.40625 64.59375 \nL 9.421875 64.59375 \nz\n\" id=\"DejaVuSans-105\"/>\n     <path d=\"M 48.78125 52.59375 \nL 48.78125 44.1875 \nQ 44.96875 46.296875 41.140625 47.34375 \nQ 37.3125 48.390625 33.40625 48.390625 \nQ 24.65625 48.390625 19.8125 42.84375 \nQ 14.984375 37.3125 14.984375 27.296875 \nQ 14.984375 17.28125 19.8125 11.734375 \nQ 24.65625 6.203125 33.40625 6.203125 \nQ 37.3125 6.203125 41.140625 7.25 \nQ 44.96875 8.296875 48.78125 10.40625 \nL 48.78125 2.09375 \nQ 45.015625 0.34375 40.984375 -0.53125 \nQ 36.96875 -1.421875 32.421875 -1.421875 \nQ 20.0625 -1.421875 12.78125 6.34375 \nQ 5.515625 14.109375 5.515625 27.296875 \nQ 5.515625 40.671875 12.859375 48.328125 \nQ 20.21875 56 33.015625 56 \nQ 37.15625 56 41.109375 55.140625 \nQ 45.0625 54.296875 48.78125 52.59375 \nz\n\" id=\"DejaVuSans-99\"/>\n     <path d=\"M 56.203125 29.59375 \nL 56.203125 25.203125 \nL 14.890625 25.203125 \nQ 15.484375 15.921875 20.484375 11.0625 \nQ 25.484375 6.203125 34.421875 6.203125 \nQ 39.59375 6.203125 44.453125 7.46875 \nQ 49.3125 8.734375 54.109375 11.28125 \nL 54.109375 2.78125 \nQ 49.265625 0.734375 44.1875 -0.34375 \nQ 39.109375 -1.421875 33.890625 -1.421875 \nQ 20.796875 -1.421875 13.15625 6.1875 \nQ 5.515625 13.8125 5.515625 26.8125 \nQ 5.515625 40.234375 12.765625 48.109375 \nQ 20.015625 56 32.328125 56 \nQ 43.359375 56 49.78125 48.890625 \nQ 56.203125 41.796875 56.203125 29.59375 \nz\nM 47.21875 32.234375 \nQ 47.125 39.59375 43.09375 43.984375 \nQ 39.0625 48.390625 32.421875 48.390625 \nQ 24.90625 48.390625 20.390625 44.140625 \nQ 15.875 39.890625 15.1875 32.171875 \nz\n\" id=\"DejaVuSans-101\"/>\n    </defs>\n    <g style=\"fill:#0000ff;\" transform=\"translate(154.529846 66.607878)scale(0.1 -0.1)\">\n     <use xlink:href=\"#DejaVuSans-115\"/>\n     <use x=\"52.099609\" xlink:href=\"#DejaVuSans-116\"/>\n     <use x=\"91.308594\" xlink:href=\"#DejaVuSans-114\"/>\n     <use x=\"132.421875\" xlink:href=\"#DejaVuSans-105\"/>\n     <use x=\"160.205078\" xlink:href=\"#DejaVuSans-99\"/>\n     <use x=\"215.185547\" xlink:href=\"#DejaVuSans-116\"/>\n     <use x=\"254.394531\" xlink:href=\"#DejaVuSans-101\"/>\n     <use x=\"315.917969\" xlink:href=\"#DejaVuSans-115\"/>\n    </g>\n   </g>\n   <g id=\"text_13\">\n    <!-- ont -->\n    <defs>\n     <path d=\"M 30.609375 48.390625 \nQ 23.390625 48.390625 19.1875 42.75 \nQ 14.984375 37.109375 14.984375 27.296875 \nQ 14.984375 17.484375 19.15625 11.84375 \nQ 23.34375 6.203125 30.609375 6.203125 \nQ 37.796875 6.203125 41.984375 11.859375 \nQ 46.1875 17.53125 46.1875 27.296875 \nQ 46.1875 37.015625 41.984375 42.703125 \nQ 37.796875 48.390625 30.609375 48.390625 \nz\nM 30.609375 56 \nQ 42.328125 56 49.015625 48.375 \nQ 55.71875 40.765625 55.71875 27.296875 \nQ 55.71875 13.875 49.015625 6.21875 \nQ 42.328125 -1.421875 30.609375 -1.421875 \nQ 18.84375 -1.421875 12.171875 6.21875 \nQ 5.515625 13.875 5.515625 27.296875 \nQ 5.515625 40.765625 12.171875 48.375 \nQ 18.84375 56 30.609375 56 \nz\n\" id=\"DejaVuSans-111\"/>\n     <path d=\"M 54.890625 33.015625 \nL 54.890625 0 \nL 45.90625 0 \nL 45.90625 32.71875 \nQ 45.90625 40.484375 42.875 44.328125 \nQ 39.84375 48.1875 33.796875 48.1875 \nQ 26.515625 48.1875 22.3125 43.546875 \nQ 18.109375 38.921875 18.109375 30.90625 \nL 18.109375 0 \nL 9.078125 0 \nL 9.078125 54.6875 \nL 18.109375 54.6875 \nL 18.109375 46.1875 \nQ 21.34375 51.125 25.703125 53.5625 \nQ 30.078125 56 35.796875 56 \nQ 45.21875 56 50.046875 50.171875 \nQ 54.890625 44.34375 54.890625 33.015625 \nz\n\" id=\"DejaVuSans-110\"/>\n    </defs>\n    <g style=\"fill:#0000ff;\" transform=\"translate(161.152822 42.481849)scale(0.1 -0.1)\">\n     <use xlink:href=\"#DejaVuSans-111\"/>\n     <use x=\"61.181641\" xlink:href=\"#DejaVuSans-110\"/>\n     <use x=\"124.560547\" xlink:href=\"#DejaVuSans-116\"/>\n    </g>\n   </g>\n   <g id=\"text_14\">\n    <!-- information -->\n    <defs>\n     <path d=\"M 37.109375 75.984375 \nL 37.109375 68.5 \nL 28.515625 68.5 \nQ 23.6875 68.5 21.796875 66.546875 \nQ 19.921875 64.59375 19.921875 59.515625 \nL 19.921875 54.6875 \nL 34.71875 54.6875 \nL 34.71875 47.703125 \nL 19.921875 47.703125 \nL 19.921875 0 \nL 10.890625 0 \nL 10.890625 47.703125 \nL 2.296875 47.703125 \nL 2.296875 54.6875 \nL 10.890625 54.6875 \nL 10.890625 58.5 \nQ 10.890625 67.625 15.140625 71.796875 \nQ 19.390625 75.984375 28.609375 75.984375 \nz\n\" id=\"DejaVuSans-102\"/>\n     <path d=\"M 52 44.1875 \nQ 55.375 50.25 60.0625 53.125 \nQ 64.75 56 71.09375 56 \nQ 79.640625 56 84.28125 50.015625 \nQ 88.921875 44.046875 88.921875 33.015625 \nL 88.921875 0 \nL 79.890625 0 \nL 79.890625 32.71875 \nQ 79.890625 40.578125 77.09375 44.375 \nQ 74.3125 48.1875 68.609375 48.1875 \nQ 61.625 48.1875 57.5625 43.546875 \nQ 53.515625 38.921875 53.515625 30.90625 \nL 53.515625 0 \nL 44.484375 0 \nL 44.484375 32.71875 \nQ 44.484375 40.625 41.703125 44.40625 \nQ 38.921875 48.1875 33.109375 48.1875 \nQ 26.21875 48.1875 22.15625 43.53125 \nQ 18.109375 38.875 18.109375 30.90625 \nL 18.109375 0 \nL 9.078125 0 \nL 9.078125 54.6875 \nL 18.109375 54.6875 \nL 18.109375 46.1875 \nQ 21.1875 51.21875 25.484375 53.609375 \nQ 29.78125 56 35.6875 56 \nQ 41.65625 56 45.828125 52.96875 \nQ 50 49.953125 52 44.1875 \nz\n\" id=\"DejaVuSans-109\"/>\n     <path d=\"M 34.28125 27.484375 \nQ 23.390625 27.484375 19.1875 25 \nQ 14.984375 22.515625 14.984375 16.5 \nQ 14.984375 11.71875 18.140625 8.90625 \nQ 21.296875 6.109375 26.703125 6.109375 \nQ 34.1875 6.109375 38.703125 11.40625 \nQ 43.21875 16.703125 43.21875 25.484375 \nL 43.21875 27.484375 \nz\nM 52.203125 31.203125 \nL 52.203125 0 \nL 43.21875 0 \nL 43.21875 8.296875 \nQ 40.140625 3.328125 35.546875 0.953125 \nQ 30.953125 -1.421875 24.3125 -1.421875 \nQ 15.921875 -1.421875 10.953125 3.296875 \nQ 6 8.015625 6 15.921875 \nQ 6 25.140625 12.171875 29.828125 \nQ 18.359375 34.515625 30.609375 34.515625 \nL 43.21875 34.515625 \nL 43.21875 35.40625 \nQ 43.21875 41.609375 39.140625 45 \nQ 35.0625 48.390625 27.6875 48.390625 \nQ 23 48.390625 18.546875 47.265625 \nQ 14.109375 46.140625 10.015625 43.890625 \nL 10.015625 52.203125 \nQ 14.9375 54.109375 19.578125 55.046875 \nQ 24.21875 56 28.609375 56 \nQ 40.484375 56 46.34375 49.84375 \nQ 52.203125 43.703125 52.203125 31.203125 \nz\n\" id=\"DejaVuSans-97\"/>\n    </defs>\n    <g style=\"fill:#0000ff;\" transform=\"translate(140.559056 17.083636)scale(0.1 -0.1)\">\n     <use xlink:href=\"#DejaVuSans-105\"/>\n     <use x=\"27.783203\" xlink:href=\"#DejaVuSans-110\"/>\n     <use x=\"91.162109\" xlink:href=\"#DejaVuSans-102\"/>\n     <use x=\"126.367188\" xlink:href=\"#DejaVuSans-111\"/>\n     <use x=\"187.548828\" xlink:href=\"#DejaVuSans-114\"/>\n     <use x=\"226.912109\" xlink:href=\"#DejaVuSans-109\"/>\n     <use x=\"324.324219\" xlink:href=\"#DejaVuSans-97\"/>\n     <use x=\"385.603516\" xlink:href=\"#DejaVuSans-116\"/>\n     <use x=\"424.8125\" xlink:href=\"#DejaVuSans-105\"/>\n     <use x=\"452.595703\" xlink:href=\"#DejaVuSans-111\"/>\n     <use x=\"513.777344\" xlink:href=\"#DejaVuSans-110\"/>\n    </g>\n   </g>\n   <g id=\"text_15\">\n    <!-- concernant -->\n    <g style=\"fill:#0000ff;\" transform=\"translate(44.160369 214.756364)scale(0.1 -0.1)\">\n     <use xlink:href=\"#DejaVuSans-99\"/>\n     <use x=\"54.980469\" xlink:href=\"#DejaVuSans-111\"/>\n     <use x=\"116.162109\" xlink:href=\"#DejaVuSans-110\"/>\n     <use x=\"179.541016\" xlink:href=\"#DejaVuSans-99\"/>\n     <use x=\"234.521484\" xlink:href=\"#DejaVuSans-101\"/>\n     <use x=\"296.044922\" xlink:href=\"#DejaVuSans-114\"/>\n     <use x=\"335.408203\" xlink:href=\"#DejaVuSans-110\"/>\n     <use x=\"398.787109\" xlink:href=\"#DejaVuSans-97\"/>\n     <use x=\"460.066406\" xlink:href=\"#DejaVuSans-110\"/>\n     <use x=\"523.445312\" xlink:href=\"#DejaVuSans-116\"/>\n    </g>\n   </g>\n   <g id=\"text_16\">\n    <!-- toutefois -->\n    <defs>\n     <path d=\"M 8.5 21.578125 \nL 8.5 54.6875 \nL 17.484375 54.6875 \nL 17.484375 21.921875 \nQ 17.484375 14.15625 20.5 10.265625 \nQ 23.53125 6.390625 29.59375 6.390625 \nQ 36.859375 6.390625 41.078125 11.03125 \nQ 45.3125 15.671875 45.3125 23.6875 \nL 45.3125 54.6875 \nL 54.296875 54.6875 \nL 54.296875 0 \nL 45.3125 0 \nL 45.3125 8.40625 \nQ 42.046875 3.421875 37.71875 1 \nQ 33.40625 -1.421875 27.6875 -1.421875 \nQ 18.265625 -1.421875 13.375 4.4375 \nQ 8.5 10.296875 8.5 21.578125 \nz\nM 31.109375 56 \nz\n\" id=\"DejaVuSans-117\"/>\n    </defs>\n    <g style=\"fill:#0000ff;\" transform=\"translate(90.284943 20.795697)scale(0.1 -0.1)\">\n     <use xlink:href=\"#DejaVuSans-116\"/>\n     <use x=\"39.208984\" xlink:href=\"#DejaVuSans-111\"/>\n     <use x=\"100.390625\" xlink:href=\"#DejaVuSans-117\"/>\n     <use x=\"163.769531\" xlink:href=\"#DejaVuSans-116\"/>\n     <use x=\"202.978516\" xlink:href=\"#DejaVuSans-101\"/>\n     <use x=\"264.501953\" xlink:href=\"#DejaVuSans-102\"/>\n     <use x=\"299.707031\" xlink:href=\"#DejaVuSans-111\"/>\n     <use x=\"360.888672\" xlink:href=\"#DejaVuSans-105\"/>\n     <use x=\"388.671875\" xlink:href=\"#DejaVuSans-115\"/>\n    </g>\n   </g>\n   <g id=\"text_17\">\n    <!-- innocentes -->\n    <g style=\"fill:#0000ff;\" transform=\"translate(154.094085 63.600821)scale(0.1 -0.1)\">\n     <use xlink:href=\"#DejaVuSans-105\"/>\n     <use x=\"27.783203\" xlink:href=\"#DejaVuSans-110\"/>\n     <use x=\"91.162109\" xlink:href=\"#DejaVuSans-110\"/>\n     <use x=\"154.541016\" xlink:href=\"#DejaVuSans-111\"/>\n     <use x=\"215.722656\" xlink:href=\"#DejaVuSans-99\"/>\n     <use x=\"270.703125\" xlink:href=\"#DejaVuSans-101\"/>\n     <use x=\"332.226562\" xlink:href=\"#DejaVuSans-110\"/>\n     <use x=\"395.605469\" xlink:href=\"#DejaVuSans-116\"/>\n     <use x=\"434.814453\" xlink:href=\"#DejaVuSans-101\"/>\n     <use x=\"496.337891\" xlink:href=\"#DejaVuSans-115\"/>\n    </g>\n   </g>\n   <g id=\"text_18\">\n    <!-- paragraphe -->\n    <defs>\n     <path d=\"M 18.109375 8.203125 \nL 18.109375 -20.796875 \nL 9.078125 -20.796875 \nL 9.078125 54.6875 \nL 18.109375 54.6875 \nL 18.109375 46.390625 \nQ 20.953125 51.265625 25.265625 53.625 \nQ 29.59375 56 35.59375 56 \nQ 45.5625 56 51.78125 48.09375 \nQ 58.015625 40.1875 58.015625 27.296875 \nQ 58.015625 14.40625 51.78125 6.484375 \nQ 45.5625 -1.421875 35.59375 -1.421875 \nQ 29.59375 -1.421875 25.265625 0.953125 \nQ 20.953125 3.328125 18.109375 8.203125 \nz\nM 48.6875 27.296875 \nQ 48.6875 37.203125 44.609375 42.84375 \nQ 40.53125 48.484375 33.40625 48.484375 \nQ 26.265625 48.484375 22.1875 42.84375 \nQ 18.109375 37.203125 18.109375 27.296875 \nQ 18.109375 17.390625 22.1875 11.75 \nQ 26.265625 6.109375 33.40625 6.109375 \nQ 40.53125 6.109375 44.609375 11.75 \nQ 48.6875 17.390625 48.6875 27.296875 \nz\n\" id=\"DejaVuSans-112\"/>\n     <path d=\"M 45.40625 27.984375 \nQ 45.40625 37.75 41.375 43.109375 \nQ 37.359375 48.484375 30.078125 48.484375 \nQ 22.859375 48.484375 18.828125 43.109375 \nQ 14.796875 37.75 14.796875 27.984375 \nQ 14.796875 18.265625 18.828125 12.890625 \nQ 22.859375 7.515625 30.078125 7.515625 \nQ 37.359375 7.515625 41.375 12.890625 \nQ 45.40625 18.265625 45.40625 27.984375 \nz\nM 54.390625 6.78125 \nQ 54.390625 -7.171875 48.1875 -13.984375 \nQ 42 -20.796875 29.203125 -20.796875 \nQ 24.46875 -20.796875 20.265625 -20.09375 \nQ 16.0625 -19.390625 12.109375 -17.921875 \nL 12.109375 -9.1875 \nQ 16.0625 -11.328125 19.921875 -12.34375 \nQ 23.78125 -13.375 27.78125 -13.375 \nQ 36.625 -13.375 41.015625 -8.765625 \nQ 45.40625 -4.15625 45.40625 5.171875 \nL 45.40625 9.625 \nQ 42.625 4.78125 38.28125 2.390625 \nQ 33.9375 0 27.875 0 \nQ 17.828125 0 11.671875 7.65625 \nQ 5.515625 15.328125 5.515625 27.984375 \nQ 5.515625 40.671875 11.671875 48.328125 \nQ 17.828125 56 27.875 56 \nQ 33.9375 56 38.28125 53.609375 \nQ 42.625 51.21875 45.40625 46.390625 \nL 45.40625 54.6875 \nL 54.390625 54.6875 \nz\n\" id=\"DejaVuSans-103\"/>\n     <path d=\"M 54.890625 33.015625 \nL 54.890625 0 \nL 45.90625 0 \nL 45.90625 32.71875 \nQ 45.90625 40.484375 42.875 44.328125 \nQ 39.84375 48.1875 33.796875 48.1875 \nQ 26.515625 48.1875 22.3125 43.546875 \nQ 18.109375 38.921875 18.109375 30.90625 \nL 18.109375 0 \nL 9.078125 0 \nL 9.078125 75.984375 \nL 18.109375 75.984375 \nL 18.109375 46.1875 \nQ 21.34375 51.125 25.703125 53.5625 \nQ 30.078125 56 35.796875 56 \nQ 45.21875 56 50.046875 50.171875 \nQ 54.890625 44.34375 54.890625 33.015625 \nz\n\" id=\"DejaVuSans-104\"/>\n    </defs>\n    <g style=\"fill:#0000ff;\" transform=\"translate(348.524006 85.115625)scale(0.1 -0.1)\">\n     <use xlink:href=\"#DejaVuSans-112\"/>\n     <use x=\"63.476562\" xlink:href=\"#DejaVuSans-97\"/>\n     <use x=\"124.755859\" xlink:href=\"#DejaVuSans-114\"/>\n     <use x=\"165.869141\" xlink:href=\"#DejaVuSans-97\"/>\n     <use x=\"227.148438\" xlink:href=\"#DejaVuSans-103\"/>\n     <use x=\"290.625\" xlink:href=\"#DejaVuSans-114\"/>\n     <use x=\"331.738281\" xlink:href=\"#DejaVuSans-97\"/>\n     <use x=\"393.017578\" xlink:href=\"#DejaVuSans-112\"/>\n     <use x=\"456.494141\" xlink:href=\"#DejaVuSans-104\"/>\n     <use x=\"519.873047\" xlink:href=\"#DejaVuSans-101\"/>\n    </g>\n   </g>\n   <g id=\"text_19\">\n    <!-- risques -->\n    <defs>\n     <path d=\"M 14.796875 27.296875 \nQ 14.796875 17.390625 18.875 11.75 \nQ 22.953125 6.109375 30.078125 6.109375 \nQ 37.203125 6.109375 41.296875 11.75 \nQ 45.40625 17.390625 45.40625 27.296875 \nQ 45.40625 37.203125 41.296875 42.84375 \nQ 37.203125 48.484375 30.078125 48.484375 \nQ 22.953125 48.484375 18.875 42.84375 \nQ 14.796875 37.203125 14.796875 27.296875 \nz\nM 45.40625 8.203125 \nQ 42.578125 3.328125 38.25 0.953125 \nQ 33.9375 -1.421875 27.875 -1.421875 \nQ 17.96875 -1.421875 11.734375 6.484375 \nQ 5.515625 14.40625 5.515625 27.296875 \nQ 5.515625 40.1875 11.734375 48.09375 \nQ 17.96875 56 27.875 56 \nQ 33.9375 56 38.25 53.625 \nQ 42.578125 51.265625 45.40625 46.390625 \nL 45.40625 54.6875 \nL 54.390625 54.6875 \nL 54.390625 -20.796875 \nL 45.40625 -20.796875 \nz\n\" id=\"DejaVuSans-113\"/>\n    </defs>\n    <g style=\"fill:#0000ff;\" transform=\"translate(289.201987 153.316971)scale(0.1 -0.1)\">\n     <use xlink:href=\"#DejaVuSans-114\"/>\n     <use x=\"41.113281\" xlink:href=\"#DejaVuSans-105\"/>\n     <use x=\"68.896484\" xlink:href=\"#DejaVuSans-115\"/>\n     <use x=\"120.996094\" xlink:href=\"#DejaVuSans-113\"/>\n     <use x=\"184.472656\" xlink:href=\"#DejaVuSans-117\"/>\n     <use x=\"247.851562\" xlink:href=\"#DejaVuSans-101\"/>\n     <use x=\"309.375\" xlink:href=\"#DejaVuSans-115\"/>\n    </g>\n   </g>\n  </g>\n </g>\n <defs>\n  <clipPath id=\"pb01d4364de\">\n   <rect height=\"217.44\" width=\"334.8\" x=\"28.942188\" y=\"7.2\"/>\n  </clipPath>\n </defs>\n</svg>\n"
          },
          "metadata": {
            "needs_background": "light"
          }
        }
      ]
    },
    {
      "cell_type": "code",
      "source": [
        "result_pca_en = compute_pca(en_emb_translate, 3)\n",
        "result_pca_fr = compute_pca(fr_embeddings, 3)\n",
        "pyplot.grid()\n",
        "pyplot.scatter(result_pca_en[:50, 0], result_pca_en[:50, 1], color=\"red\")\n",
        "pyplot.scatter(result_pca_fr[:50, 0], result_pca_en[:50, 1], color=\"blue\")\n",
        "for i, (word_en,word_fr) in enumerate(zip(words_en[:50],words_fr[:50])):\n",
        "    pyplot.annotate(word_en, xy=(result_pca_en[i, 0], result_pca_en[i, 1]), color=\"red\")\n",
        "    pyplot.annotate(word_fr, xy=(result_pca_fr[i, 0], result_pca_fr[i, 1]), color=\"blue\")\n",
        "pyplot.show()\n"
      ],
      "metadata": {
        "colab": {
          "base_uri": "https://localhost:8080/",
          "height": 352
        },
        "id": "vhww90_JRAA9",
        "outputId": "e60c0f4e-406c-4893-f1e5-7768457a6417"
      },
      "execution_count": null,
      "outputs": [
        {
          "output_type": "display_data",
          "data": {
            "text/plain": [
              "<Figure size 432x288 with 1 Axes>"
            ],
            "image/svg+xml": "<?xml version=\"1.0\" encoding=\"utf-8\" standalone=\"no\"?>\n<!DOCTYPE svg PUBLIC \"-//W3C//DTD SVG 1.1//EN\"\n  \"http://www.w3.org/Graphics/SVG/1.1/DTD/svg11.dtd\">\n<!-- Created with matplotlib (https://matplotlib.org/) -->\n<svg height=\"248.518125pt\" version=\"1.1\" viewBox=\"0 0 373.969318 248.518125\" width=\"373.969318pt\" xmlns=\"http://www.w3.org/2000/svg\" xmlns:xlink=\"http://www.w3.org/1999/xlink\">\n <defs>\n  <style type=\"text/css\">\n*{stroke-linecap:butt;stroke-linejoin:round;}\n  </style>\n </defs>\n <g id=\"figure_1\">\n  <g id=\"patch_1\">\n   <path d=\"M 0 248.518125 \nL 373.969318 248.518125 \nL 373.969318 0 \nL 0 0 \nz\n\" style=\"fill:none;\"/>\n  </g>\n  <g id=\"axes_1\">\n   <g id=\"patch_2\">\n    <path d=\"M 28.942188 224.64 \nL 363.742188 224.64 \nL 363.742188 7.2 \nL 28.942188 7.2 \nz\n\" style=\"fill:#ffffff;\"/>\n   </g>\n   <g id=\"PathCollection_1\">\n    <defs>\n     <path d=\"M 0 3 \nC 0.795609 3 1.55874 2.683901 2.12132 2.12132 \nC 2.683901 1.55874 3 0.795609 3 0 \nC 3 -0.795609 2.683901 -1.55874 2.12132 -2.12132 \nC 1.55874 -2.683901 0.795609 -3 0 -3 \nC -0.795609 -3 -1.55874 -2.683901 -2.12132 -2.12132 \nC -2.683901 -1.55874 -3 -0.795609 -3 0 \nC -3 0.795609 -2.683901 1.55874 -2.12132 2.12132 \nC -1.55874 2.683901 -0.795609 3 0 3 \nz\n\" id=\"m081f178bc2\" style=\"stroke:#ff0000;\"/>\n    </defs>\n    <g clip-path=\"url(#pc0a4a52cac)\">\n     <use style=\"fill:#ff0000;stroke:#ff0000;\" x=\"334.314152\" xlink:href=\"#m081f178bc2\" y=\"183.503017\"/>\n     <use style=\"fill:#ff0000;stroke:#ff0000;\" x=\"334.314152\" xlink:href=\"#m081f178bc2\" y=\"183.503017\"/>\n     <use style=\"fill:#ff0000;stroke:#ff0000;\" x=\"334.314152\" xlink:href=\"#m081f178bc2\" y=\"183.503017\"/>\n     <use style=\"fill:#ff0000;stroke:#ff0000;\" x=\"146.169566\" xlink:href=\"#m081f178bc2\" y=\"119.017749\"/>\n     <use style=\"fill:#ff0000;stroke:#ff0000;\" x=\"141.539299\" xlink:href=\"#m081f178bc2\" y=\"74.692923\"/>\n     <use style=\"fill:#ff0000;stroke:#ff0000;\" x=\"152.265791\" xlink:href=\"#m081f178bc2\" y=\"180.01523\"/>\n     <use style=\"fill:#ff0000;stroke:#ff0000;\" x=\"190.359513\" xlink:href=\"#m081f178bc2\" y=\"173.330516\"/>\n     <use style=\"fill:#ff0000;stroke:#ff0000;\" x=\"190.359513\" xlink:href=\"#m081f178bc2\" y=\"173.330516\"/>\n     <use style=\"fill:#ff0000;stroke:#ff0000;\" x=\"143.167889\" xlink:href=\"#m081f178bc2\" y=\"206.331125\"/>\n     <use style=\"fill:#ff0000;stroke:#ff0000;\" x=\"151.543175\" xlink:href=\"#m081f178bc2\" y=\"191.441489\"/>\n     <use style=\"fill:#ff0000;stroke:#ff0000;\" x=\"151.543175\" xlink:href=\"#m081f178bc2\" y=\"191.441489\"/>\n     <use style=\"fill:#ff0000;stroke:#ff0000;\" x=\"151.543175\" xlink:href=\"#m081f178bc2\" y=\"191.441489\"/>\n     <use style=\"fill:#ff0000;stroke:#ff0000;\" x=\"348.524006\" xlink:href=\"#m081f178bc2\" y=\"17.083636\"/>\n     <use style=\"fill:#ff0000;stroke:#ff0000;\" x=\"348.524006\" xlink:href=\"#m081f178bc2\" y=\"17.083636\"/>\n     <use style=\"fill:#ff0000;stroke:#ff0000;\" x=\"348.524006\" xlink:href=\"#m081f178bc2\" y=\"17.083636\"/>\n     <use style=\"fill:#ff0000;stroke:#ff0000;\" x=\"348.524006\" xlink:href=\"#m081f178bc2\" y=\"17.083636\"/>\n     <use style=\"fill:#ff0000;stroke:#ff0000;\" x=\"348.524006\" xlink:href=\"#m081f178bc2\" y=\"17.083636\"/>\n     <use style=\"fill:#ff0000;stroke:#ff0000;\" x=\"276.064378\" xlink:href=\"#m081f178bc2\" y=\"173.38328\"/>\n     <use style=\"fill:#ff0000;stroke:#ff0000;\" x=\"276.064378\" xlink:href=\"#m081f178bc2\" y=\"173.38328\"/>\n     <use style=\"fill:#ff0000;stroke:#ff0000;\" x=\"276.064378\" xlink:href=\"#m081f178bc2\" y=\"173.38328\"/>\n     <use style=\"fill:#ff0000;stroke:#ff0000;\" x=\"81.261009\" xlink:href=\"#m081f178bc2\" y=\"117.724023\"/>\n     <use style=\"fill:#ff0000;stroke:#ff0000;\" x=\"81.261009\" xlink:href=\"#m081f178bc2\" y=\"117.724023\"/>\n     <use style=\"fill:#ff0000;stroke:#ff0000;\" x=\"139.092749\" xlink:href=\"#m081f178bc2\" y=\"80.951813\"/>\n     <use style=\"fill:#ff0000;stroke:#ff0000;\" x=\"189.347522\" xlink:href=\"#m081f178bc2\" y=\"127.10915\"/>\n     <use style=\"fill:#ff0000;stroke:#ff0000;\" x=\"189.347522\" xlink:href=\"#m081f178bc2\" y=\"127.10915\"/>\n     <use style=\"fill:#ff0000;stroke:#ff0000;\" x=\"156.453347\" xlink:href=\"#m081f178bc2\" y=\"78.535717\"/>\n     <use style=\"fill:#ff0000;stroke:#ff0000;\" x=\"156.453347\" xlink:href=\"#m081f178bc2\" y=\"78.535717\"/>\n     <use style=\"fill:#ff0000;stroke:#ff0000;\" x=\"148.536821\" xlink:href=\"#m081f178bc2\" y=\"113.339945\"/>\n     <use style=\"fill:#ff0000;stroke:#ff0000;\" x=\"118.125658\" xlink:href=\"#m081f178bc2\" y=\"55.336082\"/>\n     <use style=\"fill:#ff0000;stroke:#ff0000;\" x=\"118.125658\" xlink:href=\"#m081f178bc2\" y=\"55.336082\"/>\n     <use style=\"fill:#ff0000;stroke:#ff0000;\" x=\"215.908275\" xlink:href=\"#m081f178bc2\" y=\"119.094328\"/>\n     <use style=\"fill:#ff0000;stroke:#ff0000;\" x=\"215.908275\" xlink:href=\"#m081f178bc2\" y=\"119.094328\"/>\n     <use style=\"fill:#ff0000;stroke:#ff0000;\" x=\"190.971467\" xlink:href=\"#m081f178bc2\" y=\"94.238383\"/>\n     <use style=\"fill:#ff0000;stroke:#ff0000;\" x=\"190.971467\" xlink:href=\"#m081f178bc2\" y=\"94.238383\"/>\n     <use style=\"fill:#ff0000;stroke:#ff0000;\" x=\"188.785707\" xlink:href=\"#m081f178bc2\" y=\"121.432839\"/>\n     <use style=\"fill:#ff0000;stroke:#ff0000;\" x=\"193.974096\" xlink:href=\"#m081f178bc2\" y=\"73.740564\"/>\n     <use style=\"fill:#ff0000;stroke:#ff0000;\" x=\"193.974096\" xlink:href=\"#m081f178bc2\" y=\"73.740564\"/>\n     <use style=\"fill:#ff0000;stroke:#ff0000;\" x=\"115.49647\" xlink:href=\"#m081f178bc2\" y=\"40.991086\"/>\n     <use style=\"fill:#ff0000;stroke:#ff0000;\" x=\"115.49647\" xlink:href=\"#m081f178bc2\" y=\"40.991086\"/>\n     <use style=\"fill:#ff0000;stroke:#ff0000;\" x=\"115.49647\" xlink:href=\"#m081f178bc2\" y=\"40.991086\"/>\n     <use style=\"fill:#ff0000;stroke:#ff0000;\" x=\"136.234812\" xlink:href=\"#m081f178bc2\" y=\"112.737373\"/>\n     <use style=\"fill:#ff0000;stroke:#ff0000;\" x=\"195.286688\" xlink:href=\"#m081f178bc2\" y=\"169.886697\"/>\n     <use style=\"fill:#ff0000;stroke:#ff0000;\" x=\"195.286688\" xlink:href=\"#m081f178bc2\" y=\"169.886697\"/>\n     <use style=\"fill:#ff0000;stroke:#ff0000;\" x=\"195.286688\" xlink:href=\"#m081f178bc2\" y=\"169.886697\"/>\n     <use style=\"fill:#ff0000;stroke:#ff0000;\" x=\"195.286688\" xlink:href=\"#m081f178bc2\" y=\"169.886697\"/>\n     <use style=\"fill:#ff0000;stroke:#ff0000;\" x=\"189.950834\" xlink:href=\"#m081f178bc2\" y=\"151.985293\"/>\n     <use style=\"fill:#ff0000;stroke:#ff0000;\" x=\"189.950834\" xlink:href=\"#m081f178bc2\" y=\"151.985293\"/>\n     <use style=\"fill:#ff0000;stroke:#ff0000;\" x=\"145.123565\" xlink:href=\"#m081f178bc2\" y=\"123.507407\"/>\n     <use style=\"fill:#ff0000;stroke:#ff0000;\" x=\"281.54003\" xlink:href=\"#m081f178bc2\" y=\"128.320805\"/>\n     <use style=\"fill:#ff0000;stroke:#ff0000;\" x=\"281.54003\" xlink:href=\"#m081f178bc2\" y=\"128.320805\"/>\n    </g>\n   </g>\n   <g id=\"PathCollection_2\">\n    <defs>\n     <path d=\"M 0 3 \nC 0.795609 3 1.55874 2.683901 2.12132 2.12132 \nC 2.683901 1.55874 3 0.795609 3 0 \nC 3 -0.795609 2.683901 -1.55874 2.12132 -2.12132 \nC 1.55874 -2.683901 0.795609 -3 0 -3 \nC -0.795609 -3 -1.55874 -2.683901 -2.12132 -2.12132 \nC -2.683901 -1.55874 -3 -0.795609 -3 0 \nC -3 0.795609 -2.683901 1.55874 -2.12132 2.12132 \nC -1.55874 2.683901 -0.795609 3 0 3 \nz\n\" id=\"m3c06cffc9c\" style=\"stroke:#0000ff;\"/>\n    </defs>\n    <g clip-path=\"url(#pc0a4a52cac)\">\n     <use style=\"fill:#0000ff;stroke:#0000ff;\" x=\"50.334949\" xlink:href=\"#m3c06cffc9c\" y=\"151.322123\"/>\n     <use style=\"fill:#0000ff;stroke:#0000ff;\" x=\"99.754719\" xlink:href=\"#m3c06cffc9c\" y=\"126.280839\"/>\n     <use style=\"fill:#0000ff;stroke:#0000ff;\" x=\"44.160369\" xlink:href=\"#m3c06cffc9c\" y=\"132.996503\"/>\n     <use style=\"fill:#0000ff;stroke:#0000ff;\" x=\"251.883705\" xlink:href=\"#m3c06cffc9c\" y=\"150.686578\"/>\n     <use style=\"fill:#0000ff;stroke:#0000ff;\" x=\"200.316941\" xlink:href=\"#m3c06cffc9c\" y=\"126.266456\"/>\n     <use style=\"fill:#0000ff;stroke:#0000ff;\" x=\"200.332103\" xlink:href=\"#m3c06cffc9c\" y=\"200.721902\"/>\n     <use style=\"fill:#0000ff;stroke:#0000ff;\" x=\"250.659391\" xlink:href=\"#m3c06cffc9c\" y=\"160.015176\"/>\n     <use style=\"fill:#0000ff;stroke:#0000ff;\" x=\"181.361015\" xlink:href=\"#m3c06cffc9c\" y=\"122.790477\"/>\n     <use style=\"fill:#0000ff;stroke:#0000ff;\" x=\"218.171232\" xlink:href=\"#m3c06cffc9c\" y=\"180.783582\"/>\n     <use style=\"fill:#0000ff;stroke:#0000ff;\" x=\"143.188104\" xlink:href=\"#m3c06cffc9c\" y=\"171.266536\"/>\n     <use style=\"fill:#0000ff;stroke:#0000ff;\" x=\"167.58442\" xlink:href=\"#m3c06cffc9c\" y=\"214.756364\"/>\n     <use style=\"fill:#0000ff;stroke:#0000ff;\" x=\"223.526731\" xlink:href=\"#m3c06cffc9c\" y=\"127.987146\"/>\n     <use style=\"fill:#0000ff;stroke:#0000ff;\" x=\"221.701999\" xlink:href=\"#m3c06cffc9c\" y=\"141.291216\"/>\n     <use style=\"fill:#0000ff;stroke:#0000ff;\" x=\"122.226913\" xlink:href=\"#m3c06cffc9c\" y=\"118.624907\"/>\n     <use style=\"fill:#0000ff;stroke:#0000ff;\" x=\"51.703136\" xlink:href=\"#m3c06cffc9c\" y=\"124.326705\"/>\n     <use style=\"fill:#0000ff;stroke:#0000ff;\" x=\"181.361015\" xlink:href=\"#m3c06cffc9c\" y=\"122.790477\"/>\n     <use style=\"fill:#0000ff;stroke:#0000ff;\" x=\"74.74826\" xlink:href=\"#m3c06cffc9c\" y=\"143.281271\"/>\n     <use style=\"fill:#0000ff;stroke:#0000ff;\" x=\"98.653123\" xlink:href=\"#m3c06cffc9c\" y=\"168.204976\"/>\n     <use style=\"fill:#0000ff;stroke:#0000ff;\" x=\"77.605562\" xlink:href=\"#m3c06cffc9c\" y=\"114.163878\"/>\n     <use style=\"fill:#0000ff;stroke:#0000ff;\" x=\"50.782844\" xlink:href=\"#m3c06cffc9c\" y=\"110.611188\"/>\n     <use style=\"fill:#0000ff;stroke:#0000ff;\" x=\"186.046383\" xlink:href=\"#m3c06cffc9c\" y=\"154.295833\"/>\n     <use style=\"fill:#0000ff;stroke:#0000ff;\" x=\"215.51859\" xlink:href=\"#m3c06cffc9c\" y=\"135.931964\"/>\n     <use style=\"fill:#0000ff;stroke:#0000ff;\" x=\"170.183707\" xlink:href=\"#m3c06cffc9c\" y=\"115.284787\"/>\n     <use style=\"fill:#0000ff;stroke:#0000ff;\" x=\"188.935459\" xlink:href=\"#m3c06cffc9c\" y=\"126.814722\"/>\n     <use style=\"fill:#0000ff;stroke:#0000ff;\" x=\"169.92367\" xlink:href=\"#m3c06cffc9c\" y=\"174.76786\"/>\n     <use style=\"fill:#0000ff;stroke:#0000ff;\" x=\"171.38359\" xlink:href=\"#m3c06cffc9c\" y=\"130.151923\"/>\n     <use style=\"fill:#0000ff;stroke:#0000ff;\" x=\"209.466204\" xlink:href=\"#m3c06cffc9c\" y=\"145.997803\"/>\n     <use style=\"fill:#0000ff;stroke:#0000ff;\" x=\"254.686608\" xlink:href=\"#m3c06cffc9c\" y=\"163.25504\"/>\n     <use style=\"fill:#0000ff;stroke:#0000ff;\" x=\"159.319807\" xlink:href=\"#m3c06cffc9c\" y=\"63.684607\"/>\n     <use style=\"fill:#0000ff;stroke:#0000ff;\" x=\"202.03712\" xlink:href=\"#m3c06cffc9c\" y=\"87.278941\"/>\n     <use style=\"fill:#0000ff;stroke:#0000ff;\" x=\"70.384811\" xlink:href=\"#m3c06cffc9c\" y=\"131.803038\"/>\n     <use style=\"fill:#0000ff;stroke:#0000ff;\" x=\"66.081932\" xlink:href=\"#m3c06cffc9c\" y=\"139.819672\"/>\n     <use style=\"fill:#0000ff;stroke:#0000ff;\" x=\"140.44813\" xlink:href=\"#m3c06cffc9c\" y=\"129.330159\"/>\n     <use style=\"fill:#0000ff;stroke:#0000ff;\" x=\"167.249788\" xlink:href=\"#m3c06cffc9c\" y=\"127.603008\"/>\n     <use style=\"fill:#0000ff;stroke:#0000ff;\" x=\"132.556795\" xlink:href=\"#m3c06cffc9c\" y=\"136.666013\"/>\n     <use style=\"fill:#0000ff;stroke:#0000ff;\" x=\"180.351101\" xlink:href=\"#m3c06cffc9c\" y=\"116.984461\"/>\n     <use style=\"fill:#0000ff;stroke:#0000ff;\" x=\"160.94091\" xlink:href=\"#m3c06cffc9c\" y=\"108.417758\"/>\n     <use style=\"fill:#0000ff;stroke:#0000ff;\" x=\"196.575593\" xlink:href=\"#m3c06cffc9c\" y=\"81.066793\"/>\n     <use style=\"fill:#0000ff;stroke:#0000ff;\" x=\"203.684914\" xlink:href=\"#m3c06cffc9c\" y=\"121.536659\"/>\n     <use style=\"fill:#0000ff;stroke:#0000ff;\" x=\"163.712196\" xlink:href=\"#m3c06cffc9c\" y=\"155.252101\"/>\n     <use style=\"fill:#0000ff;stroke:#0000ff;\" x=\"231.983195\" xlink:href=\"#m3c06cffc9c\" y=\"177.606368\"/>\n     <use style=\"fill:#0000ff;stroke:#0000ff;\" x=\"179.55489\" xlink:href=\"#m3c06cffc9c\" y=\"140.934098\"/>\n     <use style=\"fill:#0000ff;stroke:#0000ff;\" x=\"150.025801\" xlink:href=\"#m3c06cffc9c\" y=\"153.129605\"/>\n     <use style=\"fill:#0000ff;stroke:#0000ff;\" x=\"138.922518\" xlink:href=\"#m3c06cffc9c\" y=\"133.742884\"/>\n     <use style=\"fill:#0000ff;stroke:#0000ff;\" x=\"117.596651\" xlink:href=\"#m3c06cffc9c\" y=\"143.931277\"/>\n     <use style=\"fill:#0000ff;stroke:#0000ff;\" x=\"152.001624\" xlink:href=\"#m3c06cffc9c\" y=\"79.074649\"/>\n     <use style=\"fill:#0000ff;stroke:#0000ff;\" x=\"189.762689\" xlink:href=\"#m3c06cffc9c\" y=\"117.899434\"/>\n     <use style=\"fill:#0000ff;stroke:#0000ff;\" x=\"191.995072\" xlink:href=\"#m3c06cffc9c\" y=\"150.777509\"/>\n     <use style=\"fill:#0000ff;stroke:#0000ff;\" x=\"98.653123\" xlink:href=\"#m3c06cffc9c\" y=\"168.204976\"/>\n     <use style=\"fill:#0000ff;stroke:#0000ff;\" x=\"77.605562\" xlink:href=\"#m3c06cffc9c\" y=\"114.163878\"/>\n    </g>\n   </g>\n   <g id=\"matplotlib.axis_1\">\n    <g id=\"xtick_1\">\n     <g id=\"line2d_1\">\n      <path clip-path=\"url(#pc0a4a52cac)\" d=\"M 76.80879 224.64 \nL 76.80879 7.2 \n\" style=\"fill:none;stroke:#b0b0b0;stroke-linecap:square;stroke-width:0.8;\"/>\n     </g>\n     <g id=\"line2d_2\">\n      <defs>\n       <path d=\"M 0 0 \nL 0 3.5 \n\" id=\"m7618c80924\" style=\"stroke:#000000;stroke-width:0.8;\"/>\n      </defs>\n      <g>\n       <use style=\"stroke:#000000;stroke-width:0.8;\" x=\"76.80879\" xlink:href=\"#m7618c80924\" y=\"224.64\"/>\n      </g>\n     </g>\n     <g id=\"text_1\">\n      <!-- −2 -->\n      <defs>\n       <path d=\"M 10.59375 35.5 \nL 73.1875 35.5 \nL 73.1875 27.203125 \nL 10.59375 27.203125 \nz\n\" id=\"DejaVuSans-8722\"/>\n       <path d=\"M 19.1875 8.296875 \nL 53.609375 8.296875 \nL 53.609375 0 \nL 7.328125 0 \nL 7.328125 8.296875 \nQ 12.9375 14.109375 22.625 23.890625 \nQ 32.328125 33.6875 34.8125 36.53125 \nQ 39.546875 41.84375 41.421875 45.53125 \nQ 43.3125 49.21875 43.3125 52.78125 \nQ 43.3125 58.59375 39.234375 62.25 \nQ 35.15625 65.921875 28.609375 65.921875 \nQ 23.96875 65.921875 18.8125 64.3125 \nQ 13.671875 62.703125 7.8125 59.421875 \nL 7.8125 69.390625 \nQ 13.765625 71.78125 18.9375 73 \nQ 24.125 74.21875 28.421875 74.21875 \nQ 39.75 74.21875 46.484375 68.546875 \nQ 53.21875 62.890625 53.21875 53.421875 \nQ 53.21875 48.921875 51.53125 44.890625 \nQ 49.859375 40.875 45.40625 35.40625 \nQ 44.1875 33.984375 37.640625 27.21875 \nQ 31.109375 20.453125 19.1875 8.296875 \nz\n\" id=\"DejaVuSans-50\"/>\n      </defs>\n      <g transform=\"translate(69.437696 239.238437)scale(0.1 -0.1)\">\n       <use xlink:href=\"#DejaVuSans-8722\"/>\n       <use x=\"83.789062\" xlink:href=\"#DejaVuSans-50\"/>\n      </g>\n     </g>\n    </g>\n    <g id=\"xtick_2\">\n     <g id=\"line2d_3\">\n      <path clip-path=\"url(#pc0a4a52cac)\" d=\"M 126.786983 224.64 \nL 126.786983 7.2 \n\" style=\"fill:none;stroke:#b0b0b0;stroke-linecap:square;stroke-width:0.8;\"/>\n     </g>\n     <g id=\"line2d_4\">\n      <g>\n       <use style=\"stroke:#000000;stroke-width:0.8;\" x=\"126.786983\" xlink:href=\"#m7618c80924\" y=\"224.64\"/>\n      </g>\n     </g>\n     <g id=\"text_2\">\n      <!-- −1 -->\n      <defs>\n       <path d=\"M 12.40625 8.296875 \nL 28.515625 8.296875 \nL 28.515625 63.921875 \nL 10.984375 60.40625 \nL 10.984375 69.390625 \nL 28.421875 72.90625 \nL 38.28125 72.90625 \nL 38.28125 8.296875 \nL 54.390625 8.296875 \nL 54.390625 0 \nL 12.40625 0 \nz\n\" id=\"DejaVuSans-49\"/>\n      </defs>\n      <g transform=\"translate(119.415889 239.238437)scale(0.1 -0.1)\">\n       <use xlink:href=\"#DejaVuSans-8722\"/>\n       <use x=\"83.789062\" xlink:href=\"#DejaVuSans-49\"/>\n      </g>\n     </g>\n    </g>\n    <g id=\"xtick_3\">\n     <g id=\"line2d_5\">\n      <path clip-path=\"url(#pc0a4a52cac)\" d=\"M 176.765176 224.64 \nL 176.765176 7.2 \n\" style=\"fill:none;stroke:#b0b0b0;stroke-linecap:square;stroke-width:0.8;\"/>\n     </g>\n     <g id=\"line2d_6\">\n      <g>\n       <use style=\"stroke:#000000;stroke-width:0.8;\" x=\"176.765176\" xlink:href=\"#m7618c80924\" y=\"224.64\"/>\n      </g>\n     </g>\n     <g id=\"text_3\">\n      <!-- 0 -->\n      <defs>\n       <path d=\"M 31.78125 66.40625 \nQ 24.171875 66.40625 20.328125 58.90625 \nQ 16.5 51.421875 16.5 36.375 \nQ 16.5 21.390625 20.328125 13.890625 \nQ 24.171875 6.390625 31.78125 6.390625 \nQ 39.453125 6.390625 43.28125 13.890625 \nQ 47.125 21.390625 47.125 36.375 \nQ 47.125 51.421875 43.28125 58.90625 \nQ 39.453125 66.40625 31.78125 66.40625 \nz\nM 31.78125 74.21875 \nQ 44.046875 74.21875 50.515625 64.515625 \nQ 56.984375 54.828125 56.984375 36.375 \nQ 56.984375 17.96875 50.515625 8.265625 \nQ 44.046875 -1.421875 31.78125 -1.421875 \nQ 19.53125 -1.421875 13.0625 8.265625 \nQ 6.59375 17.96875 6.59375 36.375 \nQ 6.59375 54.828125 13.0625 64.515625 \nQ 19.53125 74.21875 31.78125 74.21875 \nz\n\" id=\"DejaVuSans-48\"/>\n      </defs>\n      <g transform=\"translate(173.583926 239.238437)scale(0.1 -0.1)\">\n       <use xlink:href=\"#DejaVuSans-48\"/>\n      </g>\n     </g>\n    </g>\n    <g id=\"xtick_4\">\n     <g id=\"line2d_7\">\n      <path clip-path=\"url(#pc0a4a52cac)\" d=\"M 226.74337 224.64 \nL 226.74337 7.2 \n\" style=\"fill:none;stroke:#b0b0b0;stroke-linecap:square;stroke-width:0.8;\"/>\n     </g>\n     <g id=\"line2d_8\">\n      <g>\n       <use style=\"stroke:#000000;stroke-width:0.8;\" x=\"226.74337\" xlink:href=\"#m7618c80924\" y=\"224.64\"/>\n      </g>\n     </g>\n     <g id=\"text_4\">\n      <!-- 1 -->\n      <g transform=\"translate(223.56212 239.238437)scale(0.1 -0.1)\">\n       <use xlink:href=\"#DejaVuSans-49\"/>\n      </g>\n     </g>\n    </g>\n    <g id=\"xtick_5\">\n     <g id=\"line2d_9\">\n      <path clip-path=\"url(#pc0a4a52cac)\" d=\"M 276.721563 224.64 \nL 276.721563 7.2 \n\" style=\"fill:none;stroke:#b0b0b0;stroke-linecap:square;stroke-width:0.8;\"/>\n     </g>\n     <g id=\"line2d_10\">\n      <g>\n       <use style=\"stroke:#000000;stroke-width:0.8;\" x=\"276.721563\" xlink:href=\"#m7618c80924\" y=\"224.64\"/>\n      </g>\n     </g>\n     <g id=\"text_5\">\n      <!-- 2 -->\n      <g transform=\"translate(273.540313 239.238437)scale(0.1 -0.1)\">\n       <use xlink:href=\"#DejaVuSans-50\"/>\n      </g>\n     </g>\n    </g>\n    <g id=\"xtick_6\">\n     <g id=\"line2d_11\">\n      <path clip-path=\"url(#pc0a4a52cac)\" d=\"M 326.699756 224.64 \nL 326.699756 7.2 \n\" style=\"fill:none;stroke:#b0b0b0;stroke-linecap:square;stroke-width:0.8;\"/>\n     </g>\n     <g id=\"line2d_12\">\n      <g>\n       <use style=\"stroke:#000000;stroke-width:0.8;\" x=\"326.699756\" xlink:href=\"#m7618c80924\" y=\"224.64\"/>\n      </g>\n     </g>\n     <g id=\"text_6\">\n      <!-- 3 -->\n      <defs>\n       <path d=\"M 40.578125 39.3125 \nQ 47.65625 37.796875 51.625 33 \nQ 55.609375 28.21875 55.609375 21.1875 \nQ 55.609375 10.40625 48.1875 4.484375 \nQ 40.765625 -1.421875 27.09375 -1.421875 \nQ 22.515625 -1.421875 17.65625 -0.515625 \nQ 12.796875 0.390625 7.625 2.203125 \nL 7.625 11.71875 \nQ 11.71875 9.328125 16.59375 8.109375 \nQ 21.484375 6.890625 26.8125 6.890625 \nQ 36.078125 6.890625 40.9375 10.546875 \nQ 45.796875 14.203125 45.796875 21.1875 \nQ 45.796875 27.640625 41.28125 31.265625 \nQ 36.765625 34.90625 28.71875 34.90625 \nL 20.21875 34.90625 \nL 20.21875 43.015625 \nL 29.109375 43.015625 \nQ 36.375 43.015625 40.234375 45.921875 \nQ 44.09375 48.828125 44.09375 54.296875 \nQ 44.09375 59.90625 40.109375 62.90625 \nQ 36.140625 65.921875 28.71875 65.921875 \nQ 24.65625 65.921875 20.015625 65.03125 \nQ 15.375 64.15625 9.8125 62.3125 \nL 9.8125 71.09375 \nQ 15.4375 72.65625 20.34375 73.4375 \nQ 25.25 74.21875 29.59375 74.21875 \nQ 40.828125 74.21875 47.359375 69.109375 \nQ 53.90625 64.015625 53.90625 55.328125 \nQ 53.90625 49.265625 50.4375 45.09375 \nQ 46.96875 40.921875 40.578125 39.3125 \nz\n\" id=\"DejaVuSans-51\"/>\n      </defs>\n      <g transform=\"translate(323.518506 239.238437)scale(0.1 -0.1)\">\n       <use xlink:href=\"#DejaVuSans-51\"/>\n      </g>\n     </g>\n    </g>\n   </g>\n   <g id=\"matplotlib.axis_2\">\n    <g id=\"ytick_1\">\n     <g id=\"line2d_13\">\n      <path clip-path=\"url(#pc0a4a52cac)\" d=\"M 28.942188 208.229133 \nL 363.742188 208.229133 \n\" style=\"fill:none;stroke:#b0b0b0;stroke-linecap:square;stroke-width:0.8;\"/>\n     </g>\n     <g id=\"line2d_14\">\n      <defs>\n       <path d=\"M 0 0 \nL -3.5 0 \n\" id=\"md6abaa5899\" style=\"stroke:#000000;stroke-width:0.8;\"/>\n      </defs>\n      <g>\n       <use style=\"stroke:#000000;stroke-width:0.8;\" x=\"28.942188\" xlink:href=\"#md6abaa5899\" y=\"208.229133\"/>\n      </g>\n     </g>\n     <g id=\"text_7\">\n      <!-- −2 -->\n      <g transform=\"translate(7.2 212.028351)scale(0.1 -0.1)\">\n       <use xlink:href=\"#DejaVuSans-8722\"/>\n       <use x=\"83.789062\" xlink:href=\"#DejaVuSans-50\"/>\n      </g>\n     </g>\n    </g>\n    <g id=\"ytick_2\">\n     <g id=\"line2d_15\">\n      <path clip-path=\"url(#pc0a4a52cac)\" d=\"M 28.942188 165.202734 \nL 363.742188 165.202734 \n\" style=\"fill:none;stroke:#b0b0b0;stroke-linecap:square;stroke-width:0.8;\"/>\n     </g>\n     <g id=\"line2d_16\">\n      <g>\n       <use style=\"stroke:#000000;stroke-width:0.8;\" x=\"28.942188\" xlink:href=\"#md6abaa5899\" y=\"165.202734\"/>\n      </g>\n     </g>\n     <g id=\"text_8\">\n      <!-- −1 -->\n      <g transform=\"translate(7.2 169.001953)scale(0.1 -0.1)\">\n       <use xlink:href=\"#DejaVuSans-8722\"/>\n       <use x=\"83.789062\" xlink:href=\"#DejaVuSans-49\"/>\n      </g>\n     </g>\n    </g>\n    <g id=\"ytick_3\">\n     <g id=\"line2d_17\">\n      <path clip-path=\"url(#pc0a4a52cac)\" d=\"M 28.942188 122.176335 \nL 363.742188 122.176335 \n\" style=\"fill:none;stroke:#b0b0b0;stroke-linecap:square;stroke-width:0.8;\"/>\n     </g>\n     <g id=\"line2d_18\">\n      <g>\n       <use style=\"stroke:#000000;stroke-width:0.8;\" x=\"28.942188\" xlink:href=\"#md6abaa5899\" y=\"122.176335\"/>\n      </g>\n     </g>\n     <g id=\"text_9\">\n      <!-- 0 -->\n      <g transform=\"translate(15.579688 125.975554)scale(0.1 -0.1)\">\n       <use xlink:href=\"#DejaVuSans-48\"/>\n      </g>\n     </g>\n    </g>\n    <g id=\"ytick_4\">\n     <g id=\"line2d_19\">\n      <path clip-path=\"url(#pc0a4a52cac)\" d=\"M 28.942188 79.149936 \nL 363.742188 79.149936 \n\" style=\"fill:none;stroke:#b0b0b0;stroke-linecap:square;stroke-width:0.8;\"/>\n     </g>\n     <g id=\"line2d_20\">\n      <g>\n       <use style=\"stroke:#000000;stroke-width:0.8;\" x=\"28.942188\" xlink:href=\"#md6abaa5899\" y=\"79.149936\"/>\n      </g>\n     </g>\n     <g id=\"text_10\">\n      <!-- 1 -->\n      <g transform=\"translate(15.579688 82.949155)scale(0.1 -0.1)\">\n       <use xlink:href=\"#DejaVuSans-49\"/>\n      </g>\n     </g>\n    </g>\n    <g id=\"ytick_5\">\n     <g id=\"line2d_21\">\n      <path clip-path=\"url(#pc0a4a52cac)\" d=\"M 28.942188 36.123537 \nL 363.742188 36.123537 \n\" style=\"fill:none;stroke:#b0b0b0;stroke-linecap:square;stroke-width:0.8;\"/>\n     </g>\n     <g id=\"line2d_22\">\n      <g>\n       <use style=\"stroke:#000000;stroke-width:0.8;\" x=\"28.942188\" xlink:href=\"#md6abaa5899\" y=\"36.123537\"/>\n      </g>\n     </g>\n     <g id=\"text_11\">\n      <!-- 2 -->\n      <g transform=\"translate(15.579688 39.922756)scale(0.1 -0.1)\">\n       <use xlink:href=\"#DejaVuSans-50\"/>\n      </g>\n     </g>\n    </g>\n   </g>\n   <g id=\"patch_3\">\n    <path d=\"M 28.942188 224.64 \nL 28.942188 7.2 \n\" style=\"fill:none;stroke:#000000;stroke-linecap:square;stroke-linejoin:miter;stroke-width:0.8;\"/>\n   </g>\n   <g id=\"patch_4\">\n    <path d=\"M 363.742188 224.64 \nL 363.742188 7.2 \n\" style=\"fill:none;stroke:#000000;stroke-linecap:square;stroke-linejoin:miter;stroke-width:0.8;\"/>\n   </g>\n   <g id=\"patch_5\">\n    <path d=\"M 28.942188 224.64 \nL 363.742188 224.64 \n\" style=\"fill:none;stroke:#000000;stroke-linecap:square;stroke-linejoin:miter;stroke-width:0.8;\"/>\n   </g>\n   <g id=\"patch_6\">\n    <path d=\"M 28.942188 7.2 \nL 363.742188 7.2 \n\" style=\"fill:none;stroke:#000000;stroke-linecap:square;stroke-linejoin:miter;stroke-width:0.8;\"/>\n   </g>\n   <g id=\"text_12\">\n    <!-- the -->\n    <defs>\n     <path d=\"M 18.3125 70.21875 \nL 18.3125 54.6875 \nL 36.8125 54.6875 \nL 36.8125 47.703125 \nL 18.3125 47.703125 \nL 18.3125 18.015625 \nQ 18.3125 11.328125 20.140625 9.421875 \nQ 21.96875 7.515625 27.59375 7.515625 \nL 36.8125 7.515625 \nL 36.8125 0 \nL 27.59375 0 \nQ 17.1875 0 13.234375 3.875 \nQ 9.28125 7.765625 9.28125 18.015625 \nL 9.28125 47.703125 \nL 2.6875 47.703125 \nL 2.6875 54.6875 \nL 9.28125 54.6875 \nL 9.28125 70.21875 \nz\n\" id=\"DejaVuSans-116\"/>\n     <path d=\"M 54.890625 33.015625 \nL 54.890625 0 \nL 45.90625 0 \nL 45.90625 32.71875 \nQ 45.90625 40.484375 42.875 44.328125 \nQ 39.84375 48.1875 33.796875 48.1875 \nQ 26.515625 48.1875 22.3125 43.546875 \nQ 18.109375 38.921875 18.109375 30.90625 \nL 18.109375 0 \nL 9.078125 0 \nL 9.078125 75.984375 \nL 18.109375 75.984375 \nL 18.109375 46.1875 \nQ 21.34375 51.125 25.703125 53.5625 \nQ 30.078125 56 35.796875 56 \nQ 45.21875 56 50.046875 50.171875 \nQ 54.890625 44.34375 54.890625 33.015625 \nz\n\" id=\"DejaVuSans-104\"/>\n     <path d=\"M 56.203125 29.59375 \nL 56.203125 25.203125 \nL 14.890625 25.203125 \nQ 15.484375 15.921875 20.484375 11.0625 \nQ 25.484375 6.203125 34.421875 6.203125 \nQ 39.59375 6.203125 44.453125 7.46875 \nQ 49.3125 8.734375 54.109375 11.28125 \nL 54.109375 2.78125 \nQ 49.265625 0.734375 44.1875 -0.34375 \nQ 39.109375 -1.421875 33.890625 -1.421875 \nQ 20.796875 -1.421875 13.15625 6.1875 \nQ 5.515625 13.8125 5.515625 26.8125 \nQ 5.515625 40.234375 12.765625 48.109375 \nQ 20.015625 56 32.328125 56 \nQ 43.359375 56 49.78125 48.890625 \nQ 56.203125 41.796875 56.203125 29.59375 \nz\nM 47.21875 32.234375 \nQ 47.125 39.59375 43.09375 43.984375 \nQ 39.0625 48.390625 32.421875 48.390625 \nQ 24.90625 48.390625 20.390625 44.140625 \nQ 15.875 39.890625 15.1875 32.171875 \nz\n\" id=\"DejaVuSans-101\"/>\n    </defs>\n    <g style=\"fill:#ff0000;\" transform=\"translate(334.314152 183.503017)scale(0.1 -0.1)\">\n     <use xlink:href=\"#DejaVuSans-116\"/>\n     <use x=\"39.208984\" xlink:href=\"#DejaVuSans-104\"/>\n     <use x=\"102.587891\" xlink:href=\"#DejaVuSans-101\"/>\n    </g>\n   </g>\n   <g id=\"text_13\">\n    <!-- le -->\n    <defs>\n     <path d=\"M 9.421875 75.984375 \nL 18.40625 75.984375 \nL 18.40625 0 \nL 9.421875 0 \nz\n\" id=\"DejaVuSans-108\"/>\n    </defs>\n    <g style=\"fill:#0000ff;\" transform=\"translate(50.334949 151.322123)scale(0.1 -0.1)\">\n     <use xlink:href=\"#DejaVuSans-108\"/>\n     <use x=\"27.783203\" xlink:href=\"#DejaVuSans-101\"/>\n    </g>\n   </g>\n   <g id=\"text_14\">\n    <!-- the -->\n    <g style=\"fill:#ff0000;\" transform=\"translate(334.314152 183.503017)scale(0.1 -0.1)\">\n     <use xlink:href=\"#DejaVuSans-116\"/>\n     <use x=\"39.208984\" xlink:href=\"#DejaVuSans-104\"/>\n     <use x=\"102.587891\" xlink:href=\"#DejaVuSans-101\"/>\n    </g>\n   </g>\n   <g id=\"text_15\">\n    <!-- les -->\n    <defs>\n     <path d=\"M 44.28125 53.078125 \nL 44.28125 44.578125 \nQ 40.484375 46.53125 36.375 47.5 \nQ 32.28125 48.484375 27.875 48.484375 \nQ 21.1875 48.484375 17.84375 46.4375 \nQ 14.5 44.390625 14.5 40.28125 \nQ 14.5 37.15625 16.890625 35.375 \nQ 19.28125 33.59375 26.515625 31.984375 \nL 29.59375 31.296875 \nQ 39.15625 29.25 43.1875 25.515625 \nQ 47.21875 21.78125 47.21875 15.09375 \nQ 47.21875 7.46875 41.1875 3.015625 \nQ 35.15625 -1.421875 24.609375 -1.421875 \nQ 20.21875 -1.421875 15.453125 -0.5625 \nQ 10.6875 0.296875 5.421875 2 \nL 5.421875 11.28125 \nQ 10.40625 8.6875 15.234375 7.390625 \nQ 20.0625 6.109375 24.8125 6.109375 \nQ 31.15625 6.109375 34.5625 8.28125 \nQ 37.984375 10.453125 37.984375 14.40625 \nQ 37.984375 18.0625 35.515625 20.015625 \nQ 33.0625 21.96875 24.703125 23.78125 \nL 21.578125 24.515625 \nQ 13.234375 26.265625 9.515625 29.90625 \nQ 5.8125 33.546875 5.8125 39.890625 \nQ 5.8125 47.609375 11.28125 51.796875 \nQ 16.75 56 26.8125 56 \nQ 31.78125 56 36.171875 55.265625 \nQ 40.578125 54.546875 44.28125 53.078125 \nz\n\" id=\"DejaVuSans-115\"/>\n    </defs>\n    <g style=\"fill:#0000ff;\" transform=\"translate(99.754719 126.280839)scale(0.1 -0.1)\">\n     <use xlink:href=\"#DejaVuSans-108\"/>\n     <use x=\"27.783203\" xlink:href=\"#DejaVuSans-101\"/>\n     <use x=\"89.306641\" xlink:href=\"#DejaVuSans-115\"/>\n    </g>\n   </g>\n   <g id=\"text_16\">\n    <!-- the -->\n    <g style=\"fill:#ff0000;\" transform=\"translate(334.314152 183.503017)scale(0.1 -0.1)\">\n     <use xlink:href=\"#DejaVuSans-116\"/>\n     <use x=\"39.208984\" xlink:href=\"#DejaVuSans-104\"/>\n     <use x=\"102.587891\" xlink:href=\"#DejaVuSans-101\"/>\n    </g>\n   </g>\n   <g id=\"text_17\">\n    <!-- la -->\n    <defs>\n     <path d=\"M 34.28125 27.484375 \nQ 23.390625 27.484375 19.1875 25 \nQ 14.984375 22.515625 14.984375 16.5 \nQ 14.984375 11.71875 18.140625 8.90625 \nQ 21.296875 6.109375 26.703125 6.109375 \nQ 34.1875 6.109375 38.703125 11.40625 \nQ 43.21875 16.703125 43.21875 25.484375 \nL 43.21875 27.484375 \nz\nM 52.203125 31.203125 \nL 52.203125 0 \nL 43.21875 0 \nL 43.21875 8.296875 \nQ 40.140625 3.328125 35.546875 0.953125 \nQ 30.953125 -1.421875 24.3125 -1.421875 \nQ 15.921875 -1.421875 10.953125 3.296875 \nQ 6 8.015625 6 15.921875 \nQ 6 25.140625 12.171875 29.828125 \nQ 18.359375 34.515625 30.609375 34.515625 \nL 43.21875 34.515625 \nL 43.21875 35.40625 \nQ 43.21875 41.609375 39.140625 45 \nQ 35.0625 48.390625 27.6875 48.390625 \nQ 23 48.390625 18.546875 47.265625 \nQ 14.109375 46.140625 10.015625 43.890625 \nL 10.015625 52.203125 \nQ 14.9375 54.109375 19.578125 55.046875 \nQ 24.21875 56 28.609375 56 \nQ 40.484375 56 46.34375 49.84375 \nQ 52.203125 43.703125 52.203125 31.203125 \nz\n\" id=\"DejaVuSans-97\"/>\n    </defs>\n    <g style=\"fill:#0000ff;\" transform=\"translate(44.160369 132.996503)scale(0.1 -0.1)\">\n     <use xlink:href=\"#DejaVuSans-108\"/>\n     <use x=\"27.783203\" xlink:href=\"#DejaVuSans-97\"/>\n    </g>\n   </g>\n   <g id=\"text_18\">\n    <!-- and -->\n    <defs>\n     <path d=\"M 54.890625 33.015625 \nL 54.890625 0 \nL 45.90625 0 \nL 45.90625 32.71875 \nQ 45.90625 40.484375 42.875 44.328125 \nQ 39.84375 48.1875 33.796875 48.1875 \nQ 26.515625 48.1875 22.3125 43.546875 \nQ 18.109375 38.921875 18.109375 30.90625 \nL 18.109375 0 \nL 9.078125 0 \nL 9.078125 54.6875 \nL 18.109375 54.6875 \nL 18.109375 46.1875 \nQ 21.34375 51.125 25.703125 53.5625 \nQ 30.078125 56 35.796875 56 \nQ 45.21875 56 50.046875 50.171875 \nQ 54.890625 44.34375 54.890625 33.015625 \nz\n\" id=\"DejaVuSans-110\"/>\n     <path d=\"M 45.40625 46.390625 \nL 45.40625 75.984375 \nL 54.390625 75.984375 \nL 54.390625 0 \nL 45.40625 0 \nL 45.40625 8.203125 \nQ 42.578125 3.328125 38.25 0.953125 \nQ 33.9375 -1.421875 27.875 -1.421875 \nQ 17.96875 -1.421875 11.734375 6.484375 \nQ 5.515625 14.40625 5.515625 27.296875 \nQ 5.515625 40.1875 11.734375 48.09375 \nQ 17.96875 56 27.875 56 \nQ 33.9375 56 38.25 53.625 \nQ 42.578125 51.265625 45.40625 46.390625 \nz\nM 14.796875 27.296875 \nQ 14.796875 17.390625 18.875 11.75 \nQ 22.953125 6.109375 30.078125 6.109375 \nQ 37.203125 6.109375 41.296875 11.75 \nQ 45.40625 17.390625 45.40625 27.296875 \nQ 45.40625 37.203125 41.296875 42.84375 \nQ 37.203125 48.484375 30.078125 48.484375 \nQ 22.953125 48.484375 18.875 42.84375 \nQ 14.796875 37.203125 14.796875 27.296875 \nz\n\" id=\"DejaVuSans-100\"/>\n    </defs>\n    <g style=\"fill:#ff0000;\" transform=\"translate(146.169566 119.017749)scale(0.1 -0.1)\">\n     <use xlink:href=\"#DejaVuSans-97\"/>\n     <use x=\"61.279297\" xlink:href=\"#DejaVuSans-110\"/>\n     <use x=\"124.658203\" xlink:href=\"#DejaVuSans-100\"/>\n    </g>\n   </g>\n   <g id=\"text_19\">\n    <!-- et -->\n    <g style=\"fill:#0000ff;\" transform=\"translate(251.883705 150.686578)scale(0.1 -0.1)\">\n     <use xlink:href=\"#DejaVuSans-101\"/>\n     <use x=\"61.523438\" xlink:href=\"#DejaVuSans-116\"/>\n    </g>\n   </g>\n   <g id=\"text_20\">\n    <!-- was -->\n    <defs>\n     <path d=\"M 4.203125 54.6875 \nL 13.1875 54.6875 \nL 24.421875 12.015625 \nL 35.59375 54.6875 \nL 46.1875 54.6875 \nL 57.421875 12.015625 \nL 68.609375 54.6875 \nL 77.59375 54.6875 \nL 63.28125 0 \nL 52.6875 0 \nL 40.921875 44.828125 \nL 29.109375 0 \nL 18.5 0 \nz\n\" id=\"DejaVuSans-119\"/>\n    </defs>\n    <g style=\"fill:#ff0000;\" transform=\"translate(141.539299 74.692923)scale(0.1 -0.1)\">\n     <use xlink:href=\"#DejaVuSans-119\"/>\n     <use x=\"81.787109\" xlink:href=\"#DejaVuSans-97\"/>\n     <use x=\"143.066406\" xlink:href=\"#DejaVuSans-115\"/>\n    </g>\n   </g>\n   <g id=\"text_21\">\n    <!-- etait -->\n    <defs>\n     <path d=\"M 9.421875 54.6875 \nL 18.40625 54.6875 \nL 18.40625 0 \nL 9.421875 0 \nz\nM 9.421875 75.984375 \nL 18.40625 75.984375 \nL 18.40625 64.59375 \nL 9.421875 64.59375 \nz\n\" id=\"DejaVuSans-105\"/>\n    </defs>\n    <g style=\"fill:#0000ff;\" transform=\"translate(200.316941 126.266456)scale(0.1 -0.1)\">\n     <use xlink:href=\"#DejaVuSans-101\"/>\n     <use x=\"61.523438\" xlink:href=\"#DejaVuSans-116\"/>\n     <use x=\"100.732422\" xlink:href=\"#DejaVuSans-97\"/>\n     <use x=\"162.011719\" xlink:href=\"#DejaVuSans-105\"/>\n     <use x=\"189.794922\" xlink:href=\"#DejaVuSans-116\"/>\n    </g>\n   </g>\n   <g id=\"text_22\">\n    <!-- for -->\n    <defs>\n     <path d=\"M 37.109375 75.984375 \nL 37.109375 68.5 \nL 28.515625 68.5 \nQ 23.6875 68.5 21.796875 66.546875 \nQ 19.921875 64.59375 19.921875 59.515625 \nL 19.921875 54.6875 \nL 34.71875 54.6875 \nL 34.71875 47.703125 \nL 19.921875 47.703125 \nL 19.921875 0 \nL 10.890625 0 \nL 10.890625 47.703125 \nL 2.296875 47.703125 \nL 2.296875 54.6875 \nL 10.890625 54.6875 \nL 10.890625 58.5 \nQ 10.890625 67.625 15.140625 71.796875 \nQ 19.390625 75.984375 28.609375 75.984375 \nz\n\" id=\"DejaVuSans-102\"/>\n     <path d=\"M 30.609375 48.390625 \nQ 23.390625 48.390625 19.1875 42.75 \nQ 14.984375 37.109375 14.984375 27.296875 \nQ 14.984375 17.484375 19.15625 11.84375 \nQ 23.34375 6.203125 30.609375 6.203125 \nQ 37.796875 6.203125 41.984375 11.859375 \nQ 46.1875 17.53125 46.1875 27.296875 \nQ 46.1875 37.015625 41.984375 42.703125 \nQ 37.796875 48.390625 30.609375 48.390625 \nz\nM 30.609375 56 \nQ 42.328125 56 49.015625 48.375 \nQ 55.71875 40.765625 55.71875 27.296875 \nQ 55.71875 13.875 49.015625 6.21875 \nQ 42.328125 -1.421875 30.609375 -1.421875 \nQ 18.84375 -1.421875 12.171875 6.21875 \nQ 5.515625 13.875 5.515625 27.296875 \nQ 5.515625 40.765625 12.171875 48.375 \nQ 18.84375 56 30.609375 56 \nz\n\" id=\"DejaVuSans-111\"/>\n     <path d=\"M 41.109375 46.296875 \nQ 39.59375 47.171875 37.8125 47.578125 \nQ 36.03125 48 33.890625 48 \nQ 26.265625 48 22.1875 43.046875 \nQ 18.109375 38.09375 18.109375 28.8125 \nL 18.109375 0 \nL 9.078125 0 \nL 9.078125 54.6875 \nL 18.109375 54.6875 \nL 18.109375 46.1875 \nQ 20.953125 51.171875 25.484375 53.578125 \nQ 30.03125 56 36.53125 56 \nQ 37.453125 56 38.578125 55.875 \nQ 39.703125 55.765625 41.0625 55.515625 \nz\n\" id=\"DejaVuSans-114\"/>\n    </defs>\n    <g style=\"fill:#ff0000;\" transform=\"translate(152.265791 180.01523)scale(0.1 -0.1)\">\n     <use xlink:href=\"#DejaVuSans-102\"/>\n     <use x=\"35.205078\" xlink:href=\"#DejaVuSans-111\"/>\n     <use x=\"96.386719\" xlink:href=\"#DejaVuSans-114\"/>\n    </g>\n   </g>\n   <g id=\"text_23\">\n    <!-- pour -->\n    <defs>\n     <path d=\"M 18.109375 8.203125 \nL 18.109375 -20.796875 \nL 9.078125 -20.796875 \nL 9.078125 54.6875 \nL 18.109375 54.6875 \nL 18.109375 46.390625 \nQ 20.953125 51.265625 25.265625 53.625 \nQ 29.59375 56 35.59375 56 \nQ 45.5625 56 51.78125 48.09375 \nQ 58.015625 40.1875 58.015625 27.296875 \nQ 58.015625 14.40625 51.78125 6.484375 \nQ 45.5625 -1.421875 35.59375 -1.421875 \nQ 29.59375 -1.421875 25.265625 0.953125 \nQ 20.953125 3.328125 18.109375 8.203125 \nz\nM 48.6875 27.296875 \nQ 48.6875 37.203125 44.609375 42.84375 \nQ 40.53125 48.484375 33.40625 48.484375 \nQ 26.265625 48.484375 22.1875 42.84375 \nQ 18.109375 37.203125 18.109375 27.296875 \nQ 18.109375 17.390625 22.1875 11.75 \nQ 26.265625 6.109375 33.40625 6.109375 \nQ 40.53125 6.109375 44.609375 11.75 \nQ 48.6875 17.390625 48.6875 27.296875 \nz\n\" id=\"DejaVuSans-112\"/>\n     <path d=\"M 8.5 21.578125 \nL 8.5 54.6875 \nL 17.484375 54.6875 \nL 17.484375 21.921875 \nQ 17.484375 14.15625 20.5 10.265625 \nQ 23.53125 6.390625 29.59375 6.390625 \nQ 36.859375 6.390625 41.078125 11.03125 \nQ 45.3125 15.671875 45.3125 23.6875 \nL 45.3125 54.6875 \nL 54.296875 54.6875 \nL 54.296875 0 \nL 45.3125 0 \nL 45.3125 8.40625 \nQ 42.046875 3.421875 37.71875 1 \nQ 33.40625 -1.421875 27.6875 -1.421875 \nQ 18.265625 -1.421875 13.375 4.4375 \nQ 8.5 10.296875 8.5 21.578125 \nz\nM 31.109375 56 \nz\n\" id=\"DejaVuSans-117\"/>\n    </defs>\n    <g style=\"fill:#0000ff;\" transform=\"translate(200.332103 200.721902)scale(0.1 -0.1)\">\n     <use xlink:href=\"#DejaVuSans-112\"/>\n     <use x=\"63.476562\" xlink:href=\"#DejaVuSans-111\"/>\n     <use x=\"124.658203\" xlink:href=\"#DejaVuSans-117\"/>\n     <use x=\"188.037109\" xlink:href=\"#DejaVuSans-114\"/>\n    </g>\n   </g>\n   <g id=\"text_24\">\n    <!-- that -->\n    <g style=\"fill:#ff0000;\" transform=\"translate(190.359513 173.330516)scale(0.1 -0.1)\">\n     <use xlink:href=\"#DejaVuSans-116\"/>\n     <use x=\"39.208984\" xlink:href=\"#DejaVuSans-104\"/>\n     <use x=\"102.587891\" xlink:href=\"#DejaVuSans-97\"/>\n     <use x=\"163.867188\" xlink:href=\"#DejaVuSans-116\"/>\n    </g>\n   </g>\n   <g id=\"text_25\">\n    <!-- que -->\n    <defs>\n     <path d=\"M 14.796875 27.296875 \nQ 14.796875 17.390625 18.875 11.75 \nQ 22.953125 6.109375 30.078125 6.109375 \nQ 37.203125 6.109375 41.296875 11.75 \nQ 45.40625 17.390625 45.40625 27.296875 \nQ 45.40625 37.203125 41.296875 42.84375 \nQ 37.203125 48.484375 30.078125 48.484375 \nQ 22.953125 48.484375 18.875 42.84375 \nQ 14.796875 37.203125 14.796875 27.296875 \nz\nM 45.40625 8.203125 \nQ 42.578125 3.328125 38.25 0.953125 \nQ 33.9375 -1.421875 27.875 -1.421875 \nQ 17.96875 -1.421875 11.734375 6.484375 \nQ 5.515625 14.40625 5.515625 27.296875 \nQ 5.515625 40.1875 11.734375 48.09375 \nQ 17.96875 56 27.875 56 \nQ 33.9375 56 38.25 53.625 \nQ 42.578125 51.265625 45.40625 46.390625 \nL 45.40625 54.6875 \nL 54.390625 54.6875 \nL 54.390625 -20.796875 \nL 45.40625 -20.796875 \nz\n\" id=\"DejaVuSans-113\"/>\n    </defs>\n    <g style=\"fill:#0000ff;\" transform=\"translate(250.659391 160.015176)scale(0.1 -0.1)\">\n     <use xlink:href=\"#DejaVuSans-113\"/>\n     <use x=\"63.476562\" xlink:href=\"#DejaVuSans-117\"/>\n     <use x=\"126.855469\" xlink:href=\"#DejaVuSans-101\"/>\n    </g>\n   </g>\n   <g id=\"text_26\">\n    <!-- that -->\n    <g style=\"fill:#ff0000;\" transform=\"translate(190.359513 173.330516)scale(0.1 -0.1)\">\n     <use xlink:href=\"#DejaVuSans-116\"/>\n     <use x=\"39.208984\" xlink:href=\"#DejaVuSans-104\"/>\n     <use x=\"102.587891\" xlink:href=\"#DejaVuSans-97\"/>\n     <use x=\"163.867188\" xlink:href=\"#DejaVuSans-116\"/>\n    </g>\n   </g>\n   <g id=\"text_27\">\n    <!-- cela -->\n    <defs>\n     <path d=\"M 48.78125 52.59375 \nL 48.78125 44.1875 \nQ 44.96875 46.296875 41.140625 47.34375 \nQ 37.3125 48.390625 33.40625 48.390625 \nQ 24.65625 48.390625 19.8125 42.84375 \nQ 14.984375 37.3125 14.984375 27.296875 \nQ 14.984375 17.28125 19.8125 11.734375 \nQ 24.65625 6.203125 33.40625 6.203125 \nQ 37.3125 6.203125 41.140625 7.25 \nQ 44.96875 8.296875 48.78125 10.40625 \nL 48.78125 2.09375 \nQ 45.015625 0.34375 40.984375 -0.53125 \nQ 36.96875 -1.421875 32.421875 -1.421875 \nQ 20.0625 -1.421875 12.78125 6.34375 \nQ 5.515625 14.109375 5.515625 27.296875 \nQ 5.515625 40.671875 12.859375 48.328125 \nQ 20.21875 56 33.015625 56 \nQ 37.15625 56 41.109375 55.140625 \nQ 45.0625 54.296875 48.78125 52.59375 \nz\n\" id=\"DejaVuSans-99\"/>\n    </defs>\n    <g style=\"fill:#0000ff;\" transform=\"translate(181.361015 122.790477)scale(0.1 -0.1)\">\n     <use xlink:href=\"#DejaVuSans-99\"/>\n     <use x=\"54.980469\" xlink:href=\"#DejaVuSans-101\"/>\n     <use x=\"116.503906\" xlink:href=\"#DejaVuSans-108\"/>\n     <use x=\"144.287109\" xlink:href=\"#DejaVuSans-97\"/>\n    </g>\n   </g>\n   <g id=\"text_28\">\n    <!-- with -->\n    <g style=\"fill:#ff0000;\" transform=\"translate(143.167889 206.331125)scale(0.1 -0.1)\">\n     <use xlink:href=\"#DejaVuSans-119\"/>\n     <use x=\"81.787109\" xlink:href=\"#DejaVuSans-105\"/>\n     <use x=\"109.570312\" xlink:href=\"#DejaVuSans-116\"/>\n     <use x=\"148.779297\" xlink:href=\"#DejaVuSans-104\"/>\n    </g>\n   </g>\n   <g id=\"text_29\">\n    <!-- avec -->\n    <defs>\n     <path d=\"M 2.984375 54.6875 \nL 12.5 54.6875 \nL 29.59375 8.796875 \nL 46.6875 54.6875 \nL 56.203125 54.6875 \nL 35.6875 0 \nL 23.484375 0 \nz\n\" id=\"DejaVuSans-118\"/>\n    </defs>\n    <g style=\"fill:#0000ff;\" transform=\"translate(218.171232 180.783582)scale(0.1 -0.1)\">\n     <use xlink:href=\"#DejaVuSans-97\"/>\n     <use x=\"61.279297\" xlink:href=\"#DejaVuSans-118\"/>\n     <use x=\"120.458984\" xlink:href=\"#DejaVuSans-101\"/>\n     <use x=\"181.982422\" xlink:href=\"#DejaVuSans-99\"/>\n    </g>\n   </g>\n   <g id=\"text_30\">\n    <!-- from -->\n    <defs>\n     <path d=\"M 52 44.1875 \nQ 55.375 50.25 60.0625 53.125 \nQ 64.75 56 71.09375 56 \nQ 79.640625 56 84.28125 50.015625 \nQ 88.921875 44.046875 88.921875 33.015625 \nL 88.921875 0 \nL 79.890625 0 \nL 79.890625 32.71875 \nQ 79.890625 40.578125 77.09375 44.375 \nQ 74.3125 48.1875 68.609375 48.1875 \nQ 61.625 48.1875 57.5625 43.546875 \nQ 53.515625 38.921875 53.515625 30.90625 \nL 53.515625 0 \nL 44.484375 0 \nL 44.484375 32.71875 \nQ 44.484375 40.625 41.703125 44.40625 \nQ 38.921875 48.1875 33.109375 48.1875 \nQ 26.21875 48.1875 22.15625 43.53125 \nQ 18.109375 38.875 18.109375 30.90625 \nL 18.109375 0 \nL 9.078125 0 \nL 9.078125 54.6875 \nL 18.109375 54.6875 \nL 18.109375 46.1875 \nQ 21.1875 51.21875 25.484375 53.609375 \nQ 29.78125 56 35.6875 56 \nQ 41.65625 56 45.828125 52.96875 \nQ 50 49.953125 52 44.1875 \nz\n\" id=\"DejaVuSans-109\"/>\n    </defs>\n    <g style=\"fill:#ff0000;\" transform=\"translate(151.543175 191.441489)scale(0.1 -0.1)\">\n     <use xlink:href=\"#DejaVuSans-102\"/>\n     <use x=\"35.205078\" xlink:href=\"#DejaVuSans-114\"/>\n     <use x=\"74.068359\" xlink:href=\"#DejaVuSans-111\"/>\n     <use x=\"135.25\" xlink:href=\"#DejaVuSans-109\"/>\n    </g>\n   </g>\n   <g id=\"text_31\">\n    <!-- du -->\n    <g style=\"fill:#0000ff;\" transform=\"translate(143.188104 171.266536)scale(0.1 -0.1)\">\n     <use xlink:href=\"#DejaVuSans-100\"/>\n     <use x=\"63.476562\" xlink:href=\"#DejaVuSans-117\"/>\n    </g>\n   </g>\n   <g id=\"text_32\">\n    <!-- from -->\n    <g style=\"fill:#ff0000;\" transform=\"translate(151.543175 191.441489)scale(0.1 -0.1)\">\n     <use xlink:href=\"#DejaVuSans-102\"/>\n     <use x=\"35.205078\" xlink:href=\"#DejaVuSans-114\"/>\n     <use x=\"74.068359\" xlink:href=\"#DejaVuSans-111\"/>\n     <use x=\"135.25\" xlink:href=\"#DejaVuSans-109\"/>\n    </g>\n   </g>\n   <g id=\"text_33\">\n    <!-- de -->\n    <g style=\"fill:#0000ff;\" transform=\"translate(167.58442 214.756364)scale(0.1 -0.1)\">\n     <use xlink:href=\"#DejaVuSans-100\"/>\n     <use x=\"63.476562\" xlink:href=\"#DejaVuSans-101\"/>\n    </g>\n   </g>\n   <g id=\"text_34\">\n    <!-- from -->\n    <g style=\"fill:#ff0000;\" transform=\"translate(151.543175 191.441489)scale(0.1 -0.1)\">\n     <use xlink:href=\"#DejaVuSans-102\"/>\n     <use x=\"35.205078\" xlink:href=\"#DejaVuSans-114\"/>\n     <use x=\"74.068359\" xlink:href=\"#DejaVuSans-111\"/>\n     <use x=\"135.25\" xlink:href=\"#DejaVuSans-109\"/>\n    </g>\n   </g>\n   <g id=\"text_35\">\n    <!-- depuis -->\n    <g style=\"fill:#0000ff;\" transform=\"translate(223.526731 127.987146)scale(0.1 -0.1)\">\n     <use xlink:href=\"#DejaVuSans-100\"/>\n     <use x=\"63.476562\" xlink:href=\"#DejaVuSans-101\"/>\n     <use x=\"125\" xlink:href=\"#DejaVuSans-112\"/>\n     <use x=\"188.476562\" xlink:href=\"#DejaVuSans-117\"/>\n     <use x=\"251.855469\" xlink:href=\"#DejaVuSans-105\"/>\n     <use x=\"279.638672\" xlink:href=\"#DejaVuSans-115\"/>\n    </g>\n   </g>\n   <g id=\"text_36\">\n    <!-- this -->\n    <g style=\"fill:#ff0000;\" transform=\"translate(348.524006 17.083636)scale(0.1 -0.1)\">\n     <use xlink:href=\"#DejaVuSans-116\"/>\n     <use x=\"39.208984\" xlink:href=\"#DejaVuSans-104\"/>\n     <use x=\"102.587891\" xlink:href=\"#DejaVuSans-105\"/>\n     <use x=\"130.371094\" xlink:href=\"#DejaVuSans-115\"/>\n    </g>\n   </g>\n   <g id=\"text_37\">\n    <!-- ceci -->\n    <g style=\"fill:#0000ff;\" transform=\"translate(221.701999 141.291216)scale(0.1 -0.1)\">\n     <use xlink:href=\"#DejaVuSans-99\"/>\n     <use x=\"54.980469\" xlink:href=\"#DejaVuSans-101\"/>\n     <use x=\"116.503906\" xlink:href=\"#DejaVuSans-99\"/>\n     <use x=\"171.484375\" xlink:href=\"#DejaVuSans-105\"/>\n    </g>\n   </g>\n   <g id=\"text_38\">\n    <!-- this -->\n    <g style=\"fill:#ff0000;\" transform=\"translate(348.524006 17.083636)scale(0.1 -0.1)\">\n     <use xlink:href=\"#DejaVuSans-116\"/>\n     <use x=\"39.208984\" xlink:href=\"#DejaVuSans-104\"/>\n     <use x=\"102.587891\" xlink:href=\"#DejaVuSans-105\"/>\n     <use x=\"130.371094\" xlink:href=\"#DejaVuSans-115\"/>\n    </g>\n   </g>\n   <g id=\"text_39\">\n    <!-- cet -->\n    <g style=\"fill:#0000ff;\" transform=\"translate(122.226913 118.624907)scale(0.1 -0.1)\">\n     <use xlink:href=\"#DejaVuSans-99\"/>\n     <use x=\"54.980469\" xlink:href=\"#DejaVuSans-101\"/>\n     <use x=\"116.503906\" xlink:href=\"#DejaVuSans-116\"/>\n    </g>\n   </g>\n   <g id=\"text_40\">\n    <!-- this -->\n    <g style=\"fill:#ff0000;\" transform=\"translate(348.524006 17.083636)scale(0.1 -0.1)\">\n     <use xlink:href=\"#DejaVuSans-116\"/>\n     <use x=\"39.208984\" xlink:href=\"#DejaVuSans-104\"/>\n     <use x=\"102.587891\" xlink:href=\"#DejaVuSans-105\"/>\n     <use x=\"130.371094\" xlink:href=\"#DejaVuSans-115\"/>\n    </g>\n   </g>\n   <g id=\"text_41\">\n    <!-- cette -->\n    <g style=\"fill:#0000ff;\" transform=\"translate(51.703136 124.326705)scale(0.1 -0.1)\">\n     <use xlink:href=\"#DejaVuSans-99\"/>\n     <use x=\"54.980469\" xlink:href=\"#DejaVuSans-101\"/>\n     <use x=\"116.503906\" xlink:href=\"#DejaVuSans-116\"/>\n     <use x=\"155.712891\" xlink:href=\"#DejaVuSans-116\"/>\n     <use x=\"194.921875\" xlink:href=\"#DejaVuSans-101\"/>\n    </g>\n   </g>\n   <g id=\"text_42\">\n    <!-- this -->\n    <g style=\"fill:#ff0000;\" transform=\"translate(348.524006 17.083636)scale(0.1 -0.1)\">\n     <use xlink:href=\"#DejaVuSans-116\"/>\n     <use x=\"39.208984\" xlink:href=\"#DejaVuSans-104\"/>\n     <use x=\"102.587891\" xlink:href=\"#DejaVuSans-105\"/>\n     <use x=\"130.371094\" xlink:href=\"#DejaVuSans-115\"/>\n    </g>\n   </g>\n   <g id=\"text_43\">\n    <!-- cela -->\n    <g style=\"fill:#0000ff;\" transform=\"translate(181.361015 122.790477)scale(0.1 -0.1)\">\n     <use xlink:href=\"#DejaVuSans-99\"/>\n     <use x=\"54.980469\" xlink:href=\"#DejaVuSans-101\"/>\n     <use x=\"116.503906\" xlink:href=\"#DejaVuSans-108\"/>\n     <use x=\"144.287109\" xlink:href=\"#DejaVuSans-97\"/>\n    </g>\n   </g>\n   <g id=\"text_44\">\n    <!-- this -->\n    <g style=\"fill:#ff0000;\" transform=\"translate(348.524006 17.083636)scale(0.1 -0.1)\">\n     <use xlink:href=\"#DejaVuSans-116\"/>\n     <use x=\"39.208984\" xlink:href=\"#DejaVuSans-104\"/>\n     <use x=\"102.587891\" xlink:href=\"#DejaVuSans-105\"/>\n     <use x=\"130.371094\" xlink:href=\"#DejaVuSans-115\"/>\n    </g>\n   </g>\n   <g id=\"text_45\">\n    <!-- ce -->\n    <g style=\"fill:#0000ff;\" transform=\"translate(74.74826 143.281271)scale(0.1 -0.1)\">\n     <use xlink:href=\"#DejaVuSans-99\"/>\n     <use x=\"54.980469\" xlink:href=\"#DejaVuSans-101\"/>\n    </g>\n   </g>\n   <g id=\"text_46\">\n    <!-- his -->\n    <g style=\"fill:#ff0000;\" transform=\"translate(276.064378 173.38328)scale(0.1 -0.1)\">\n     <use xlink:href=\"#DejaVuSans-104\"/>\n     <use x=\"63.378906\" xlink:href=\"#DejaVuSans-105\"/>\n     <use x=\"91.162109\" xlink:href=\"#DejaVuSans-115\"/>\n    </g>\n   </g>\n   <g id=\"text_47\">\n    <!-- sa -->\n    <g style=\"fill:#0000ff;\" transform=\"translate(98.653123 168.204976)scale(0.1 -0.1)\">\n     <use xlink:href=\"#DejaVuSans-115\"/>\n     <use x=\"52.099609\" xlink:href=\"#DejaVuSans-97\"/>\n    </g>\n   </g>\n   <g id=\"text_48\">\n    <!-- his -->\n    <g style=\"fill:#ff0000;\" transform=\"translate(276.064378 173.38328)scale(0.1 -0.1)\">\n     <use xlink:href=\"#DejaVuSans-104\"/>\n     <use x=\"63.378906\" xlink:href=\"#DejaVuSans-105\"/>\n     <use x=\"91.162109\" xlink:href=\"#DejaVuSans-115\"/>\n    </g>\n   </g>\n   <g id=\"text_49\">\n    <!-- ses -->\n    <g style=\"fill:#0000ff;\" transform=\"translate(77.605562 114.163878)scale(0.1 -0.1)\">\n     <use xlink:href=\"#DejaVuSans-115\"/>\n     <use x=\"52.099609\" xlink:href=\"#DejaVuSans-101\"/>\n     <use x=\"113.623047\" xlink:href=\"#DejaVuSans-115\"/>\n    </g>\n   </g>\n   <g id=\"text_50\">\n    <!-- his -->\n    <g style=\"fill:#ff0000;\" transform=\"translate(276.064378 173.38328)scale(0.1 -0.1)\">\n     <use xlink:href=\"#DejaVuSans-104\"/>\n     <use x=\"63.378906\" xlink:href=\"#DejaVuSans-105\"/>\n     <use x=\"91.162109\" xlink:href=\"#DejaVuSans-115\"/>\n    </g>\n   </g>\n   <g id=\"text_51\">\n    <!-- son -->\n    <g style=\"fill:#0000ff;\" transform=\"translate(50.782844 110.611188)scale(0.1 -0.1)\">\n     <use xlink:href=\"#DejaVuSans-115\"/>\n     <use x=\"52.099609\" xlink:href=\"#DejaVuSans-111\"/>\n     <use x=\"113.28125\" xlink:href=\"#DejaVuSans-110\"/>\n    </g>\n   </g>\n   <g id=\"text_52\">\n    <!-- not -->\n    <g style=\"fill:#ff0000;\" transform=\"translate(81.261009 117.724023)scale(0.1 -0.1)\">\n     <use xlink:href=\"#DejaVuSans-110\"/>\n     <use x=\"63.378906\" xlink:href=\"#DejaVuSans-111\"/>\n     <use x=\"124.560547\" xlink:href=\"#DejaVuSans-116\"/>\n    </g>\n   </g>\n   <g id=\"text_53\">\n    <!-- non -->\n    <g style=\"fill:#0000ff;\" transform=\"translate(186.046383 154.295833)scale(0.1 -0.1)\">\n     <use xlink:href=\"#DejaVuSans-110\"/>\n     <use x=\"63.378906\" xlink:href=\"#DejaVuSans-111\"/>\n     <use x=\"124.560547\" xlink:href=\"#DejaVuSans-110\"/>\n    </g>\n   </g>\n   <g id=\"text_54\">\n    <!-- not -->\n    <g style=\"fill:#ff0000;\" transform=\"translate(81.261009 117.724023)scale(0.1 -0.1)\">\n     <use xlink:href=\"#DejaVuSans-110\"/>\n     <use x=\"63.378906\" xlink:href=\"#DejaVuSans-111\"/>\n     <use x=\"124.560547\" xlink:href=\"#DejaVuSans-116\"/>\n    </g>\n   </g>\n   <g id=\"text_55\">\n    <!-- pas -->\n    <g style=\"fill:#0000ff;\" transform=\"translate(215.51859 135.931964)scale(0.1 -0.1)\">\n     <use xlink:href=\"#DejaVuSans-112\"/>\n     <use x=\"63.476562\" xlink:href=\"#DejaVuSans-97\"/>\n     <use x=\"124.755859\" xlink:href=\"#DejaVuSans-115\"/>\n    </g>\n   </g>\n   <g id=\"text_56\">\n    <!-- are -->\n    <g style=\"fill:#ff0000;\" transform=\"translate(139.092749 80.951813)scale(0.1 -0.1)\">\n     <use xlink:href=\"#DejaVuSans-97\"/>\n     <use x=\"61.279297\" xlink:href=\"#DejaVuSans-114\"/>\n     <use x=\"100.142578\" xlink:href=\"#DejaVuSans-101\"/>\n    </g>\n   </g>\n   <g id=\"text_57\">\n    <!-- sont -->\n    <g style=\"fill:#0000ff;\" transform=\"translate(170.183707 115.284787)scale(0.1 -0.1)\">\n     <use xlink:href=\"#DejaVuSans-115\"/>\n     <use x=\"52.099609\" xlink:href=\"#DejaVuSans-111\"/>\n     <use x=\"113.28125\" xlink:href=\"#DejaVuSans-110\"/>\n     <use x=\"176.660156\" xlink:href=\"#DejaVuSans-116\"/>\n    </g>\n   </g>\n   <g id=\"text_58\">\n    <!-- which -->\n    <g style=\"fill:#ff0000;\" transform=\"translate(189.347522 127.10915)scale(0.1 -0.1)\">\n     <use xlink:href=\"#DejaVuSans-119\"/>\n     <use x=\"81.787109\" xlink:href=\"#DejaVuSans-104\"/>\n     <use x=\"145.166016\" xlink:href=\"#DejaVuSans-105\"/>\n     <use x=\"172.949219\" xlink:href=\"#DejaVuSans-99\"/>\n     <use x=\"227.929688\" xlink:href=\"#DejaVuSans-104\"/>\n    </g>\n   </g>\n   <g id=\"text_59\">\n    <!-- laquelle -->\n    <g style=\"fill:#0000ff;\" transform=\"translate(188.935459 126.814722)scale(0.1 -0.1)\">\n     <use xlink:href=\"#DejaVuSans-108\"/>\n     <use x=\"27.783203\" xlink:href=\"#DejaVuSans-97\"/>\n     <use x=\"89.0625\" xlink:href=\"#DejaVuSans-113\"/>\n     <use x=\"152.539062\" xlink:href=\"#DejaVuSans-117\"/>\n     <use x=\"215.917969\" xlink:href=\"#DejaVuSans-101\"/>\n     <use x=\"277.441406\" xlink:href=\"#DejaVuSans-108\"/>\n     <use x=\"305.224609\" xlink:href=\"#DejaVuSans-108\"/>\n     <use x=\"333.007812\" xlink:href=\"#DejaVuSans-101\"/>\n    </g>\n   </g>\n   <g id=\"text_60\">\n    <!-- which -->\n    <g style=\"fill:#ff0000;\" transform=\"translate(189.347522 127.10915)scale(0.1 -0.1)\">\n     <use xlink:href=\"#DejaVuSans-119\"/>\n     <use x=\"81.787109\" xlink:href=\"#DejaVuSans-104\"/>\n     <use x=\"145.166016\" xlink:href=\"#DejaVuSans-105\"/>\n     <use x=\"172.949219\" xlink:href=\"#DejaVuSans-99\"/>\n     <use x=\"227.929688\" xlink:href=\"#DejaVuSans-104\"/>\n    </g>\n   </g>\n   <g id=\"text_61\">\n    <!-- lequel -->\n    <g style=\"fill:#0000ff;\" transform=\"translate(169.92367 174.76786)scale(0.1 -0.1)\">\n     <use xlink:href=\"#DejaVuSans-108\"/>\n     <use x=\"27.783203\" xlink:href=\"#DejaVuSans-101\"/>\n     <use x=\"89.306641\" xlink:href=\"#DejaVuSans-113\"/>\n     <use x=\"152.783203\" xlink:href=\"#DejaVuSans-117\"/>\n     <use x=\"216.162109\" xlink:href=\"#DejaVuSans-101\"/>\n     <use x=\"277.685547\" xlink:href=\"#DejaVuSans-108\"/>\n    </g>\n   </g>\n   <g id=\"text_62\">\n    <!-- also -->\n    <g style=\"fill:#ff0000;\" transform=\"translate(156.453347 78.535717)scale(0.1 -0.1)\">\n     <use xlink:href=\"#DejaVuSans-97\"/>\n     <use x=\"61.279297\" xlink:href=\"#DejaVuSans-108\"/>\n     <use x=\"89.0625\" xlink:href=\"#DejaVuSans-115\"/>\n     <use x=\"141.162109\" xlink:href=\"#DejaVuSans-111\"/>\n    </g>\n   </g>\n   <g id=\"text_63\">\n    <!-- aussi -->\n    <g style=\"fill:#0000ff;\" transform=\"translate(171.38359 130.151923)scale(0.1 -0.1)\">\n     <use xlink:href=\"#DejaVuSans-97\"/>\n     <use x=\"61.279297\" xlink:href=\"#DejaVuSans-117\"/>\n     <use x=\"124.658203\" xlink:href=\"#DejaVuSans-115\"/>\n     <use x=\"176.757812\" xlink:href=\"#DejaVuSans-115\"/>\n     <use x=\"228.857422\" xlink:href=\"#DejaVuSans-105\"/>\n    </g>\n   </g>\n   <g id=\"text_64\">\n    <!-- also -->\n    <g style=\"fill:#ff0000;\" transform=\"translate(156.453347 78.535717)scale(0.1 -0.1)\">\n     <use xlink:href=\"#DejaVuSans-97\"/>\n     <use x=\"61.279297\" xlink:href=\"#DejaVuSans-108\"/>\n     <use x=\"89.0625\" xlink:href=\"#DejaVuSans-115\"/>\n     <use x=\"141.162109\" xlink:href=\"#DejaVuSans-111\"/>\n    </g>\n   </g>\n   <g id=\"text_65\">\n    <!-- egalement -->\n    <defs>\n     <path d=\"M 45.40625 27.984375 \nQ 45.40625 37.75 41.375 43.109375 \nQ 37.359375 48.484375 30.078125 48.484375 \nQ 22.859375 48.484375 18.828125 43.109375 \nQ 14.796875 37.75 14.796875 27.984375 \nQ 14.796875 18.265625 18.828125 12.890625 \nQ 22.859375 7.515625 30.078125 7.515625 \nQ 37.359375 7.515625 41.375 12.890625 \nQ 45.40625 18.265625 45.40625 27.984375 \nz\nM 54.390625 6.78125 \nQ 54.390625 -7.171875 48.1875 -13.984375 \nQ 42 -20.796875 29.203125 -20.796875 \nQ 24.46875 -20.796875 20.265625 -20.09375 \nQ 16.0625 -19.390625 12.109375 -17.921875 \nL 12.109375 -9.1875 \nQ 16.0625 -11.328125 19.921875 -12.34375 \nQ 23.78125 -13.375 27.78125 -13.375 \nQ 36.625 -13.375 41.015625 -8.765625 \nQ 45.40625 -4.15625 45.40625 5.171875 \nL 45.40625 9.625 \nQ 42.625 4.78125 38.28125 2.390625 \nQ 33.9375 0 27.875 0 \nQ 17.828125 0 11.671875 7.65625 \nQ 5.515625 15.328125 5.515625 27.984375 \nQ 5.515625 40.671875 11.671875 48.328125 \nQ 17.828125 56 27.875 56 \nQ 33.9375 56 38.28125 53.609375 \nQ 42.625 51.21875 45.40625 46.390625 \nL 45.40625 54.6875 \nL 54.390625 54.6875 \nz\n\" id=\"DejaVuSans-103\"/>\n    </defs>\n    <g style=\"fill:#0000ff;\" transform=\"translate(209.466204 145.997803)scale(0.1 -0.1)\">\n     <use xlink:href=\"#DejaVuSans-101\"/>\n     <use x=\"61.523438\" xlink:href=\"#DejaVuSans-103\"/>\n     <use x=\"125\" xlink:href=\"#DejaVuSans-97\"/>\n     <use x=\"186.279297\" xlink:href=\"#DejaVuSans-108\"/>\n     <use x=\"214.0625\" xlink:href=\"#DejaVuSans-101\"/>\n     <use x=\"275.585938\" xlink:href=\"#DejaVuSans-109\"/>\n     <use x=\"372.998047\" xlink:href=\"#DejaVuSans-101\"/>\n     <use x=\"434.521484\" xlink:href=\"#DejaVuSans-110\"/>\n     <use x=\"497.900391\" xlink:href=\"#DejaVuSans-116\"/>\n    </g>\n   </g>\n   <g id=\"text_66\">\n    <!-- but -->\n    <defs>\n     <path d=\"M 48.6875 27.296875 \nQ 48.6875 37.203125 44.609375 42.84375 \nQ 40.53125 48.484375 33.40625 48.484375 \nQ 26.265625 48.484375 22.1875 42.84375 \nQ 18.109375 37.203125 18.109375 27.296875 \nQ 18.109375 17.390625 22.1875 11.75 \nQ 26.265625 6.109375 33.40625 6.109375 \nQ 40.53125 6.109375 44.609375 11.75 \nQ 48.6875 17.390625 48.6875 27.296875 \nz\nM 18.109375 46.390625 \nQ 20.953125 51.265625 25.265625 53.625 \nQ 29.59375 56 35.59375 56 \nQ 45.5625 56 51.78125 48.09375 \nQ 58.015625 40.1875 58.015625 27.296875 \nQ 58.015625 14.40625 51.78125 6.484375 \nQ 45.5625 -1.421875 35.59375 -1.421875 \nQ 29.59375 -1.421875 25.265625 0.953125 \nQ 20.953125 3.328125 18.109375 8.203125 \nL 18.109375 0 \nL 9.078125 0 \nL 9.078125 75.984375 \nL 18.109375 75.984375 \nz\n\" id=\"DejaVuSans-98\"/>\n    </defs>\n    <g style=\"fill:#ff0000;\" transform=\"translate(148.536821 113.339945)scale(0.1 -0.1)\">\n     <use xlink:href=\"#DejaVuSans-98\"/>\n     <use x=\"63.476562\" xlink:href=\"#DejaVuSans-117\"/>\n     <use x=\"126.855469\" xlink:href=\"#DejaVuSans-116\"/>\n    </g>\n   </g>\n   <g id=\"text_67\">\n    <!-- mais -->\n    <g style=\"fill:#0000ff;\" transform=\"translate(254.686608 163.25504)scale(0.1 -0.1)\">\n     <use xlink:href=\"#DejaVuSans-109\"/>\n     <use x=\"97.412109\" xlink:href=\"#DejaVuSans-97\"/>\n     <use x=\"158.691406\" xlink:href=\"#DejaVuSans-105\"/>\n     <use x=\"186.474609\" xlink:href=\"#DejaVuSans-115\"/>\n    </g>\n   </g>\n   <g id=\"text_68\">\n    <!-- have -->\n    <g style=\"fill:#ff0000;\" transform=\"translate(118.125658 55.336082)scale(0.1 -0.1)\">\n     <use xlink:href=\"#DejaVuSans-104\"/>\n     <use x=\"63.378906\" xlink:href=\"#DejaVuSans-97\"/>\n     <use x=\"124.658203\" xlink:href=\"#DejaVuSans-118\"/>\n     <use x=\"183.837891\" xlink:href=\"#DejaVuSans-101\"/>\n    </g>\n   </g>\n   <g id=\"text_69\">\n    <!-- avoir -->\n    <g style=\"fill:#0000ff;\" transform=\"translate(159.319807 63.684607)scale(0.1 -0.1)\">\n     <use xlink:href=\"#DejaVuSans-97\"/>\n     <use x=\"61.279297\" xlink:href=\"#DejaVuSans-118\"/>\n     <use x=\"120.458984\" xlink:href=\"#DejaVuSans-111\"/>\n     <use x=\"181.640625\" xlink:href=\"#DejaVuSans-105\"/>\n     <use x=\"209.423828\" xlink:href=\"#DejaVuSans-114\"/>\n    </g>\n   </g>\n   <g id=\"text_70\">\n    <!-- have -->\n    <g style=\"fill:#ff0000;\" transform=\"translate(118.125658 55.336082)scale(0.1 -0.1)\">\n     <use xlink:href=\"#DejaVuSans-104\"/>\n     <use x=\"63.378906\" xlink:href=\"#DejaVuSans-97\"/>\n     <use x=\"124.658203\" xlink:href=\"#DejaVuSans-118\"/>\n     <use x=\"183.837891\" xlink:href=\"#DejaVuSans-101\"/>\n    </g>\n   </g>\n   <g id=\"text_71\">\n    <!-- ont -->\n    <g style=\"fill:#0000ff;\" transform=\"translate(202.03712 87.278941)scale(0.1 -0.1)\">\n     <use xlink:href=\"#DejaVuSans-111\"/>\n     <use x=\"61.181641\" xlink:href=\"#DejaVuSans-110\"/>\n     <use x=\"124.560547\" xlink:href=\"#DejaVuSans-116\"/>\n    </g>\n   </g>\n   <g id=\"text_72\">\n    <!-- one -->\n    <g style=\"fill:#ff0000;\" transform=\"translate(215.908275 119.094328)scale(0.1 -0.1)\">\n     <use xlink:href=\"#DejaVuSans-111\"/>\n     <use x=\"61.181641\" xlink:href=\"#DejaVuSans-110\"/>\n     <use x=\"124.560547\" xlink:href=\"#DejaVuSans-101\"/>\n    </g>\n   </g>\n   <g id=\"text_73\">\n    <!-- un -->\n    <g style=\"fill:#0000ff;\" transform=\"translate(70.384811 131.803038)scale(0.1 -0.1)\">\n     <use xlink:href=\"#DejaVuSans-117\"/>\n     <use x=\"63.378906\" xlink:href=\"#DejaVuSans-110\"/>\n    </g>\n   </g>\n   <g id=\"text_74\">\n    <!-- one -->\n    <g style=\"fill:#ff0000;\" transform=\"translate(215.908275 119.094328)scale(0.1 -0.1)\">\n     <use xlink:href=\"#DejaVuSans-111\"/>\n     <use x=\"61.181641\" xlink:href=\"#DejaVuSans-110\"/>\n     <use x=\"124.560547\" xlink:href=\"#DejaVuSans-101\"/>\n    </g>\n   </g>\n   <g id=\"text_75\">\n    <!-- une -->\n    <g style=\"fill:#0000ff;\" transform=\"translate(66.081932 139.819672)scale(0.1 -0.1)\">\n     <use xlink:href=\"#DejaVuSans-117\"/>\n     <use x=\"63.378906\" xlink:href=\"#DejaVuSans-110\"/>\n     <use x=\"126.757812\" xlink:href=\"#DejaVuSans-101\"/>\n    </g>\n   </g>\n   <g id=\"text_76\">\n    <!-- new -->\n    <g style=\"fill:#ff0000;\" transform=\"translate(190.971467 94.238383)scale(0.1 -0.1)\">\n     <use xlink:href=\"#DejaVuSans-110\"/>\n     <use x=\"63.378906\" xlink:href=\"#DejaVuSans-101\"/>\n     <use x=\"124.902344\" xlink:href=\"#DejaVuSans-119\"/>\n    </g>\n   </g>\n   <g id=\"text_77\">\n    <!-- nouveau -->\n    <g style=\"fill:#0000ff;\" transform=\"translate(140.44813 129.330159)scale(0.1 -0.1)\">\n     <use xlink:href=\"#DejaVuSans-110\"/>\n     <use x=\"63.378906\" xlink:href=\"#DejaVuSans-111\"/>\n     <use x=\"124.560547\" xlink:href=\"#DejaVuSans-117\"/>\n     <use x=\"187.939453\" xlink:href=\"#DejaVuSans-118\"/>\n     <use x=\"247.119141\" xlink:href=\"#DejaVuSans-101\"/>\n     <use x=\"308.642578\" xlink:href=\"#DejaVuSans-97\"/>\n     <use x=\"369.921875\" xlink:href=\"#DejaVuSans-117\"/>\n    </g>\n   </g>\n   <g id=\"text_78\">\n    <!-- new -->\n    <g style=\"fill:#ff0000;\" transform=\"translate(190.971467 94.238383)scale(0.1 -0.1)\">\n     <use xlink:href=\"#DejaVuSans-110\"/>\n     <use x=\"63.378906\" xlink:href=\"#DejaVuSans-101\"/>\n     <use x=\"124.902344\" xlink:href=\"#DejaVuSans-119\"/>\n    </g>\n   </g>\n   <g id=\"text_79\">\n    <!-- nouvelle -->\n    <g style=\"fill:#0000ff;\" transform=\"translate(167.249788 127.603008)scale(0.1 -0.1)\">\n     <use xlink:href=\"#DejaVuSans-110\"/>\n     <use x=\"63.378906\" xlink:href=\"#DejaVuSans-111\"/>\n     <use x=\"124.560547\" xlink:href=\"#DejaVuSans-117\"/>\n     <use x=\"187.939453\" xlink:href=\"#DejaVuSans-118\"/>\n     <use x=\"247.119141\" xlink:href=\"#DejaVuSans-101\"/>\n     <use x=\"308.642578\" xlink:href=\"#DejaVuSans-108\"/>\n     <use x=\"336.425781\" xlink:href=\"#DejaVuSans-108\"/>\n     <use x=\"364.208984\" xlink:href=\"#DejaVuSans-101\"/>\n    </g>\n   </g>\n   <g id=\"text_80\">\n    <!-- you -->\n    <defs>\n     <path d=\"M 32.171875 -5.078125 \nQ 28.375 -14.84375 24.75 -17.8125 \nQ 21.140625 -20.796875 15.09375 -20.796875 \nL 7.90625 -20.796875 \nL 7.90625 -13.28125 \nL 13.1875 -13.28125 \nQ 16.890625 -13.28125 18.9375 -11.515625 \nQ 21 -9.765625 23.484375 -3.21875 \nL 25.09375 0.875 \nL 2.984375 54.6875 \nL 12.5 54.6875 \nL 29.59375 11.921875 \nL 46.6875 54.6875 \nL 56.203125 54.6875 \nz\n\" id=\"DejaVuSans-121\"/>\n    </defs>\n    <g style=\"fill:#ff0000;\" transform=\"translate(188.785707 121.432839)scale(0.1 -0.1)\">\n     <use xlink:href=\"#DejaVuSans-121\"/>\n     <use x=\"59.179688\" xlink:href=\"#DejaVuSans-111\"/>\n     <use x=\"120.361328\" xlink:href=\"#DejaVuSans-117\"/>\n    </g>\n   </g>\n   <g id=\"text_81\">\n    <!-- vous -->\n    <g style=\"fill:#0000ff;\" transform=\"translate(132.556795 136.666013)scale(0.1 -0.1)\">\n     <use xlink:href=\"#DejaVuSans-118\"/>\n     <use x=\"59.179688\" xlink:href=\"#DejaVuSans-111\"/>\n     <use x=\"120.361328\" xlink:href=\"#DejaVuSans-117\"/>\n     <use x=\"183.740234\" xlink:href=\"#DejaVuSans-115\"/>\n    </g>\n   </g>\n   <g id=\"text_82\">\n    <!-- they -->\n    <g style=\"fill:#ff0000;\" transform=\"translate(193.974096 73.740564)scale(0.1 -0.1)\">\n     <use xlink:href=\"#DejaVuSans-116\"/>\n     <use x=\"39.208984\" xlink:href=\"#DejaVuSans-104\"/>\n     <use x=\"102.587891\" xlink:href=\"#DejaVuSans-101\"/>\n     <use x=\"164.111328\" xlink:href=\"#DejaVuSans-121\"/>\n    </g>\n   </g>\n   <g id=\"text_83\">\n    <!-- elles -->\n    <g style=\"fill:#0000ff;\" transform=\"translate(180.351101 116.984461)scale(0.1 -0.1)\">\n     <use xlink:href=\"#DejaVuSans-101\"/>\n     <use x=\"61.523438\" xlink:href=\"#DejaVuSans-108\"/>\n     <use x=\"89.306641\" xlink:href=\"#DejaVuSans-108\"/>\n     <use x=\"117.089844\" xlink:href=\"#DejaVuSans-101\"/>\n     <use x=\"178.613281\" xlink:href=\"#DejaVuSans-115\"/>\n    </g>\n   </g>\n   <g id=\"text_84\">\n    <!-- they -->\n    <g style=\"fill:#ff0000;\" transform=\"translate(193.974096 73.740564)scale(0.1 -0.1)\">\n     <use xlink:href=\"#DejaVuSans-116\"/>\n     <use x=\"39.208984\" xlink:href=\"#DejaVuSans-104\"/>\n     <use x=\"102.587891\" xlink:href=\"#DejaVuSans-101\"/>\n     <use x=\"164.111328\" xlink:href=\"#DejaVuSans-121\"/>\n    </g>\n   </g>\n   <g id=\"text_85\">\n    <!-- ils -->\n    <g style=\"fill:#0000ff;\" transform=\"translate(160.94091 108.417758)scale(0.1 -0.1)\">\n     <use xlink:href=\"#DejaVuSans-105\"/>\n     <use x=\"27.783203\" xlink:href=\"#DejaVuSans-108\"/>\n     <use x=\"55.566406\" xlink:href=\"#DejaVuSans-115\"/>\n    </g>\n   </g>\n   <g id=\"text_86\">\n    <!-- had -->\n    <g style=\"fill:#ff0000;\" transform=\"translate(115.49647 40.991086)scale(0.1 -0.1)\">\n     <use xlink:href=\"#DejaVuSans-104\"/>\n     <use x=\"63.378906\" xlink:href=\"#DejaVuSans-97\"/>\n     <use x=\"124.658203\" xlink:href=\"#DejaVuSans-100\"/>\n    </g>\n   </g>\n   <g id=\"text_87\">\n    <!-- avait -->\n    <g style=\"fill:#0000ff;\" transform=\"translate(196.575593 81.066793)scale(0.1 -0.1)\">\n     <use xlink:href=\"#DejaVuSans-97\"/>\n     <use x=\"61.279297\" xlink:href=\"#DejaVuSans-118\"/>\n     <use x=\"120.458984\" xlink:href=\"#DejaVuSans-97\"/>\n     <use x=\"181.738281\" xlink:href=\"#DejaVuSans-105\"/>\n     <use x=\"209.521484\" xlink:href=\"#DejaVuSans-116\"/>\n    </g>\n   </g>\n   <g id=\"text_88\">\n    <!-- had -->\n    <g style=\"fill:#ff0000;\" transform=\"translate(115.49647 40.991086)scale(0.1 -0.1)\">\n     <use xlink:href=\"#DejaVuSans-104\"/>\n     <use x=\"63.378906\" xlink:href=\"#DejaVuSans-97\"/>\n     <use x=\"124.658203\" xlink:href=\"#DejaVuSans-100\"/>\n    </g>\n   </g>\n   <g id=\"text_89\">\n    <!-- avaient -->\n    <g style=\"fill:#0000ff;\" transform=\"translate(203.684914 121.536659)scale(0.1 -0.1)\">\n     <use xlink:href=\"#DejaVuSans-97\"/>\n     <use x=\"61.279297\" xlink:href=\"#DejaVuSans-118\"/>\n     <use x=\"120.458984\" xlink:href=\"#DejaVuSans-97\"/>\n     <use x=\"181.738281\" xlink:href=\"#DejaVuSans-105\"/>\n     <use x=\"209.521484\" xlink:href=\"#DejaVuSans-101\"/>\n     <use x=\"271.044922\" xlink:href=\"#DejaVuSans-110\"/>\n     <use x=\"334.423828\" xlink:href=\"#DejaVuSans-116\"/>\n    </g>\n   </g>\n   <g id=\"text_90\">\n    <!-- had -->\n    <g style=\"fill:#ff0000;\" transform=\"translate(115.49647 40.991086)scale(0.1 -0.1)\">\n     <use xlink:href=\"#DejaVuSans-104\"/>\n     <use x=\"63.378906\" xlink:href=\"#DejaVuSans-97\"/>\n     <use x=\"124.658203\" xlink:href=\"#DejaVuSans-100\"/>\n    </g>\n   </g>\n   <g id=\"text_91\">\n    <!-- avais -->\n    <g style=\"fill:#0000ff;\" transform=\"translate(163.712196 155.252101)scale(0.1 -0.1)\">\n     <use xlink:href=\"#DejaVuSans-97\"/>\n     <use x=\"61.279297\" xlink:href=\"#DejaVuSans-118\"/>\n     <use x=\"120.458984\" xlink:href=\"#DejaVuSans-97\"/>\n     <use x=\"181.738281\" xlink:href=\"#DejaVuSans-105\"/>\n     <use x=\"209.521484\" xlink:href=\"#DejaVuSans-115\"/>\n    </g>\n   </g>\n   <g id=\"text_92\">\n    <!-- who -->\n    <g style=\"fill:#ff0000;\" transform=\"translate(136.234812 112.737373)scale(0.1 -0.1)\">\n     <use xlink:href=\"#DejaVuSans-119\"/>\n     <use x=\"81.787109\" xlink:href=\"#DejaVuSans-104\"/>\n     <use x=\"145.166016\" xlink:href=\"#DejaVuSans-111\"/>\n    </g>\n   </g>\n   <g id=\"text_93\">\n    <!-- qui -->\n    <g style=\"fill:#0000ff;\" transform=\"translate(231.983195 177.606368)scale(0.1 -0.1)\">\n     <use xlink:href=\"#DejaVuSans-113\"/>\n     <use x=\"63.476562\" xlink:href=\"#DejaVuSans-117\"/>\n     <use x=\"126.855469\" xlink:href=\"#DejaVuSans-105\"/>\n    </g>\n   </g>\n   <g id=\"text_94\">\n    <!-- all -->\n    <g style=\"fill:#ff0000;\" transform=\"translate(195.286688 169.886697)scale(0.1 -0.1)\">\n     <use xlink:href=\"#DejaVuSans-97\"/>\n     <use x=\"61.279297\" xlink:href=\"#DejaVuSans-108\"/>\n     <use x=\"89.0625\" xlink:href=\"#DejaVuSans-108\"/>\n    </g>\n   </g>\n   <g id=\"text_95\">\n    <!-- toute -->\n    <g style=\"fill:#0000ff;\" transform=\"translate(179.55489 140.934098)scale(0.1 -0.1)\">\n     <use xlink:href=\"#DejaVuSans-116\"/>\n     <use x=\"39.208984\" xlink:href=\"#DejaVuSans-111\"/>\n     <use x=\"100.390625\" xlink:href=\"#DejaVuSans-117\"/>\n     <use x=\"163.769531\" xlink:href=\"#DejaVuSans-116\"/>\n     <use x=\"202.978516\" xlink:href=\"#DejaVuSans-101\"/>\n    </g>\n   </g>\n   <g id=\"text_96\">\n    <!-- all -->\n    <g style=\"fill:#ff0000;\" transform=\"translate(195.286688 169.886697)scale(0.1 -0.1)\">\n     <use xlink:href=\"#DejaVuSans-97\"/>\n     <use x=\"61.279297\" xlink:href=\"#DejaVuSans-108\"/>\n     <use x=\"89.0625\" xlink:href=\"#DejaVuSans-108\"/>\n    </g>\n   </g>\n   <g id=\"text_97\">\n    <!-- toutes -->\n    <g style=\"fill:#0000ff;\" transform=\"translate(150.025801 153.129605)scale(0.1 -0.1)\">\n     <use xlink:href=\"#DejaVuSans-116\"/>\n     <use x=\"39.208984\" xlink:href=\"#DejaVuSans-111\"/>\n     <use x=\"100.390625\" xlink:href=\"#DejaVuSans-117\"/>\n     <use x=\"163.769531\" xlink:href=\"#DejaVuSans-116\"/>\n     <use x=\"202.978516\" xlink:href=\"#DejaVuSans-101\"/>\n     <use x=\"264.501953\" xlink:href=\"#DejaVuSans-115\"/>\n    </g>\n   </g>\n   <g id=\"text_98\">\n    <!-- all -->\n    <g style=\"fill:#ff0000;\" transform=\"translate(195.286688 169.886697)scale(0.1 -0.1)\">\n     <use xlink:href=\"#DejaVuSans-97\"/>\n     <use x=\"61.279297\" xlink:href=\"#DejaVuSans-108\"/>\n     <use x=\"89.0625\" xlink:href=\"#DejaVuSans-108\"/>\n    </g>\n   </g>\n   <g id=\"text_99\">\n    <!-- tous -->\n    <g style=\"fill:#0000ff;\" transform=\"translate(138.922518 133.742884)scale(0.1 -0.1)\">\n     <use xlink:href=\"#DejaVuSans-116\"/>\n     <use x=\"39.208984\" xlink:href=\"#DejaVuSans-111\"/>\n     <use x=\"100.390625\" xlink:href=\"#DejaVuSans-117\"/>\n     <use x=\"163.769531\" xlink:href=\"#DejaVuSans-115\"/>\n    </g>\n   </g>\n   <g id=\"text_100\">\n    <!-- all -->\n    <g style=\"fill:#ff0000;\" transform=\"translate(195.286688 169.886697)scale(0.1 -0.1)\">\n     <use xlink:href=\"#DejaVuSans-97\"/>\n     <use x=\"61.279297\" xlink:href=\"#DejaVuSans-108\"/>\n     <use x=\"89.0625\" xlink:href=\"#DejaVuSans-108\"/>\n    </g>\n   </g>\n   <g id=\"text_101\">\n    <!-- tout -->\n    <g style=\"fill:#0000ff;\" transform=\"translate(117.596651 143.931277)scale(0.1 -0.1)\">\n     <use xlink:href=\"#DejaVuSans-116\"/>\n     <use x=\"39.208984\" xlink:href=\"#DejaVuSans-111\"/>\n     <use x=\"100.390625\" xlink:href=\"#DejaVuSans-117\"/>\n     <use x=\"163.769531\" xlink:href=\"#DejaVuSans-116\"/>\n    </g>\n   </g>\n   <g id=\"text_102\">\n    <!-- their -->\n    <g style=\"fill:#ff0000;\" transform=\"translate(189.950834 151.985293)scale(0.1 -0.1)\">\n     <use xlink:href=\"#DejaVuSans-116\"/>\n     <use x=\"39.208984\" xlink:href=\"#DejaVuSans-104\"/>\n     <use x=\"102.587891\" xlink:href=\"#DejaVuSans-101\"/>\n     <use x=\"164.111328\" xlink:href=\"#DejaVuSans-105\"/>\n     <use x=\"191.894531\" xlink:href=\"#DejaVuSans-114\"/>\n    </g>\n   </g>\n   <g id=\"text_103\">\n    <!-- leur -->\n    <g style=\"fill:#0000ff;\" transform=\"translate(152.001624 79.074649)scale(0.1 -0.1)\">\n     <use xlink:href=\"#DejaVuSans-108\"/>\n     <use x=\"27.783203\" xlink:href=\"#DejaVuSans-101\"/>\n     <use x=\"89.306641\" xlink:href=\"#DejaVuSans-117\"/>\n     <use x=\"152.685547\" xlink:href=\"#DejaVuSans-114\"/>\n    </g>\n   </g>\n   <g id=\"text_104\">\n    <!-- their -->\n    <g style=\"fill:#ff0000;\" transform=\"translate(189.950834 151.985293)scale(0.1 -0.1)\">\n     <use xlink:href=\"#DejaVuSans-116\"/>\n     <use x=\"39.208984\" xlink:href=\"#DejaVuSans-104\"/>\n     <use x=\"102.587891\" xlink:href=\"#DejaVuSans-101\"/>\n     <use x=\"164.111328\" xlink:href=\"#DejaVuSans-105\"/>\n     <use x=\"191.894531\" xlink:href=\"#DejaVuSans-114\"/>\n    </g>\n   </g>\n   <g id=\"text_105\">\n    <!-- leurs -->\n    <g style=\"fill:#0000ff;\" transform=\"translate(189.762689 117.899434)scale(0.1 -0.1)\">\n     <use xlink:href=\"#DejaVuSans-108\"/>\n     <use x=\"27.783203\" xlink:href=\"#DejaVuSans-101\"/>\n     <use x=\"89.306641\" xlink:href=\"#DejaVuSans-117\"/>\n     <use x=\"152.685547\" xlink:href=\"#DejaVuSans-114\"/>\n     <use x=\"193.798828\" xlink:href=\"#DejaVuSans-115\"/>\n    </g>\n   </g>\n   <g id=\"text_106\">\n    <!-- made -->\n    <g style=\"fill:#ff0000;\" transform=\"translate(145.123565 123.507407)scale(0.1 -0.1)\">\n     <use xlink:href=\"#DejaVuSans-109\"/>\n     <use x=\"97.412109\" xlink:href=\"#DejaVuSans-97\"/>\n     <use x=\"158.691406\" xlink:href=\"#DejaVuSans-100\"/>\n     <use x=\"222.167969\" xlink:href=\"#DejaVuSans-101\"/>\n    </g>\n   </g>\n   <g id=\"text_107\">\n    <!-- fait -->\n    <g style=\"fill:#0000ff;\" transform=\"translate(191.995072 150.777509)scale(0.1 -0.1)\">\n     <use xlink:href=\"#DejaVuSans-102\"/>\n     <use x=\"35.205078\" xlink:href=\"#DejaVuSans-97\"/>\n     <use x=\"96.484375\" xlink:href=\"#DejaVuSans-105\"/>\n     <use x=\"124.267578\" xlink:href=\"#DejaVuSans-116\"/>\n    </g>\n   </g>\n   <g id=\"text_108\">\n    <!-- its -->\n    <g style=\"fill:#ff0000;\" transform=\"translate(281.54003 128.320805)scale(0.1 -0.1)\">\n     <use xlink:href=\"#DejaVuSans-105\"/>\n     <use x=\"27.783203\" xlink:href=\"#DejaVuSans-116\"/>\n     <use x=\"66.992188\" xlink:href=\"#DejaVuSans-115\"/>\n    </g>\n   </g>\n   <g id=\"text_109\">\n    <!-- sa -->\n    <g style=\"fill:#0000ff;\" transform=\"translate(98.653123 168.204976)scale(0.1 -0.1)\">\n     <use xlink:href=\"#DejaVuSans-115\"/>\n     <use x=\"52.099609\" xlink:href=\"#DejaVuSans-97\"/>\n    </g>\n   </g>\n   <g id=\"text_110\">\n    <!-- its -->\n    <g style=\"fill:#ff0000;\" transform=\"translate(281.54003 128.320805)scale(0.1 -0.1)\">\n     <use xlink:href=\"#DejaVuSans-105\"/>\n     <use x=\"27.783203\" xlink:href=\"#DejaVuSans-116\"/>\n     <use x=\"66.992188\" xlink:href=\"#DejaVuSans-115\"/>\n    </g>\n   </g>\n   <g id=\"text_111\">\n    <!-- ses -->\n    <g style=\"fill:#0000ff;\" transform=\"translate(77.605562 114.163878)scale(0.1 -0.1)\">\n     <use xlink:href=\"#DejaVuSans-115\"/>\n     <use x=\"52.099609\" xlink:href=\"#DejaVuSans-101\"/>\n     <use x=\"113.623047\" xlink:href=\"#DejaVuSans-115\"/>\n    </g>\n   </g>\n  </g>\n </g>\n <defs>\n  <clipPath id=\"pc0a4a52cac\">\n   <rect height=\"217.44\" width=\"334.8\" x=\"28.942188\" y=\"7.2\"/>\n  </clipPath>\n </defs>\n</svg>\n"
          },
          "metadata": {
            "needs_background": "light"
          }
        }
      ]
    },
    {
      "cell_type": "code",
      "source": [],
      "metadata": {
        "id": "wQj0WbBFYOnI"
      },
      "execution_count": null,
      "outputs": []
    },
    {
      "cell_type": "code",
      "source": [
        "def translate(word, en_words, fr_words, en_embs, fr_embs, top, mode='EN'):\n",
        "  similarities = {}\n",
        "  if mode == 'EN':\n",
        "    word_idx = fr_words.index(word)\n",
        "    print(f'target word : {word}\\n index : {word_idx}')\n",
        "    #print('---------------------')\n",
        "    for idx,w in enumerate(en_words):\n",
        "      similarities[w] = cosine_similarity(en_embs[idx], np.dot(transformation_matrix, fr_embs[word_idx]))\n",
        "    top_dict = list({k: v for k, v in sorted(similarities.items(), key=lambda item: item[1])}.items())[-top:]\n",
        "    #for k,v in top_dict:\n",
        "      #print(f'mapped word : {k}\\n index : {en_words.index(k)} \\n score : {v}')\n",
        "      #print(top_dict)\n",
        "      #print('###################')\n",
        "    return word_idx,top_dict"
      ],
      "metadata": {
        "id": "dd9y1W5uRsx_"
      },
      "execution_count": null,
      "outputs": []
    },
    {
      "cell_type": "code",
      "source": [
        "def compute_performance(en_words, fr_words, en_embs, fr_embs, top):\n",
        "  perf = 0.\n",
        "  for word in fr_words:\n",
        "    gt_word_idx, top_similarities = translate(word, en_words, fr_words, en_embs, fr_embs, top=5)\n",
        "    if gt_word_idx in [en_words.index(k[0]) for k in top_similarities]:\n",
        "      perf += 1\n",
        "  return 100 * perf/len(fr_words)"
      ],
      "metadata": {
        "id": "n7p2QfU_X9Fv"
      },
      "execution_count": null,
      "outputs": []
    },
    {
      "cell_type": "code",
      "source": [
        "compute_performance(words_en, words_fr,en_embeddings,fr_embeddings,5)"
      ],
      "metadata": {
        "id": "AtmFm5QFYFX3",
        "colab": {
          "base_uri": "https://localhost:8080/"
        },
        "outputId": "25f6d022-6071-41e9-df7d-2776f0119bd5"
      },
      "execution_count": null,
      "outputs": [
        {
          "output_type": "stream",
          "name": "stdout",
          "text": [
            "target word : le\n",
            " index : 0\n",
            "target word : les\n",
            " index : 1\n",
            "target word : la\n",
            " index : 2\n",
            "target word : et\n",
            " index : 3\n",
            "target word : etait\n",
            " index : 4\n",
            "target word : pour\n",
            " index : 5\n",
            "target word : que\n",
            " index : 6\n",
            "target word : cela\n",
            " index : 7\n",
            "target word : avec\n",
            " index : 8\n",
            "target word : du\n",
            " index : 9\n",
            "target word : de\n",
            " index : 10\n",
            "target word : depuis\n",
            " index : 11\n",
            "target word : ceci\n",
            " index : 12\n",
            "target word : cet\n",
            " index : 13\n",
            "target word : cette\n",
            " index : 14\n",
            "target word : cela\n",
            " index : 7\n",
            "target word : ce\n",
            " index : 16\n",
            "target word : sa\n",
            " index : 17\n",
            "target word : ses\n",
            " index : 18\n",
            "target word : son\n",
            " index : 19\n",
            "target word : non\n",
            " index : 20\n",
            "target word : pas\n",
            " index : 21\n",
            "target word : sont\n",
            " index : 22\n",
            "target word : laquelle\n",
            " index : 23\n",
            "target word : lequel\n",
            " index : 24\n",
            "target word : aussi\n",
            " index : 25\n",
            "target word : egalement\n",
            " index : 26\n",
            "target word : mais\n",
            " index : 27\n",
            "target word : avoir\n",
            " index : 28\n",
            "target word : ont\n",
            " index : 29\n",
            "target word : un\n",
            " index : 30\n",
            "target word : une\n",
            " index : 31\n",
            "target word : nouveau\n",
            " index : 32\n",
            "target word : nouvelle\n",
            " index : 33\n",
            "target word : vous\n",
            " index : 34\n",
            "target word : elles\n",
            " index : 35\n",
            "target word : ils\n",
            " index : 36\n",
            "target word : avait\n",
            " index : 37\n",
            "target word : avaient\n",
            " index : 38\n",
            "target word : avais\n",
            " index : 39\n",
            "target word : qui\n",
            " index : 40\n",
            "target word : toute\n",
            " index : 41\n",
            "target word : toutes\n",
            " index : 42\n",
            "target word : tous\n",
            " index : 43\n",
            "target word : tout\n",
            " index : 44\n",
            "target word : leur\n",
            " index : 45\n",
            "target word : leurs\n",
            " index : 46\n",
            "target word : fait\n",
            " index : 47\n",
            "target word : sa\n",
            " index : 17\n",
            "target word : ses\n",
            " index : 18\n",
            "target word : son\n",
            " index : 19\n",
            "target word : gens\n",
            " index : 51\n",
            "target word : personnes\n",
            " index : 52\n",
            "target word : peut\n",
            " index : 53\n",
            "target word : apres\n",
            " index : 54\n",
            "target word : autre\n",
            " index : 55\n",
            "target word : autres\n",
            " index : 56\n",
            "target word : devrait\n",
            " index : 57\n",
            "target word : deux\n",
            " index : 58\n",
            "target word : peuvent\n",
            " index : 59\n",
            "target word : peux\n",
            " index : 60\n",
            "target word : peut\n",
            " index : 53\n",
            "target word : serait\n",
            " index : 62\n",
            "target word : plus\n",
            " index : 63\n",
            "target word : elle\n",
            " index : 64\n",
            "target word : lorsque\n",
            " index : 65\n",
            "target word : quand\n",
            " index : 66\n",
            "target word : temps\n",
            " index : 67\n",
            "target word : tel\n",
            " index : 68\n",
            "target word : telle\n",
            " index : 69\n",
            "target word : telles\n",
            " index : 70\n",
            "target word : seul\n",
            " index : 71\n",
            "target word : seulement\n",
            " index : 72\n",
            "target word : seule\n",
            " index : 73\n",
            "target word : certains\n",
            " index : 74\n",
            "target word : certaines\n",
            " index : 75\n",
            "target word : quelques\n",
            " index : 76\n",
            "target word : ans\n",
            " index : 77\n",
            "target word : pendant\n",
            " index : 78\n",
            "target word : lors\n",
            " index : 79\n",
            "target word : dehors\n",
            " index : 80\n",
            "target word : etats\n",
            " index : 81\n",
            "target word : national\n",
            " index : 82\n",
            "target word : annee\n",
            " index : 83\n",
            "target word : an\n",
            " index : 84\n",
            "target word : ensuite\n",
            " index : 85\n",
            "target word : alors\n",
            " index : 86\n",
            "target word : puis\n",
            " index : 87\n",
            "target word : sera\n",
            " index : 88\n",
            "target word : quoi\n",
            " index : 89\n",
            "target word : quelle\n",
            " index : 90\n",
            "target word : ces\n",
            " index : 91\n",
            "target word : janvier\n",
            " index : 92\n",
            "target word : marche\n",
            " index : 93\n",
            "target word : mars\n",
            " index : 94\n",
            "target word : juillet\n",
            " index : 95\n",
            "target word : etre\n",
            " index : 96\n",
            "target word : lui\n",
            " index : 97\n",
            "target word : nombreux\n",
            " index : 98\n",
            "target word : beaucoup\n",
            " index : 99\n",
            "target word : nombreuses\n",
            " index : 100\n",
            "target word : plusieurs\n",
            " index : 101\n",
            "target word : sud\n",
            " index : 102\n",
            "target word : septembre\n",
            " index : 103\n",
            "target word : comme\n",
            " index : 104\n",
            "target word : entre\n",
            " index : 105\n",
            "target word : trois\n",
            " index : 106\n",
            "target word : bien\n",
            " index : 107\n",
            "target word : sous\n",
            " index : 108\n",
            "target word : decembre\n",
            " index : 109\n",
            "target word : partie\n",
            " index : 110\n",
            "target word : novembre\n",
            " index : 111\n",
            "target word : fevrier\n",
            " index : 112\n",
            "target word : deuxieme\n",
            " index : 113\n",
            "target word : groupe\n",
            " index : 114\n",
            "target word : juste\n",
            " index : 115\n",
            "target word : nord\n",
            " index : 116\n",
            "target word : travaux\n",
            " index : 117\n",
            "target word : travail\n",
            " index : 118\n",
            "target word : avant\n",
            " index : 119\n",
            "target word : depuis\n",
            " index : 11\n",
            "target word : haut\n",
            " index : 121\n",
            "target word : maintenant\n",
            " index : 122\n",
            "target word : remarques\n",
            " index : 123\n",
            "target word : parce\n",
            " index : 124\n",
            "target word : car\n",
            " index : 125\n",
            "target word : toutefois\n",
            " index : 126\n",
            "target word : cependant\n",
            " index : 127\n",
            "target word : meme\n",
            " index : 128\n",
            "target word : incluant\n",
            " index : 129\n",
            "target word : pourrait\n",
            " index : 130\n",
            "target word : nombre\n",
            " index : 131\n",
            "target word : contre\n",
            " index : 132\n",
            "target word : domaine\n",
            " index : 133\n",
            "target word : international\n",
            " index : 134\n",
            "target word : internationaux\n",
            " index : 135\n",
            "target word : votre\n",
            " index : 136\n",
            "target word : tres\n",
            " index : 137\n",
            "target word : jour\n",
            " index : 138\n",
            "target word : journee\n",
            " index : 139\n",
            "target word : plusieurs\n",
            " index : 101\n",
            "target word : place\n",
            " index : 141\n",
            "target word : lieu\n",
            " index : 142\n",
            "target word : partie\n",
            " index : 110\n",
            "target word : parti\n",
            " index : 144\n",
            "target word : quatre\n",
            " index : 145\n",
            "target word : meme\n",
            " index : 128\n",
            "target word : comment\n",
            " index : 147\n",
            "target word : long\n",
            " index : 148\n",
            "target word : dos\n",
            " index : 149\n",
            "target word : faire\n",
            " index : 150\n",
            "target word : public\n",
            " index : 151\n",
            "target word : ceux\n",
            " index : 152\n",
            "target word : ligne\n",
            " index : 153\n",
            "target word : membres\n",
            " index : 154\n",
            "target word : bien\n",
            " index : 107\n",
            "target word : bonne\n",
            " index : 156\n",
            "target word : bon\n",
            " index : 157\n",
            "target word : bonnes\n",
            " index : 158\n",
            "target word : beaucoup\n",
            " index : 99\n",
            "target word : encore\n",
            " index : 160\n",
            "target word : toujours\n",
            " index : 161\n",
            "target word : pense\n",
            " index : 162\n",
            "target word : dernier\n",
            " index : 163\n",
            "target word : derniers\n",
            " index : 164\n",
            "target word : droit\n",
            " index : 165\n",
            "target word : compris\n",
            " index : 166\n",
            "target word : membres\n",
            " index : 154\n",
            "target word : ordre\n",
            " index : 168\n",
            "target word : informations\n",
            " index : 169\n",
            "target word : information\n",
            " index : 170\n",
            "target word : propre\n",
            " index : 171\n",
            "target word : textes\n",
            " index : 172\n",
            "target word : texte\n",
            " index : 173\n",
            "target word : point\n",
            " index : 174\n",
            "target word : francais\n",
            " index : 175\n",
            "target word : originale\n",
            " index : 176\n",
            "target word : original\n",
            " index : 177\n",
            "target word : dit\n",
            " index : 178\n",
            "target word : droit\n",
            " index : 165\n",
            "target word : grande\n",
            " index : 180\n",
            "target word : grand\n",
            " index : 181\n",
            "target word : cas\n",
            " index : 182\n",
            "target word : affaire\n",
            " index : 183\n",
            "target word : londres\n",
            " index : 184\n",
            "target word : fois\n",
            " index : 185\n",
            "target word : communaute\n",
            " index : 186\n",
            "target word : encore\n",
            " index : 160\n",
            "target word : sans\n",
            " index : 188\n",
            "target word : mort\n",
            " index : 189\n",
            "target word : grande\n",
            " index : 180\n",
            "target word : grandes\n",
            " index : 191\n",
            "target word : grand\n",
            " index : 181\n",
            "target word : cinq\n",
            " index : 193\n",
            "target word : route\n",
            " index : 194\n",
            "target word : inclure\n",
            " index : 195\n",
            "target word : homme\n",
            " index : 196\n",
            "target word : rapport\n",
            " index : 197\n",
            "target word : batiment\n",
            " index : 198\n",
            "target word : prendre\n",
            " index : 199\n",
            "target word : ayant\n",
            " index : 200\n",
            "target word : avoir\n",
            " index : 28\n",
            "target word : souvent\n",
            " index : 202\n",
            "target word : peu\n",
            " index : 203\n",
            "target word : pouvoir\n",
            " index : 204\n",
            "target word : connaitre\n",
            " index : 205\n",
            "target word : sais\n",
            " index : 206\n",
            "target word : savoir\n",
            " index : 207\n",
            "target word : forme\n",
            " index : 208\n",
            "target word : projet\n",
            " index : 209\n",
            "target word : chaque\n",
            " index : 210\n",
            "target word : exemple\n",
            " index : 211\n",
            "target word : prochain\n",
            " index : 212\n",
            "target word : prochaine\n",
            " index : 213\n",
            "target word : petit\n",
            " index : 214\n",
            "target word : peu\n",
            " index : 203\n",
            "target word : conseil\n",
            " index : 216\n",
            "target word : autres\n",
            " index : 56\n",
            "target word : trop\n",
            " index : 218\n",
            "target word : parmi\n",
            " index : 219\n",
            "target word : position\n",
            " index : 220\n",
            "target word : jamais\n",
            " index : 221\n",
            "target word : niveau\n",
            " index : 222\n",
            "target word : divers\n",
            " index : 223\n",
            "target word : jours\n",
            " index : 224\n",
            "target word : entreprises\n",
            " index : 225\n",
            "target word : six\n",
            " index : 226\n",
            "target word : pourquoi\n",
            " index : 227\n",
            "target word : sujet\n",
            " index : 228\n",
            "target word : jeune\n",
            " index : 229\n",
            "target word : importante\n",
            " index : 230\n",
            "target word : important\n",
            " index : 231\n",
            "target word : importantes\n",
            " index : 232\n",
            "target word : importants\n",
            " index : 233\n",
            "target word : presse\n",
            " index : 234\n",
            "target word : type\n",
            " index : 235\n",
            "target word : pourrait\n",
            " index : 130\n",
            "target word : dire\n",
            " index : 237\n",
            "target word : suffisamment\n",
            " index : 238\n",
            "target word : assez\n",
            " index : 239\n",
            "target word : soit\n",
            " index : 240\n",
            "target word : commune\n",
            " index : 241\n",
            "target word : meilleure\n",
            " index : 242\n",
            "target word : personne\n",
            " index : 243\n",
            "target word : services\n",
            " index : 244\n",
            "target word : deja\n",
            " index : 245\n",
            "target word : actuellement\n",
            " index : 246\n",
            "target word : date\n",
            " index : 247\n",
            "target word : semble\n",
            " index : 248\n",
            "target word : doit\n",
            " index : 249\n",
            "target word : doivent\n",
            " index : 250\n",
            "target word : oui\n",
            " index : 251\n",
            "target word : notre\n",
            " index : 252\n",
            "target word : nos\n",
            " index : 253\n",
            "target word : groupes\n",
            " index : 254\n",
            "target word : politiques\n",
            " index : 255\n",
            "target word : politique\n",
            " index : 256\n",
            "target word : evenements\n",
            " index : 257\n",
            "target word : fait\n",
            " index : 47\n",
            "target word : personnel\n",
            " index : 259\n",
            "target word : zones\n",
            " index : 260\n",
            "target word : vraiment\n",
            " index : 261\n",
            "target word : possible\n",
            " index : 262\n",
            "target word : prises\n",
            " index : 263\n",
            "target word : prise\n",
            " index : 264\n",
            "target word : loin\n",
            " index : 265\n",
            "target word : europe\n",
            " index : 266\n",
            "target word : lumiere\n",
            " index : 267\n",
            "target word : vu\n",
            " index : 268\n",
            "target word : veux\n",
            " index : 269\n",
            "target word : entreprises\n",
            " index : 225\n",
            "target word : mis\n",
            " index : 271\n",
            "target word : mettre\n",
            " index : 272\n",
            "target word : route\n",
            " index : 194\n",
            "target word : orientale\n",
            " index : 274\n",
            "target word : organisme\n",
            " index : 275\n",
            "target word : question\n",
            " index : 276\n",
            "target word : semaine\n",
            " index : 277\n",
            "target word : texas\n",
            " index : 278\n"
          ]
        },
        {
          "output_type": "execute_result",
          "data": {
            "text/plain": [
              "1.075268817204301"
            ]
          },
          "metadata": {},
          "execution_count": 41
        }
      ]
    },
    {
      "cell_type": "code",
      "source": [],
      "metadata": {
        "id": "A5P_M0oPZgd1"
      },
      "execution_count": null,
      "outputs": []
    }
  ]
}